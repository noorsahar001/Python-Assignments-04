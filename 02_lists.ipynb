{
  "nbformat": 4,
  "nbformat_minor": 0,
  "metadata": {
    "colab": {
      "provenance": [],
      "authorship_tag": "ABX9TyMXdG63WVUmaQAZCZkRRB21",
      "include_colab_link": true
    },
    "kernelspec": {
      "name": "python3",
      "display_name": "Python 3"
    },
    "language_info": {
      "name": "python"
    }
  },
  "cells": [
    {
      "cell_type": "markdown",
      "metadata": {
        "id": "view-in-github",
        "colab_type": "text"
      },
      "source": [
        "<a href=\"https://colab.research.google.com/github/noorsahar001/Python-Assignments-04/blob/main/02_lists.ipynb\" target=\"_parent\"><img src=\"https://colab.research.google.com/assets/colab-badge.svg\" alt=\"Open In Colab\"/></a>"
      ]
    },
    {
      "cell_type": "markdown",
      "source": [
        "#**02_lists**\n",
        "\n",
        "#01_add_many_number"
      ],
      "metadata": {
        "id": "a3-8TpPij1k2"
      }
    },
    {
      "cell_type": "code",
      "source": [
        "def add_many_numbers(numbers: list[int]) -> int:\n",
        "\n",
        "  total = 0\n",
        "  for number in numbers:\n",
        "    total += number\n",
        "  return total\n",
        "\n",
        "def main():\n",
        "  numbers = [1, 2, 3, 4, 5, 6, 7, 8, 9, 10]\n",
        "  sum_of_numbers = add_many_numbers(numbers)\n",
        "  print(sum_of_numbers)\n",
        "\n",
        "if __name__ == '__main__':\n",
        "  main()"
      ],
      "metadata": {
        "id": "UybSipHdkJNN",
        "colab": {
          "base_uri": "https://localhost:8080/"
        },
        "outputId": "474f0d25-7bef-4e41-c8cd-63b767a9ac78"
      },
      "execution_count": 3,
      "outputs": [
        {
          "output_type": "stream",
          "name": "stdout",
          "text": [
            "55\n"
          ]
        }
      ]
    },
    {
      "cell_type": "markdown",
      "source": [
        "#02_double_list"
      ],
      "metadata": {
        "id": "gCJ9extuk-Tm"
      }
    },
    {
      "cell_type": "code",
      "source": [
        "def main():\n",
        "  numbers: list[int] = [1, 2, 3, 4, 5, 6, 7]\n",
        "  doubled_numbers: list[int] = [num * 2 for num in numbers]\n",
        "  print(doubled_numbers)\n",
        "\n",
        "if __name__ == '__main__':\n",
        "  main()"
      ],
      "metadata": {
        "id": "6pK1Qa6HlQL_",
        "colab": {
          "base_uri": "https://localhost:8080/"
        },
        "outputId": "256bec22-825d-4a1d-e079-7ef1d4619a16"
      },
      "execution_count": 4,
      "outputs": [
        {
          "output_type": "stream",
          "name": "stdout",
          "text": [
            "[2, 4, 6, 8, 10, 12, 14]\n"
          ]
        }
      ]
    },
    {
      "cell_type": "markdown",
      "source": [
        "#03_erase_canvas"
      ],
      "metadata": {
        "id": "bqybdX2pmlEH"
      }
    },
    {
      "cell_type": "code",
      "source": [
        "\n",
        "import matplotlib.pyplot as plt\n",
        "import numpy as np\n",
        "\n",
        "CANVAS_WIDTH = 400\n",
        "CANVAS_HEIGHT = 400\n",
        "ERASER_SIZE = 20\n",
        "\n",
        "def draw_canvas():\n",
        "    \"\"\"Simulates a canvas using matplotlib instead of tkinter.\"\"\"\n",
        "    fig, ax = plt.subplots(figsize=(4, 4))\n",
        "    ax.set_xlim(0, CANVAS_WIDTH)\n",
        "    ax.set_ylim(0, CANVAS_HEIGHT)\n",
        "    ax.set_facecolor('black')\n",
        "\n",
        "    # Simulating an \"eraser\" effect\n",
        "    def on_click(event):\n",
        "        if event.xdata and event.ydata:\n",
        "            ax.add_patch(plt.Rectangle((event.xdata - ERASER_SIZE / 2,\n",
        "                                        event.ydata - ERASER_SIZE / 2),\n",
        "                                       ERASER_SIZE, ERASER_SIZE,\n",
        "                                       color='white'))\n",
        "            fig.canvas.draw()\n",
        "\n",
        "    fig.canvas.mpl_connect('button_press_event', on_click)\n",
        "    plt.show()\n",
        "\n",
        "if __name__ == '__main__':\n",
        "    draw_canvas()"
      ],
      "metadata": {
        "id": "qWRVljfDnyVy",
        "colab": {
          "base_uri": "https://localhost:8080/",
          "height": 374
        },
        "outputId": "19e96fa8-7a00-4f97-dcb5-acbf0238141b"
      },
      "execution_count": 5,
      "outputs": [
        {
          "output_type": "display_data",
          "data": {
            "text/plain": [
              "<Figure size 400x400 with 1 Axes>"
            ],
            "image/png": "[encoded data removed]"
          },
          "metadata": {}
        }
      ]
    },
    {
      "cell_type": "markdown",
      "source": [
        "#04_flowing_with_data_structures"
      ],
      "metadata": {
        "id": "tLJ7oqwFocm6"
      }
    },
    {
      "cell_type": "code",
      "source": [
        "def copy_data(my_list, data):\n",
        "  for i in range(3):\n",
        "    my_list.append(data)\n",
        "\n",
        "def main():\n",
        "  message = input(\"Enter a message: \")\n",
        "  my_list = []\n",
        "  print(\"List before:\", my_list)\n",
        "  copy_data(my_list, message)\n",
        "  print(\"List after:\", my_list)\n",
        "\n",
        "if __name__ == '__main__':\n",
        "  main()"
      ],
      "metadata": {
        "id": "JXTxW12_ojuR",
        "colab": {
          "base_uri": "https://localhost:8080/"
        },
        "outputId": "4f4ea18a-9f65-453a-8ad8-48bb1b1f7074"
      },
      "execution_count": 6,
      "outputs": [
        {
          "output_type": "stream",
          "name": "stdout",
          "text": [
            "Enter a message: hello\n",
            "List before: []\n",
            "List after: ['hello', 'hello', 'hello']\n"
          ]
        }
      ]
    },
    {
      "cell_type": "markdown",
      "source": [
        "#05_get_first_element"
      ],
      "metadata": {
        "id": "rDxN-6-lpA7P"
      }
    },
    {
      "cell_type": "code",
      "source": [
        "def get_first_elements(lst):\n",
        "  print(\"The first element is:\", lst[0])\n",
        "\n",
        "n = int(input(\"Enter the number of elements in the list: \"))\n",
        "user_list = []\n",
        "\n",
        "for i in range(n):\n",
        "      element = input (f\"Enter element {i+1}: \")\n",
        "      user_list.append(element)\n",
        "\n",
        "get_first_elements(user_list)"
      ],
      "metadata": {
        "colab": {
          "base_uri": "https://localhost:8080/"
        },
        "id": "eb4-ijf4lWhl",
        "outputId": "ff270f2f-0e52-407b-880e-8e95e522092d"
      },
      "execution_count": 10,
      "outputs": [
        {
          "output_type": "stream",
          "name": "stdout",
          "text": [
            "Enter the number of elements in the list: 3\n",
            "Enter element 1: apple\n",
            "Enter element 2: banana\n",
            "Enter element 3: grape\n",
            "The first element is: apple\n"
          ]
        }
      ]
    },
    {
      "cell_type": "markdown",
      "source": [
        "#06_get_last_element"
      ],
      "metadata": {
        "id": "6p3wX5vhpbog"
      }
    },
    {
      "cell_type": "code",
      "source": [
        "def get_last_element(lst):\n",
        "  print(\"The last element is:\", lst[-1])\n",
        "\n",
        "n = int(input(\"Enter the number of element in the list: \"))\n",
        "user_list = []\n",
        "\n",
        "for i in range(n):\n",
        "  element = input(f\"Enter element {i+1}: \")\n",
        "  user_list.append(element)\n",
        "\n",
        "get_last_element(user_list)"
      ],
      "metadata": {
        "colab": {
          "base_uri": "https://localhost:8080/"
        },
        "id": "1N5_B0gxoqVz",
        "outputId": "fbb88d75-83da-4c2e-bac8-71faf14337a0"
      },
      "execution_count": 11,
      "outputs": [
        {
          "output_type": "stream",
          "name": "stdout",
          "text": [
            "Enter the number of element in the list: 4\n",
            "Enter element 1: hello\n",
            "Enter element 2: how r u\n",
            "Enter element 3: hi\\\n",
            "Enter element 4: by\n",
            "The last element is: by\n"
          ]
        }
      ]
    },
    {
      "cell_type": "markdown",
      "source": [
        "#07_get_list"
      ],
      "metadata": {
        "id": "Kc1TZ75dptIM"
      }
    },
    {
      "cell_type": "code",
      "source": [
        "user_list=[]\n",
        "\n",
        "while True:\n",
        "  value = input(\"Enter a value:\")\n",
        "  if value ==\"\":\n",
        "    break\n",
        "  user_list.append(value)\n",
        "\n",
        "print(\"Here's the list:\", user_list)"
      ],
      "metadata": {
        "colab": {
          "base_uri": "https://localhost:8080/"
        },
        "id": "crx-FwHa8Rg3",
        "outputId": "ae33cf04-eb39-4541-9de2-609a8bb83c14"
      },
      "execution_count": null,
      "outputs": [
        {
          "name": "stdout",
          "output_type": "stream",
          "text": [
            "Enter a value:5\n",
            "Enter a value:4\n",
            "Enter a value:3\n",
            "Enter a value:2\n",
            "Enter a value:1\n",
            "Enter a value:0\n"
          ]
        }
      ]
    },
    {
      "cell_type": "markdown",
      "source": [
        "\n",
        "#08_shorten"
      ],
      "metadata": {
        "id": "pW5evPEFqBOD"
      }
    },
    {
      "cell_type": "code",
      "source": [
        "MAX_LENGTH = 3\n",
        "\n",
        "def shorten(lst):\n",
        "  while len(lst) > MAX_LENGTH:\n",
        "    removed = lst.pop()\n",
        "    print(\"Removed:\", removed)\n",
        "\n",
        "def main():\n",
        "  n = int(input(\"Enter the number of element in the list:\"))\n",
        "  user_list = []\n",
        "  for i in range(n):\n",
        "      element = input(f\"Enter element {i+1}: \")\n",
        "      user_list.append(element)\n",
        "\n",
        "  shorten(user_list)\n",
        "  print(\"Final list:\", user_list)\n",
        "main ()"
      ],
      "metadata": {
        "colab": {
          "base_uri": "https://localhost:8080/"
        },
        "id": "ChmGSgn_wsAr",
        "outputId": "4c54b23a-27c7-4cdd-d275-05af2fb09046"
      },
      "execution_count": 14,
      "outputs": [
        {
          "output_type": "stream",
          "name": "stdout",
          "text": [
            "Enter the number of element in the list:5\n",
            "Enter element 1:mango\n",
            "Enter element 2:apple\n",
            "Enter element 3:banana\n",
            "Enter element 4:date\n",
            "Enter element 5:elderberry\n",
            "Removed: elderberry\n",
            "Removed: date\n",
            "Final list: ['mango', 'apple', 'banana']\n"
          ]
        }
      ]
    }
  ]
}