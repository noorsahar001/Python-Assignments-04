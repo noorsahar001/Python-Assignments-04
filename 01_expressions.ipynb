{
  "nbformat": 4,
  "nbformat_minor": 0,
  "metadata": {
    "colab": {
      "provenance": [],
      "authorship_tag": "ABX9TyO4bTQ5H9oKDQFvioben+9I",
      "include_colab_link": true
    },
    "kernelspec": {
      "name": "python3",
      "display_name": "Python 3"
    },
    "language_info": {
      "name": "python"
    }
  },
  "cells": [
    {
      "cell_type": "markdown",
      "metadata": {
        "id": "view-in-github",
        "colab_type": "text"
      },
      "source": [
        "<a href=\"https://colab.research.google.com/github/noorsahar001/Python-Assignments-04/blob/main/01_expressions.ipynb\" target=\"_parent\"><img src=\"https://colab.research.google.com/assets/colab-badge.svg\" alt=\"Open In Colab\"/></a>"
      ]
    },
    {
      "cell_type": "markdown",
      "source": [
        "#**01_expressions**\n",
        "\n",
        "#01_dicesimulator"
      ],
      "metadata": {
        "id": "4MBxfdPSlm8s"
      }
    },
    {
      "cell_type": "code",
      "source": [
        "import random\n",
        "\n",
        "sides=6\n",
        "def roll_dice():\n",
        "  die1 = random.randint(1, sides)\n",
        "  die2 = random.randint(1, sides)\n",
        "  total: int = die1 + die2\n",
        "  print(\"Total of Two dice:\", total)\n",
        "\n",
        "def main():\n",
        "    die1: int = 10\n",
        "    print(\"die1 in main() starts as: \" + str(die1))\n",
        "    roll_dice()\n",
        "    roll_dice()\n",
        "    roll_dice()\n",
        "    print(\"die1 in main () is: \" + str(die1))\n",
        "\n",
        "\n",
        "if __name__ == '__main__':\n",
        "  main()"
      ],
      "metadata": {
        "id": "v2ide0gamHQj",
        "colab": {
          "base_uri": "https://localhost:8080/"
        },
        "outputId": "0407fc4d-2341-4bf5-808e-bec71cfc648b"
      },
      "execution_count": 4,
      "outputs": [
        {
          "output_type": "stream",
          "name": "stdout",
          "text": [
            "die1 in main() starts as: 10\n",
            "Total of Two dice: 8\n",
            "Total of Two dice: 5\n",
            "Total of Two dice: 7\n",
            "die1 in main () is: 10\n"
          ]
        }
      ]
    },
    {
      "cell_type": "markdown",
      "source": [
        "#02_e=mc2"
      ],
      "metadata": {
        "id": "_4ab3XA2tmCu"
      }
    },
    {
      "cell_type": "code",
      "source": [
        "def main():\n",
        "  c = 299792458\n",
        "  while True:\n",
        "    try:\n",
        "      mass_kg = float(input(\"Enter kilos of mass: \"))\n",
        "      if mass_kg < 0:\n",
        "        raise ValueError(\"Mass must be a non-negative number.\")\n",
        "      energy_joules = mass_kg * c**2\n",
        "      print(\"e = m * C^2...\")\n",
        "      print(f\"m = {mass_kg:.1f} kg\")\n",
        "      print(f\"C = {c} m/s\")\n",
        "      print(f\"{energy_joules:.18g} joules of energy!\")\n",
        "    except ValueError as e:\n",
        "      print(f\"Invalid input: {e}\")\n",
        "    except Exception as e:\n",
        "      print(f\"An error occurred: {e}\")\n",
        "    else:\n",
        "      another_calculation = input(\"Do you want to perform another calculation? (y/n): \")\n",
        "      if another_calculation.lower() != 'y':\n",
        "        break\n",
        "\n",
        "if __name__ == \"__main__\":\n",
        "  main()\n",
        ""
      ],
      "metadata": {
        "colab": {
          "base_uri": "https://localhost:8080/"
        },
        "id": "ytZX55k3vhH0",
        "outputId": "8d39af4e-12bf-45f3-9ff4-96a80179d2b0"
      },
      "execution_count": 8,
      "outputs": [
        {
          "name": "stdout",
          "output_type": "stream",
          "text": [
            "Enter kilos of mass: 100\n",
            "e = m * C^2...\n",
            "m = 100.0 kg\n",
            "C = 299792458 m/s\n",
            "8.98755178736817562e+18 joules of energy!\n",
            "Do you want to perform another calculation? (y/n): no\n"
          ]
        }
      ]
    },
    {
      "cell_type": "markdown",
      "source": [
        "#03_feet_to_inches"
      ],
      "metadata": {
        "id": "alhiSABYxi-U"
      }
    },
    {
      "cell_type": "code",
      "source": [
        "def main():\n",
        "  feet = float(input(\"Enter a number of feet: \"))\n",
        "  inches = feet * 12\n",
        "  print(f\"{feet} feet = {inches} inches\")\n",
        "\n",
        "if __name__ == '__main__':\n",
        "  main()"
      ],
      "metadata": {
        "colab": {
          "base_uri": "https://localhost:8080/"
        },
        "id": "j7-9E0wlx0U6",
        "outputId": "70c9aa17-9df2-4448-d766-44ad7ca5ab95"
      },
      "execution_count": 9,
      "outputs": [
        {
          "output_type": "stream",
          "name": "stdout",
          "text": [
            "Enter a number of feet: 5\n",
            "5.0 feet = 60.0 inches\n"
          ]
        }
      ]
    },
    {
      "cell_type": "markdown",
      "source": [
        "\n",
        "#04_pythagoras_theorem"
      ],
      "metadata": {
        "id": "9RQ3elLqzegz"
      }
    },
    {
      "cell_type": "code",
      "source": [
        "import math\n",
        "\n",
        "def main():\n",
        "  AB = float(input(\"Enter the length of AB:\"))\n",
        "  AC = float(input(\"Enter the length of AC:\"))\n",
        "\n",
        "  hypotenuse = math.sqrt(AB**2 + AC**2)\n",
        "\n",
        "  print(f\"The length of the hypotenuse is: {hypotenuse}\")\n",
        "\n",
        "if __name__ == '__main__':\n",
        "  main()"
      ],
      "metadata": {
        "colab": {
          "base_uri": "https://localhost:8080/"
        },
        "id": "n5bZl8GtzkZn",
        "outputId": "fc947b40-2c16-4669-bfa9-3635aaff0677"
      },
      "execution_count": 11,
      "outputs": [
        {
          "output_type": "stream",
          "name": "stdout",
          "text": [
            "Enter the length of AB:20\n",
            "Enter the length of AC:20\n",
            "The length of the hypotenuse is: 28.284271247461902\n"
          ]
        }
      ]
    },
    {
      "cell_type": "markdown",
      "source": [
        "\n",
        "#05_remainder_division"
      ],
      "metadata": {
        "id": "TcBA1Wa61OdI"
      }
    },
    {
      "cell_type": "code",
      "source": [
        "def main():\n",
        "  num1:int = int(input(\"Enter an integer to be divided: \"))\n",
        "  num2:int = int(input(\"Enter an integer to divide by: \"))\n",
        "  quotient:int = num1 // num2\n",
        "  remainder:int = num1 % num2\n",
        "  print(f'The result of following division is {quotient} with the reminder of {remainder}')\n",
        "\n",
        "if __name__ == '__main__':\n",
        "  main()"
      ],
      "metadata": {
        "colab": {
          "base_uri": "https://localhost:8080/"
        },
        "id": "0KXK_KCR1TAo",
        "outputId": "6b67112f-9834-45ed-894f-abe8845114eb"
      },
      "execution_count": 16,
      "outputs": [
        {
          "output_type": "stream",
          "name": "stdout",
          "text": [
            "Enter an integer to be divided: 10\n",
            "Enter an integer to divide by: 4\n",
            "The result of following division is 2 with the reminder of 2\n"
          ]
        }
      ]
    },
    {
      "cell_type": "markdown",
      "source": [
        "#06_rolldice"
      ],
      "metadata": {
        "id": "rUu5kxDC2c7e"
      }
    },
    {
      "cell_type": "code",
      "source": [
        "import random\n",
        "\n",
        "def roll_dice():\n",
        "  die1:int= random.randint(1,6)\n",
        "  die2:int  = random.randint(1,6)\n",
        "  total:int = int(die1 + die2)\n",
        "  print(\"First die: \" + str(die1))\n",
        "  print(\"Second die:\" + str(die2))\n",
        "  print(f'Total of two dies : {total}' )\n",
        "\n",
        "if __name__==\"__main__\":\n",
        "  roll_dice()\n",
        "\n"
      ],
      "metadata": {
        "colab": {
          "base_uri": "https://localhost:8080/"
        },
        "id": "73QK9Djn3obk",
        "outputId": "cebb540e-bc01-45b5-ba38-4d539fab2e5b"
      },
      "execution_count": 22,
      "outputs": [
        {
          "output_type": "stream",
          "name": "stdout",
          "text": [
            "First die: 2\n",
            "Second die:1\n",
            "Total of two dies : 3\n"
          ]
        }
      ]
    },
    {
      "cell_type": "markdown",
      "source": [
        "#06_seconds_in_year\n"
      ],
      "metadata": {
        "id": "kp8xBqpD5QE4"
      }
    },
    {
      "cell_type": "code",
      "source": [
        "days_in_year:int = 365\n",
        "hours_per_day:int = 24\n",
        "minutes_per_hour:int = 60\n",
        "seconds_per_minute:int = 60\n",
        "\n",
        "def seconds():\n",
        "  print(f'There are {days_in_year * hours_per_day * minutes_per_hour * seconds_per_minute} seconds in a year!')\n",
        "\n",
        "if __name__==\"__main__\":\n",
        "  seconds()"
      ],
      "metadata": {
        "colab": {
          "base_uri": "https://localhost:8080/"
        },
        "id": "j3V2khyK5vyc",
        "outputId": "ca4d8ac6-0313-4b43-c201-8d980e7009b5"
      },
      "execution_count": 23,
      "outputs": [
        {
          "output_type": "stream",
          "name": "stdout",
          "text": [
            "There are 31536000 seconds in a year!\n"
          ]
        }
      ]
    },
    {
      "cell_type": "markdown",
      "source": [
        "#07_tiny_mad_lib\n"
      ],
      "metadata": {
        "id": "7R4Ry9hE7nXY"
      }
    },
    {
      "cell_type": "code",
      "source": [
        "def main():\n",
        "  adjective = input(\"Please type an adjective and press enter:\")\n",
        "  noun = input(\"Please type a noun and press enter:\")\n",
        "  verb = input(\"Please type a verb and press enter:\")\n",
        "  sentence = f\"Code in Place is fun. I learned to program and used python to make my {adjective} {noun} {verb}!\"\n",
        "  print(sentence)\n",
        "\n",
        "if __name__==\"__main__\":\n",
        "  main()"
      ],
      "metadata": {
        "colab": {
          "base_uri": "https://localhost:8080/"
        },
        "id": "ocnZIxz_71UG",
        "outputId": "14b26982-0f5b-43ce-8f2d-447dda644ef9"
      },
      "execution_count": 27,
      "outputs": [
        {
          "output_type": "stream",
          "name": "stdout",
          "text": [
            "Please type an adjective and press enter:Active\n",
            "Please type a noun and press enter:day\n",
            "Please type a verb and press enter:add\n",
            "Code in Place is fun. I learned to program and used python to make my Active day add!\n"
          ]
        }
      ]
    }
  ]
}