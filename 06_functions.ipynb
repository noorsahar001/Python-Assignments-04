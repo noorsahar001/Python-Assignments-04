{
  "nbformat": 4,
  "nbformat_minor": 0,
  "metadata": {
    "colab": {
      "provenance": [],
      "authorship_tag": "ABX9TyO359Eu8y+DRLUFw5GirNqp",
      "include_colab_link": true
    },
    "kernelspec": {
      "name": "python3",
      "display_name": "Python 3"
    },
    "language_info": {
      "name": "python"
    }
  },
  "cells": [
    {
      "cell_type": "markdown",
      "metadata": {
        "id": "view-in-github",
        "colab_type": "text"
      },
      "source": [
        "<a href=\"https://colab.research.google.com/github/noorsahar001/Python-Assignments-04/blob/main/06_functions.ipynb\" target=\"_parent\"><img src=\"https://colab.research.google.com/assets/colab-badge.svg\" alt=\"Open In Colab\"/></a>"
      ]
    },
    {
      "cell_type": "markdown",
      "source": [
        "#**06_functions**"
      ],
      "metadata": {
        "id": "JwV5xJwQ1TyN"
      }
    },
    {
      "cell_type": "markdown",
      "source": [
        "#00_averages"
      ],
      "metadata": {
        "id": "2xFUEA4j1XTf"
      }
    },
    {
      "cell_type": "code",
      "source": [
        "number1 = int(input(\"Enter first number: \"))\n",
        "number2 = int(input(\"Enter second number: \"))\n",
        "\n",
        "def main():\n",
        "  avg = (number1 + number2) / 2\n",
        "  print(avg)\n",
        "\n",
        "if __name__ == \"__main__\":\n",
        "  main()"
      ],
      "metadata": {
        "id": "gL5J9-e-1d2u",
        "colab": {
          "base_uri": "https://localhost:8080/"
        },
        "outputId": "806315be-5b0a-43ce-f893-4c9d51e38ffb"
      },
      "execution_count": null,
      "outputs": [
        {
          "output_type": "stream",
          "name": "stdout",
          "text": [
            "Enter first number: 8\n",
            "Enter second number: 9\n",
            "8.5\n"
          ]
        }
      ]
    },
    {
      "cell_type": "markdown",
      "source": [
        "\n",
        "#01_chaotic_counting"
      ],
      "metadata": {
        "id": "tGUr9o4m3TP8"
      }
    },
    {
      "cell_type": "code",
      "source": [
        "import random\n",
        "\n",
        "DONE_LIKELIHOOD = 0.2\n",
        "def chaotic_counting():\n",
        "  for i in range(10):\n",
        "    curr_num = i + 1\n",
        "    if done():\n",
        "      return\n",
        "    print(curr_num)\n",
        "\n",
        "def done():\n",
        "  if random.random() < DONE_LIKELIHOOD:\n",
        "      return True\n",
        "  return False\n",
        "\n",
        "def main():\n",
        "  print(\"I'm going to count until 10 or until I feel like stopping, whichever comes first.\")\n",
        "  chaotic_counting()\n",
        "  print(\"I'm done\")\n",
        "\n",
        "if __name__ == \"__main__\":\n",
        "  main()"
      ],
      "metadata": {
        "colab": {
          "base_uri": "https://localhost:8080/"
        },
        "id": "IKS4uGBB3XzQ",
        "outputId": "30bdb998-1fac-491d-becf-9971feebec34"
      },
      "execution_count": null,
      "outputs": [
        {
          "output_type": "stream",
          "name": "stdout",
          "text": [
            "I'm going to count until 10 or until I feel like stopping, whichever comes first.\n",
            "1\n",
            "2\n",
            "3\n",
            "4\n",
            "5\n",
            "6\n",
            "7\n",
            "8\n",
            "9\n",
            "10\n",
            "I'm done\n"
          ]
        }
      ]
    },
    {
      "cell_type": "markdown",
      "source": [
        "#02_count_even\n"
      ],
      "metadata": {
        "id": "JR_fKL-d6NuV"
      }
    },
    {
      "cell_type": "code",
      "source": [
        "def count_even(lst):\n",
        "  even_count = 0\n",
        "  for num in lst:\n",
        "    if num % 2 == 0:\n",
        "      even_count += 1\n",
        "  print(even_count)\n",
        "\n",
        "def main():\n",
        "  lst = []\n",
        "  while True:\n",
        "    user_input = input(\"Enter an integer or press enter to stop:\")\n",
        "    if user_input ==\"\":\n",
        "      break\n",
        "    try:\n",
        "      num = int(user_input)\n",
        "      lst.append(num)\n",
        "    except ValueError:\n",
        "      print(\"Invalid input. Please enter an integer.\")\n",
        "\n",
        "  count_even(lst)\n",
        "\n",
        "if __name__ == \"__main__\":\n",
        "  main()"
      ],
      "metadata": {
        "colab": {
          "base_uri": "https://localhost:8080/"
        },
        "id": "WzuKdKI16dpN",
        "outputId": "f78d498e-c5c2-4a12-920c-cc431c6213a9"
      },
      "execution_count": null,
      "outputs": [
        {
          "output_type": "stream",
          "name": "stdout",
          "text": [
            "Enter an integer or press enter to stop:4\n",
            "Enter an integer or press enter to stop:3\n",
            "Enter an integer or press enter to stop:2\n",
            "Enter an integer or press enter to stop:1\n",
            "Enter an integer or press enter to stop:\n",
            "2\n"
          ]
        }
      ]
    },
    {
      "cell_type": "markdown",
      "source": [
        "#04_double"
      ],
      "metadata": {
        "id": "vQfRyOldIxCS"
      }
    },
    {
      "cell_type": "code",
      "source": [
        "def double(num: int):\n",
        "  return num * 2\n",
        "\n",
        "def main():\n",
        "  num = int(input(\"Enter a number: \"))\n",
        "  num_times_2 = double(num)\n",
        "  print(\"Double that is\", num_times_2)\n",
        "\n",
        "if __name__ == \"__main__\":\n",
        "  main()\n"
      ],
      "metadata": {
        "colab": {
          "base_uri": "https://localhost:8080/"
        },
        "id": "TgIV6QxTI_hs",
        "outputId": "1365fbcc-ab1c-4307-8508-e6b31c2c24b6"
      },
      "execution_count": null,
      "outputs": [
        {
          "output_type": "stream",
          "name": "stdout",
          "text": [
            "Enter a number: 4\n",
            "Double that is 8\n"
          ]
        }
      ]
    },
    {
      "cell_type": "markdown",
      "source": [
        "#05_get_name\n"
      ],
      "metadata": {
        "id": "OCAWQ3WtKim0"
      }
    },
    {
      "cell_type": "code",
      "source": [
        "def get_name():\n",
        "  name = input(\"Enter your name:\")\n",
        "  return name\n",
        "\n",
        "def main():\n",
        "  name = get_name()\n",
        "  print(f\"Hello {name}! How is your day going?\")\n",
        "\n",
        "if __name__ == \"__main__\":\n",
        "  main()"
      ],
      "metadata": {
        "colab": {
          "base_uri": "https://localhost:8080/"
        },
        "id": "4H0jEPRkKoX0",
        "outputId": "eb4ea146-2d02-49ca-b4f9-9f7eef7cdd56"
      },
      "execution_count": null,
      "outputs": [
        {
          "output_type": "stream",
          "name": "stdout",
          "text": [
            "Enter your name:Noor Sahar\n",
            "Hello Noor Sahar! How is your day going?\n"
          ]
        }
      ]
    },
    {
      "cell_type": "markdown",
      "source": [
        "#06_is_odd\n"
      ],
      "metadata": {
        "id": "igW-pHaPOmhg"
      }
    },
    {
      "cell_type": "code",
      "source": [
        "def main():\n",
        "  for i in range(10):\n",
        "    if is_odd(i):\n",
        "      print('number is odd')\n",
        "    else:\n",
        "      print ('number is even')\n",
        "\n",
        "def is_odd(value: int):\n",
        "  reminder = value % 2\n",
        "  return reminder == 1\n",
        "\n",
        "if __name__ == \"__main__\":\n",
        "  main()"
      ],
      "metadata": {
        "colab": {
          "base_uri": "https://localhost:8080/"
        },
        "id": "oPIeB0eIOpbS",
        "outputId": "95030e75-1ee7-4f0d-851c-fec8e3472834"
      },
      "execution_count": null,
      "outputs": [
        {
          "output_type": "stream",
          "name": "stdout",
          "text": [
            "number is even\n",
            "number is odd\n",
            "number is even\n",
            "number is odd\n",
            "number is even\n",
            "number is odd\n",
            "number is even\n",
            "number is odd\n",
            "number is even\n",
            "number is odd\n"
          ]
        }
      ]
    },
    {
      "cell_type": "markdown",
      "source": [
        "#07_print_divisor"
      ],
      "metadata": {
        "id": "sm2PYwS0Pohq"
      }
    },
    {
      "cell_type": "code",
      "source": [
        "def print_divisors(num: int):\n",
        "  print(\"Here's are the divisor of\", num)\n",
        "  for i in range(num):\n",
        "    curr_divisor = i + 1\n",
        "    if num % curr_divisor == 0:\n",
        "      print(curr_divisor)\n",
        "\n",
        "def main():\n",
        "  num = int(input(\"Enter a number: \"))\n",
        "  print_divisors(num)\n",
        "\n",
        "if __name__ == \"__main__\":\n",
        "  main()"
      ],
      "metadata": {
        "colab": {
          "base_uri": "https://localhost:8080/"
        },
        "id": "h94LT3mYPzV6",
        "outputId": "08b58ed5-e617-44b1-8436-4d55cc8ea8b4"
      },
      "execution_count": null,
      "outputs": [
        {
          "output_type": "stream",
          "name": "stdout",
          "text": [
            "Enter a number: 4\n",
            "Here's are the divisor of 4\n",
            "1\n",
            "2\n",
            "4\n"
          ]
        }
      ]
    },
    {
      "cell_type": "markdown",
      "source": [
        "#08_print_multiple"
      ],
      "metadata": {
        "id": "g7HI76EXQZkW"
      }
    },
    {
      "cell_type": "code",
      "source": [
        "def print_multiple(message, repeats):\n",
        "  for i in range(repeats):\n",
        "    print(message)\n",
        "\n",
        "def main():\n",
        "  message = input(\"Please type a message: \")\n",
        "  repeats = int(input(\"Enter a number of times to repeat your message: \"))\n",
        "  print_multiple(message, repeats)\n",
        "\n",
        "if __name__ == \"__main__\":\n",
        "  main()"
      ],
      "metadata": {
        "colab": {
          "base_uri": "https://localhost:8080/"
        },
        "id": "JW97Qx0ZQhcx",
        "outputId": "87b673c4-3e30-48eb-df36-a89adfa49dd4"
      },
      "execution_count": null,
      "outputs": [
        {
          "output_type": "stream",
          "name": "stdout",
          "text": [
            "Please type a message: Hello Noor Sahar, Rasheeda Shafiq and Uzair\n",
            "Enter a number of times to repeat your message: 5\n",
            "Hello Noor Sahar, Rasheeda Shafiq and Uzair\n",
            "Hello Noor Sahar, Rasheeda Shafiq and Uzair\n",
            "Hello Noor Sahar, Rasheeda Shafiq and Uzair\n",
            "Hello Noor Sahar, Rasheeda Shafiq and Uzair\n",
            "Hello Noor Sahar, Rasheeda Shafiq and Uzair\n"
          ]
        }
      ]
    },
    {
      "cell_type": "markdown",
      "source": [
        "#09_sentence_generator"
      ],
      "metadata": {
        "id": "BhLpYiIITQm2"
      }
    },
    {
      "cell_type": "code",
      "source": [
        "def make_sentence(word, part_of_speech):\n",
        "  if part_of_speech == 0:\n",
        "    print(f\"I am excited to add this {word} to my vaste collection of them!\")\n",
        "  elif part_of_speech == 1:\n",
        "    print(f\"It's so nice outside today it makes me want to {word}!\")\n",
        "  elif part_of_speech == 2:\n",
        "    print(f\"Looking out my window, the sky is big and {word}\")\n",
        "  else:\n",
        "    print(\"Part of speech must be 0, 1, or 2! Can't make a sentence.\")\n",
        "\n",
        "def main():\n",
        "    word : str = input(\"Please type a noun, verb, or adjective: \")\n",
        "    print(\"Is this a noun, verb, or adjective?\")\n",
        "    part_of_speech = int(input(\"Type 0 for noun, 1 for verb, or 2 for adjective: \"))\n",
        "    make_sentence(word, part_of_speech)\n",
        "\n",
        "if __name__ == \"__main__\":\n",
        "  main()"
      ],
      "metadata": {
        "colab": {
          "base_uri": "https://localhost:8080/"
        },
        "id": "m2rxonWwTXVA",
        "outputId": "d18e55b3-611c-40ee-96c4-bc085511f48d"
      },
      "execution_count": 6,
      "outputs": [
        {
          "output_type": "stream",
          "name": "stdout",
          "text": [
            "Please type a noun, verb, or adjective: paint\n",
            "Is this a noun, verb, or adjective?\n",
            "Type 0 for noun, 1 for verb, or 2 for adjective: 1\n",
            "It's so nice outside today it makes me want to paint!\n"
          ]
        }
      ]
    },
    {
      "cell_type": "markdown",
      "source": [
        "#10_print_ones_digit"
      ],
      "metadata": {
        "id": "cgpmAN16fM8k"
      }
    },
    {
      "cell_type": "code",
      "source": [
        "def print_ones_digit(num):\n",
        "  ones_digit = num % 10\n",
        "  print(f\"The one digit is {ones_digit}\")\n",
        "\n",
        "def main():\n",
        "  num = int(input(\"Enter a number: \"))\n",
        "  print_ones_digit(num)\n",
        "\n",
        "if __name__ == \"__main__\":\n",
        "  main()"
      ],
      "metadata": {
        "colab": {
          "base_uri": "https://localhost:8080/"
        },
        "id": "vKfGANqtfhDS",
        "outputId": "c23ab444-e3e8-42f5-8cc0-c161b41bd4de"
      },
      "execution_count": 8,
      "outputs": [
        {
          "output_type": "stream",
          "name": "stdout",
          "text": [
            "Enter a number: 24559345\n",
            "The one digit is 5\n"
          ]
        }
      ]
    }
  ]
}