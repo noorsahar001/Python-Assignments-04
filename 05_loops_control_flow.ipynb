{
  "nbformat": 4,
  "nbformat_minor": 0,
  "metadata": {
    "colab": {
      "provenance": [],
      "authorship_tag": "ABX9TyNGnUS96kpSvn3OSR2h2xgf",
      "include_colab_link": true
    },
    "kernelspec": {
      "name": "python3",
      "display_name": "Python 3"
    },
    "language_info": {
      "name": "python"
    }
  },
  "cells": [
    {
      "cell_type": "markdown",
      "metadata": {
        "id": "view-in-github",
        "colab_type": "text"
      },
      "source": [
        "<a href=\"https://colab.research.google.com/github/noorsahar001/Python-Assignments-04/blob/main/05_loops_control_flow.ipynb\" target=\"_parent\"><img src=\"https://colab.research.google.com/assets/colab-badge.svg\" alt=\"Open In Colab\"/></a>"
      ]
    },
    {
      "cell_type": "markdown",
      "source": [
        "\n",
        "#**05_loops_control_flow**"
      ],
      "metadata": {
        "id": "3AkjsUEmRhmV"
      }
    },
    {
      "cell_type": "markdown",
      "source": [
        "#00_guess_my_number"
      ],
      "metadata": {
        "id": "xmrTfjEBRyMD"
      }
    },
    {
      "cell_type": "code",
      "source": [
        "import random\n",
        "\n",
        "def main():\n",
        "  secret_number = random.randint(1,10)\n",
        "  print(\"I am thinking of a number between 0 and 10....\")\n",
        "  guess = int(input(\"Enter a guess: \"))\n",
        "\n",
        "  while guess != secret_number:\n",
        "    if guess < secret_number:\n",
        "      print(\"Your guess is to low.\")\n",
        "    else:\n",
        "      print(\"Your guess is to high.\")\n",
        "    guess = int(input(\"Enter a guess: \"))\n",
        "  print(f\"Congratulation! The number was {secret_number}\")\n",
        "\n",
        "if __name__ == \"__main__\":\n",
        "  main()"
      ],
      "metadata": {
        "colab": {
          "base_uri": "https://localhost:8080/"
        },
        "id": "VjOelBadR_rP",
        "outputId": "f5c1042f-e325-4b02-b3b8-1e027aa644bf"
      },
      "execution_count": 1,
      "outputs": [
        {
          "output_type": "stream",
          "name": "stdout",
          "text": [
            "I am thinking of a number between 0 and 10....\n",
            "Enter a guess: 6\n",
            "Your guess is to high.\n",
            "Enter a guess: 2\n",
            "Your guess is to high.\n",
            "Enter a guess: 0\n",
            "Your guess is to low.\n",
            "Enter a guess: 8\n",
            "Your guess is to high.\n",
            "Enter a guess: 1\n",
            "Congratulation! The number was 1\n"
          ]
        }
      ]
    },
    {
      "cell_type": "markdown",
      "source": [
        "\n",
        "#01_fibonacci"
      ],
      "metadata": {
        "id": "KFA2gpii2roY"
      }
    },
    {
      "cell_type": "code",
      "source": [
        "MAX_VALUE = 10000\n",
        "\n",
        "def main():\n",
        "  a, b = 0, 1\n",
        "  while a < MAX_VALUE:\n",
        "    print(a, end= \" \")\n",
        "    a, b = b, a + b\n",
        "\n",
        "if __name__ == \"__main__\":\n",
        "  main()"
      ],
      "metadata": {
        "colab": {
          "base_uri": "https://localhost:8080/"
        },
        "id": "OZILRN_h2zDR",
        "outputId": "5186c5b0-83c8-4e62-fc66-0667369a80d5"
      },
      "execution_count": 4,
      "outputs": [
        {
          "output_type": "stream",
          "name": "stdout",
          "text": [
            "0 1 1 2 3 5 8 13 21 34 55 89 144 233 377 610 987 1597 2584 4181 6765 "
          ]
        }
      ]
    },
    {
      "cell_type": "markdown",
      "source": [
        "#02_print_events"
      ],
      "metadata": {
        "id": "sM14_5z0-_pz"
      }
    },
    {
      "cell_type": "code",
      "source": [
        "def main():\n",
        "  for i in range(20):\n",
        "    print(i * 2)\n",
        "\n",
        "if __name__ == \"__main__\":\n",
        "  main()"
      ],
      "metadata": {
        "colab": {
          "base_uri": "https://localhost:8080/"
        },
        "id": "PRB4FYDy_lxK",
        "outputId": "f6252965-3025-4626-b9a1-fc1e284e2be0"
      },
      "execution_count": 6,
      "outputs": [
        {
          "output_type": "stream",
          "name": "stdout",
          "text": [
            "0\n",
            "2\n",
            "4\n",
            "6\n",
            "8\n",
            "10\n",
            "12\n",
            "14\n",
            "16\n",
            "18\n",
            "20\n",
            "22\n",
            "24\n",
            "26\n",
            "28\n",
            "30\n",
            "32\n",
            "34\n",
            "36\n",
            "38\n"
          ]
        }
      ]
    },
    {
      "cell_type": "markdown",
      "source": [
        "#03_wholesome_machine"
      ],
      "metadata": {
        "id": "k0TwY9CoAQhU"
      }
    },
    {
      "cell_type": "code",
      "source": [
        "def main():\n",
        "  affirmation = \"I am capable of doing anything I put my mind too\"\n",
        "  while True:\n",
        "    print(\"Please type the following affirmation.\")\n",
        "    user_input = input()\n",
        "    if user_input == affirmation:\n",
        "      print(\"That's right! :)\")\n",
        "      break\n",
        "    else:\n",
        "      print(\"Hmmm Thats was not the affirmation.\")\n",
        "\n",
        "if __name__== \"__main__\":\n",
        "  main()"
      ],
      "metadata": {
        "colab": {
          "base_uri": "https://localhost:8080/"
        },
        "id": "FylMhFsiAe3q",
        "outputId": "27d11bae-ade6-4f91-b62a-0ebdb624ece0"
      },
      "execution_count": 10,
      "outputs": [
        {
          "output_type": "stream",
          "name": "stdout",
          "text": [
            "Please type the following affirmation.\n",
            "I am capable of doing anything I put my mind too\n",
            "That's right! :)\n"
          ]
        }
      ]
    },
    {
      "cell_type": "markdown",
      "source": [
        "#04_liftoff"
      ],
      "metadata": {
        "id": "cWrcj0OvDSRp"
      }
    },
    {
      "cell_type": "code",
      "source": [
        "def countdown():\n",
        "  for i in range(10):\n",
        "    print(10 - i, end=\" \")\n",
        "  print(\"Liftoff!\")\n",
        "\n",
        "if __name__ == \"__main__\":\n",
        "  countdown()"
      ],
      "metadata": {
        "colab": {
          "base_uri": "https://localhost:8080/"
        },
        "id": "bcZQJTaVLsrt",
        "outputId": "dc0e068a-e342-466c-bbe3-a496ff2b9da6"
      },
      "execution_count": 3,
      "outputs": [
        {
          "output_type": "stream",
          "name": "stdout",
          "text": [
            "10 9 8 7 6 5 4 3 2 1 Liftoff!\n"
          ]
        }
      ]
    },
    {
      "cell_type": "markdown",
      "source": [
        "#05_double_it"
      ],
      "metadata": {
        "id": "MYZstf1OxQZL"
      }
    },
    {
      "cell_type": "code",
      "source": [
        "def main():\n",
        "  user_value = int(input(\"Enter a number: \"))\n",
        "  while user_value < 100:\n",
        "    user_value = user_value * 2\n",
        "    print(user_value)\n",
        "\n",
        "if __name__ == \"__main__\":\n",
        "  main()"
      ],
      "metadata": {
        "colab": {
          "base_uri": "https://localhost:8080/"
        },
        "id": "exRhsk4E0I0v",
        "outputId": "a1d46b92-cb33-43d4-c367-9ec107e5772f"
      },
      "execution_count": 4,
      "outputs": [
        {
          "output_type": "stream",
          "name": "stdout",
          "text": [
            "Enter a number: 5\n",
            "10\n",
            "20\n",
            "40\n",
            "80\n",
            "160\n"
          ]
        }
      ]
    }
  ]
}