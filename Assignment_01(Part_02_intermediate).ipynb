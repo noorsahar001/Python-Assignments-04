{
  "nbformat": 4,
  "nbformat_minor": 0,
  "metadata": {
    "colab": {
      "provenance": [],
      "authorship_tag": "ABX9TyMLYPJuaLKBXc8N7TCl2Ego",
      "include_colab_link": true
    },
    "kernelspec": {
      "name": "python3",
      "display_name": "Python 3"
    },
    "language_info": {
      "name": "python"
    }
  },
  "cells": [
    {
      "cell_type": "markdown",
      "metadata": {
        "id": "view-in-github",
        "colab_type": "text"
      },
      "source": [
        "<a href=\"https://colab.research.google.com/github/noorsahar001/Python-Assignments-04/blob/main/Assignment_01(Part_02_intermediate).ipynb\" target=\"_parent\"><img src=\"https://colab.research.google.com/assets/colab-badge.svg\" alt=\"Open In Colab\"/></a>"
      ]
    },
    {
      "cell_type": "markdown",
      "source": [
        "#**02_intermediate**"
      ],
      "metadata": {
        "id": "55k4aZRzJ6Dh"
      }
    },
    {
      "cell_type": "markdown",
      "source": [
        "#Control Flow for Console\n"
      ],
      "metadata": {
        "id": "te2jRoB8KYuk"
      }
    },
    {
      "cell_type": "code",
      "source": [
        "import random\n",
        "\n",
        "Number_of_rounds: int = 5\n",
        "\n",
        "def main():\n",
        "    print(\"Welcome to the High-Low Game!\")\n",
        "    print(\"------------------------------\")\n",
        "\n",
        "    your_score = 0\n",
        "\n",
        "    for round in range(1, Number_of_rounds + 1):\n",
        "      print()\n",
        "      print(f\"Round {round}\")\n",
        "\n",
        "      for i in range(1):\n",
        "          user_no = random.randint(1, 100)\n",
        "          computer_no = random.randint(1, 100)\n",
        "          print(f\"Your number: {user_no}\")\n",
        "\n",
        "\n",
        "      user_choice = input(\"Do you think your number is higher or lower than the computer's number? \")\n",
        "\n",
        "\n",
        "      if user_choice == \"higher\":\n",
        "          if user_no > computer_no:\n",
        "              print(f\"You are correct! Computer's number was {computer_no}\")\n",
        "              your_score += 1\n",
        "          else:\n",
        "              print(f\"Wrong! Your number was not higher. Computer's number was {computer_no}\")\n",
        "      elif user_choice == \"lower\":\n",
        "          if user_no < computer_no:\n",
        "              print(f\"You are correct! Computer's number was {computer_no}\")\n",
        "              your_score += 1\n",
        "          else:\n",
        "              print(f\"Wrong! Your number was not lower. Computer's number was {computer_no}\")\n",
        "      else:\n",
        "          print(\"Invalid input. Please enter 'higher' or 'lower'.\")\n",
        "\n",
        "      print(\"Your score is now\", your_score)\n",
        "      print()\n",
        "\n",
        "    print(f\"Your Total Score = {your_score}\")\n",
        "\n",
        "    if your_score == Number_of_rounds:\n",
        "        print(\"Congratulations! You won the game!\")\n",
        "    else:\n",
        "        print(\"Better luck next time!\")\n",
        "    print()\n",
        "    print(\"Thanks for playing!\")\n",
        "\n",
        "if __name__ == \"__main__\":\n",
        "  main()"
      ],
      "metadata": {
        "colab": {
          "base_uri": "https://localhost:8080/"
        },
        "id": "WtVtgLBrK79e",
        "outputId": "e9daa9bf-4177-4572-d4bd-e461392833fb"
      },
      "execution_count": 1,
      "outputs": [
        {
          "output_type": "stream",
          "name": "stdout",
          "text": [
            "Welcome to the High-Low Game!\n",
            "------------------------------\n",
            "\n",
            "Round 1\n",
            "Your number: 81\n",
            "Do you think your number is higher or lower than the computer's number? higher\n",
            "You are correct! Computer's number was 48\n",
            "Your score is now 1\n",
            "\n",
            "\n",
            "Round 2\n",
            "Your number: 70\n",
            "Do you think your number is higher or lower than the computer's number? higher\n",
            "You are correct! Computer's number was 51\n",
            "Your score is now 2\n",
            "\n",
            "\n",
            "Round 3\n",
            "Your number: 33\n",
            "Do you think your number is higher or lower than the computer's number? lower\n",
            "You are correct! Computer's number was 48\n",
            "Your score is now 3\n",
            "\n",
            "\n",
            "Round 4\n",
            "Your number: 58\n",
            "Do you think your number is higher or lower than the computer's number? lower\n",
            "You are correct! Computer's number was 91\n",
            "Your score is now 4\n",
            "\n",
            "\n",
            "Round 5\n",
            "Your number: 9\n",
            "Do you think your number is higher or lower than the computer's number? lower\n",
            "You are correct! Computer's number was 24\n",
            "Your score is now 5\n",
            "\n",
            "Your Total Score = 5\n",
            "Congratulations! You won the game!\n",
            "\n",
            "Thanks for playing!\n"
          ]
        }
      ]
    },
    {
      "cell_type": "markdown",
      "source": [
        "\n",
        "#Intro to Python"
      ],
      "metadata": {
        "id": "8UmJRMmHLiPk"
      }
    },
    {
      "cell_type": "code",
      "source": [
        "def main():\n",
        "    earth_weight = float(input(\"Enter your weight on Earth: \"))\n",
        "    mars_weight = earth_weight * 0.378\n",
        "    mercury_weight = earth_weight * 0.376\n",
        "    venus_weight = earth_weight * 0.889\n",
        "    jupiter_weight = earth_weight * 2.36\n",
        "    saturn_weight = earth_weight * 1.081\n",
        "    uranus_weight = earth_weight * 0.815\n",
        "    neptune_weight = earth_weight * 1.14\n",
        "\n",
        "    name_planet = input(\"Enter the name of the planet: \")\n",
        "\n",
        "    if name_planet == \"Mars\":\n",
        "        print(f\"Your weight on Mars is: {round(mars_weight, 2)}\")\n",
        "    elif name_planet == \"Mercury\":\n",
        "        print(f\"Your weight on Mercury is: {round(mercury_weight, 2)}\")\n",
        "    elif name_planet == \"Venus\":\n",
        "        print(f\"Your weight on Venus is: {round(venus_weight, 2)}\")\n",
        "    elif name_planet == \"Jupiter\":\n",
        "        print(f\"Your weight on Jupiter is: {round(jupiter_weight, 2)}\")\n",
        "    elif name_planet == \"Saturn\":\n",
        "        print(f\"Your weight on Saturn is: {round(saturn_weight, 2)}\")\n",
        "    elif name_planet == \"Uranus\":\n",
        "        print(f\"Your weight on Uranus is: {round(uranus_weight, 2)}\")\n",
        "    elif name_planet == \"Neptune\":\n",
        "        print(f\"Your weight on Neptune is: {round(neptune_weight, 2)}\")\n",
        "    else:\n",
        "        print(\"Invalid input. Please enter a valid planet name.\")\n",
        "\n",
        "\n",
        "if __name__ == \"__main__\":\n",
        "    main()"
      ],
      "metadata": {
        "colab": {
          "base_uri": "https://localhost:8080/"
        },
        "id": "OGT2uI0PLr2F",
        "outputId": "3b4163b7-d2e3-4fef-ed8f-902d14b4547b"
      },
      "execution_count": 3,
      "outputs": [
        {
          "output_type": "stream",
          "name": "stdout",
          "text": [
            "Enter your weight on Earth: 45\n",
            "Enter the name of the planet: Mars\n",
            "Your weight on Mars is: 17.01\n"
          ]
        }
      ]
    },
    {
      "cell_type": "markdown",
      "source": [
        "#Lists and Dicts"
      ],
      "metadata": {
        "id": "-JByjlycMHTy"
      }
    },
    {
      "cell_type": "markdown",
      "source": [
        "Problem #1: List Practice"
      ],
      "metadata": {
        "id": "quxCTl2fMo1g"
      }
    },
    {
      "cell_type": "code",
      "source": [
        "def main():\n",
        "  fruit_list = [\"apple\", \"banana\", \"orange\", \"grape\", \"pineapple\"]\n",
        "  print(len(fruit_list))\n",
        "\n",
        "  fruit_list.append(\"mango\")\n",
        "  print(fruit_list)\n",
        "\n",
        "\n",
        "if __name__ == \"__main__\":\n",
        "  main()"
      ],
      "metadata": {
        "colab": {
          "base_uri": "https://localhost:8080/"
        },
        "id": "w-11bln4MqfT",
        "outputId": "b81e404d-2eff-4831-a3b1-f0cc03a322ae"
      },
      "execution_count": 4,
      "outputs": [
        {
          "output_type": "stream",
          "name": "stdout",
          "text": [
            "5\n",
            "['apple', 'banana', 'orange', 'grape', 'pineapple', 'mango']\n"
          ]
        }
      ]
    },
    {
      "cell_type": "markdown",
      "source": [
        "Problem #2: Index Game"
      ],
      "metadata": {
        "id": "Lbcp6eUxMwdj"
      }
    },
    {
      "cell_type": "code",
      "source": [
        "my_list = [42, \"apple\", 3.14, \"banana\", 100]\n",
        "\n",
        "def get_element_at_index(my_list, index):\n",
        "    try:\n",
        "        return my_list[index]\n",
        "    except IndexError:\n",
        "        return \"Index out of range. Please provide a valid index.\"\n",
        "\n",
        "def replace_element_at_index(my_list, index, new_value):\n",
        "    try:\n",
        "        my_list[index] = new_value\n",
        "        return my_list\n",
        "    except IndexError:\n",
        "        return \"Index out of range. Cannot replace value.\"\n",
        "\n",
        "def get_sublist_between_indices(my_list, start_index, end_index):\n",
        "    if start_index < 0 or end_index > len(my_list) or start_index >= end_index:\n",
        "        return \"Invalid indices. Please provide a valid range.\"\n",
        "    return my_list[start_index:end_index]\n",
        "\n",
        "print(get_element_at_index(my_list, 2))\n",
        "print(get_element_at_index(my_list, 0))\n",
        "print(get_element_at_index(my_list, 4))\n",
        "print(get_element_at_index(my_list, 10))\n",
        "print()\n",
        "\n",
        "print(replace_element_at_index(my_list, 1, \"orange\"))\n",
        "print(replace_element_at_index(my_list, 10, \"grape\"))\n",
        "print()\n",
        "\n",
        "print(get_sublist_between_indices(my_list, 1, 4))\n",
        "print(get_sublist_between_indices(my_list, -1, 3))\n",
        "print(get_sublist_between_indices(my_list, 3, 10))\n",
        "print()"
      ],
      "metadata": {
        "colab": {
          "base_uri": "https://localhost:8080/"
        },
        "id": "F_lIYLD0NCJa",
        "outputId": "ca9ed93c-b89d-426f-88f2-05fd3fcb6e98"
      },
      "execution_count": 7,
      "outputs": [
        {
          "output_type": "stream",
          "name": "stdout",
          "text": [
            "3.14\n",
            "42\n",
            "100\n",
            "Index out of range. Please provide a valid index.\n",
            "\n",
            "[42, 'orange', 3.14, 'banana', 100]\n",
            "Index out of range. Cannot replace value.\n",
            "\n",
            "['orange', 3.14, 'banana']\n",
            "Invalid indices. Please provide a valid range.\n",
            "Invalid indices. Please provide a valid range.\n",
            "\n"
          ]
        }
      ]
    },
    {
      "cell_type": "code",
      "source": [
        "def get_element_at_index(my_list, index):\n",
        "    try:\n",
        "        return my_list[index]\n",
        "    except IndexError:\n",
        "        return \"Index out of range. Please provide a valid index.\"\n",
        "\n",
        "def replace_element_at_index(my_list, index, new_value):\n",
        "    try:\n",
        "        my_list[index] = new_value\n",
        "        return my_list\n",
        "    except IndexError:\n",
        "        return \"Index out of range. Cannot replace value.\"\n",
        "\n",
        "def get_sublist_between_indices(my_list, start_index, end_index):\n",
        "    if start_index < 0 or end_index > len(my_list) or start_index >= end_index:\n",
        "        return \"Invalid indices. Please provide a valid range.\"\n",
        "    return my_list[start_index:end_index]\n",
        "\n",
        "def main():\n",
        "    my_list = [42, \"apple\", 3.14, \"banana\", 100]\n",
        "    print(\"Welcome to the List Operation Game!\")\n",
        "    print(\"Your starting list is:\", my_list)\n",
        "    print(\"Available operations: access, modify, slice\")\n",
        "\n",
        "    operation = input(\"Choose an operation: \").strip().lower()\n",
        "\n",
        "    if operation == \"access\":\n",
        "        index = int(input(\"Enter the index to access: \"))\n",
        "        result = get_element_at_index(my_list, index)\n",
        "        print(\"Result:\", result)\n",
        "\n",
        "    elif operation == \"modify\":\n",
        "        index = int(input(\"Enter the index to modify: \"))\n",
        "        new_value = input(\"Enter the new value: \")\n",
        "        result = replace_element_at_index(my_list, index, new_value)\n",
        "        print(\"Updated list:\", result)\n",
        "\n",
        "    elif operation == \"slice\":\n",
        "        start_index = int(input(\"Enter the start index: \"))\n",
        "        end_index = int(input(\"Enter the end index: \"))\n",
        "        result = get_sublist_between_indices(my_list, start_index, end_index)\n",
        "        print(\"Sliced list:\", result)\n",
        "\n",
        "    else:\n",
        "        print(\"Invalid operation selected.\")\n",
        "\n",
        "    print(\"Final list state:\", my_list)\n",
        "\n",
        "if __name__ == '__main__':\n",
        "    main()"
      ],
      "metadata": {
        "colab": {
          "base_uri": "https://localhost:8080/"
        },
        "id": "3vGFuTzWOlRG",
        "outputId": "e615f928-c1ca-4e05-bdeb-baac3e5ac89f"
      },
      "execution_count": 9,
      "outputs": [
        {
          "output_type": "stream",
          "name": "stdout",
          "text": [
            "Welcome to the List Operation Game!\n",
            "Your starting list is: [42, 'apple', 3.14, 'banana', 100]\n",
            "Available operations: access, modify, slice\n",
            "Choose an operation: slice\n",
            "Enter the start index: 0\n",
            "Enter the end index: 7\n",
            "Sliced list: Invalid indices. Please provide a valid range.\n",
            "Final list state: [42, 'apple', 3.14, 'banana', 100]\n"
          ]
        }
      ]
    }
  ]
}