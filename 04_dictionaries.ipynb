{
  "nbformat": 4,
  "nbformat_minor": 0,
  "metadata": {
    "colab": {
      "provenance": [],
      "authorship_tag": "ABX9TyMZxJG0dJeDBsdTrtYGi2Dx",
      "include_colab_link": true
    },
    "kernelspec": {
      "name": "python3",
      "display_name": "Python 3"
    },
    "language_info": {
      "name": "python"
    }
  },
  "cells": [
    {
      "cell_type": "markdown",
      "metadata": {
        "id": "view-in-github",
        "colab_type": "text"
      },
      "source": [
        "<a href=\"https://colab.research.google.com/github/noorsahar001/Python-Assignments-04/blob/main/04_dictionaries.ipynb\" target=\"_parent\"><img src=\"https://colab.research.google.com/assets/colab-badge.svg\" alt=\"Open In Colab\"/></a>"
      ]
    },
    {
      "cell_type": "markdown",
      "source": [
        "#**04_dictionaries**"
      ],
      "metadata": {
        "id": "WLLcCHDA_GIZ"
      }
    },
    {
      "cell_type": "markdown",
      "source": [
        "#00_count_nums"
      ],
      "metadata": {
        "id": "6Bq7W5Ol_NGQ"
      }
    },
    {
      "cell_type": "code",
      "source": [
        "def count_num():\n",
        "  count_dict = {}\n",
        "\n",
        "  while True:\n",
        "    num = input(\"Enter a number(or 'Exit' to quit): \")\n",
        "    if num.lower() == 'exit':\n",
        "      break\n",
        "    if num.isdigit():\n",
        "      num = int(num)\n",
        "      count_dict[num] = count_dict.get(num, 0) + 1\n",
        "      print(count_dict)\n",
        "    else:\n",
        "      print(\"Invalid input. Please Enter a number or 'Exit'.\")\n",
        "  return(count_dict)\n",
        "\n",
        "def display_counts(count_dict):\n",
        "  print(\"\\n Number Counts:\")\n",
        "  for key, value in count_dict.items():\n",
        "    print(f'{key} apperas {value} times')\n",
        "\n",
        "if __name__ == \"__main__\":\n",
        "  count = count_num()\n",
        "  display_counts(count)"
      ],
      "metadata": {
        "colab": {
          "base_uri": "https://localhost:8080/"
        },
        "id": "UmDJKrm1Lzbo",
        "outputId": "c481a22b-78a7-4c0e-f77d-081376661cd7"
      },
      "execution_count": null,
      "outputs": [
        {
          "output_type": "stream",
          "name": "stdout",
          "text": [
            "Enter a number(or 'Exit' to quit): 20\n",
            "{20: 1}\n",
            "Enter a number(or 'Exit' to quit): exit\n",
            "\n",
            " Number Counts:\n",
            "20 apperas 1 times\n"
          ]
        }
      ]
    },
    {
      "cell_type": "markdown",
      "source": [
        "#01_phonebook"
      ],
      "metadata": {
        "id": "cdRfdJKGR2XF"
      }
    },
    {
      "cell_type": "code",
      "source": [
        "def display_menu():\n",
        "  print(\"\\nPhonebook menu:\")\n",
        "  print(\"1. Add contact\")\n",
        "  print(\"2. Search Contact\")\n",
        "  print(\"3. Display All Contacts\")\n",
        "  print(\"4. Exit\")\n",
        "\n",
        "def add_contact(phonebook):\n",
        "  name = input(\"Enter contact name: \")\n",
        "  number = input(\"Enter phone number: \")\n",
        "  phonebook[name] = number\n",
        "  print(f\"{name} added to phonebook.\")\n",
        "\n",
        "def search_contact(phonebook):\n",
        "  name = input(\"Enter name to search: \")\n",
        "  if name in phonebook:\n",
        "    print(f\"{name}'s number is {phonebook[name]}\")\n",
        "  else:\n",
        "    print(f\"{name} not found in phonebook\")\n",
        "\n",
        "def display_contacts(phonebook):\n",
        "  if not phonebook:\n",
        "    print(\"Phonebook is empty.\")\n",
        "  else:\n",
        "    print(\"\\nAll Contacts:\")\n",
        "    for name, number in phonebook.items():\n",
        "      print(f\"{name}: {number}\")\n",
        "\n",
        "def phonebook_app():\n",
        "  phonebook = {}\n",
        "  while True:\n",
        "    display_menu()\n",
        "    choice = input(\"Enter your choice (1-4): \")\n",
        "\n",
        "    if choice == '1':\n",
        "      add_contact(phonebook)\n",
        "    elif choice == '2':\n",
        "      search_contact(phonebook)\n",
        "    elif choice == '3':\n",
        "      display_contacts(phonebook)\n",
        "    elif choice == '4':\n",
        "      print(\"Exiting Phonebook. Goodbye!\")\n",
        "      break\n",
        "    else:\n",
        "      print(\"Invalid choice. Please try again.\")\n",
        "\n",
        "if __name__ == '__main__':\n",
        "  phonebook_app()"
      ],
      "metadata": {
        "colab": {
          "base_uri": "https://localhost:8080/"
        },
        "id": "GpF_TZ54R-g9",
        "outputId": "504851ef-ff46-4c41-d367-5a7f7c223c82"
      },
      "execution_count": null,
      "outputs": [
        {
          "output_type": "stream",
          "name": "stdout",
          "text": [
            "\n",
            "Phonebook menu:\n",
            "1. Add contact\n",
            "2. Search Contact\n",
            "3. Display All Contacts\n",
            "4. Exit\n",
            "Enter your choice (1-4): 1\n",
            "Enter contact name: Noor Sahar\n",
            "Enter phone number: +92 123 456 789\n",
            "Noor Sahar added to phonebook.\n",
            "\n",
            "Phonebook menu:\n",
            "1. Add contact\n",
            "2. Search Contact\n",
            "3. Display All Contacts\n",
            "4. Exit\n",
            "Enter your choice (1-4): 2\n",
            "Enter name to search: Noor Sahar\n",
            "Noor Sahar's number is +92 123 456 789\n",
            "\n",
            "Phonebook menu:\n",
            "1. Add contact\n",
            "2. Search Contact\n",
            "3. Display All Contacts\n",
            "4. Exit\n",
            "Enter your choice (1-4): 2\n",
            "Enter name to search: Rasheeda Shafiq\n",
            "Rasheeda Shafiq not found in phonebook\n",
            "\n",
            "Phonebook menu:\n",
            "1. Add contact\n",
            "2. Search Contact\n",
            "3. Display All Contacts\n",
            "4. Exit\n",
            "Enter your choice (1-4): 3\n",
            "\n",
            "All Contacts:\n",
            "Noor Sahar: +92 123 456 789\n",
            "\n",
            "Phonebook menu:\n",
            "1. Add contact\n",
            "2. Search Contact\n",
            "3. Display All Contacts\n",
            "4. Exit\n",
            "Enter your choice (1-4): 4\n",
            "Exiting Phonebook. Goodbye!\n"
          ]
        }
      ]
    },
    {
      "cell_type": "markdown",
      "source": [
        "#02_pop_up_shop"
      ],
      "metadata": {
        "id": "fgVthZQscmBH"
      }
    },
    {
      "cell_type": "code",
      "source": [
        "def fruit_shop():\n",
        "  fruits = {\n",
        "      \"apple\": 10.5,\n",
        "      \"durain\": 25.0,\n",
        "      \"jackfruit\": 30.0,\n",
        "      \"kiwi\": 15.5,\n",
        "      \"rambutan\": 8.5,\n",
        "      \"mango\": 12.0\n",
        "  }\n",
        "  total_cost = 0.0\n",
        "\n",
        "  for fruit, price in fruits.items():\n",
        "    while True:\n",
        "         try:\n",
        "           quantity = int(input(f\"How many ({fruit}) do you want?: \"))\n",
        "           if quantity < 0:\n",
        "               print(\"Please Enter a non-negative number.\")\n",
        "               continue\n",
        "           total_cost += price * quantity\n",
        "           break\n",
        "         except ValueError:\n",
        "           print(\"Please Enter a valid number.\")\n",
        "    print(f\"\\nYour total is ${total_cost:.2f}\")\n",
        "\n",
        "if __name__ == '__main__':\n",
        "  fruit_shop()\n"
      ],
      "metadata": {
        "colab": {
          "base_uri": "https://localhost:8080/"
        },
        "id": "XHBqjOhzdUGo",
        "outputId": "3791af78-3fdc-4db4-cf45-b7790ed34763"
      },
      "execution_count": null,
      "outputs": [
        {
          "output_type": "stream",
          "name": "stdout",
          "text": [
            "How many (apple) do you want?: 2\n",
            "\n",
            "Your total is $21.00\n",
            "How many (durain) do you want?: 0\n",
            "\n",
            "Your total is $21.00\n",
            "How many (jackfruit) do you want?: 1\n",
            "\n",
            "Your total is $51.00\n",
            "How many (kiwi) do you want?: 3\n",
            "\n",
            "Your total is $97.50\n",
            "How many (rambutan) do you want?: 4\n",
            "\n",
            "Your total is $131.50\n",
            "How many (mango) do you want?: 6\n",
            "\n",
            "Your total is $203.50\n"
          ]
        }
      ]
    },
    {
      "cell_type": "markdown",
      "source": [
        "#03_powerful_passwords"
      ],
      "metadata": {
        "id": "UHAsD41JkOFt"
      }
    },
    {
      "cell_type": "code",
      "source": [
        "import hashlib\n",
        "def hash_password(password):\n",
        "  return hashlib.sha256(password.encode()).hexdigest()\n",
        "\n",
        "stored_logins = {\n",
        "    \"user@example.com\":hash_password(\"password123\"),\n",
        "    \"admin@example.com\":hash_password(\"adminpass\")\n",
        "}\n",
        "\n",
        "def login(email,password):\n",
        "  if email in stored_logins:\n",
        "    return stored_logins[email] == hash_password(password)\n",
        "  return False\n",
        "\n",
        "if __name__ == \"__main__\":\n",
        "  email = input(\"Enter your email: \")\n",
        "  password = input(\"Enter your password: \")\n",
        "\n",
        "  if login (email,password):\n",
        "    print(\"Login Successful!\")\n",
        "  else:\n",
        "    print(\"Invalid email or password.\")"
      ],
      "metadata": {
        "colab": {
          "base_uri": "https://localhost:8080/"
        },
        "id": "f-iPD3kcJYD9",
        "outputId": "b7399bca-2572-4750-811b-60168cda3884"
      },
      "execution_count": 4,
      "outputs": [
        {
          "output_type": "stream",
          "name": "stdout",
          "text": [
            "Enter your email: user@example.com\n",
            "Enter your password: password123\n",
            "Login Successful!\n"
          ]
        }
      ]
    }
  ]
}