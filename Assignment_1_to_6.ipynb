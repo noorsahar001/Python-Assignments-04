{
  "nbformat": 4,
  "nbformat_minor": 0,
  "metadata": {
    "colab": {
      "provenance": [],
      "authorship_tag": "ABX9TyN6dxdOMBWjT2hhtkQMya3B",
      "include_colab_link": true
    },
    "kernelspec": {
      "name": "python3",
      "display_name": "Python 3"
    },
    "language_info": {
      "name": "python"
    }
  },
  "cells": [
    {
      "cell_type": "markdown",
      "metadata": {
        "id": "view-in-github",
        "colab_type": "text"
      },
      "source": [
        "<a href=\"https://colab.research.google.com/github/noorsahar001/Python-Assignments-04/blob/main/Assignment_1_to_6.ipynb\" target=\"_parent\"><img src=\"https://colab.research.google.com/assets/colab-badge.svg\" alt=\"Open In Colab\"/></a>"
      ]
    },
    {
      "cell_type": "markdown",
      "source": [
        "#**Project 1:**"
      ],
      "metadata": {
        "id": "c_mkvLpckMqr"
      }
    },
    {
      "cell_type": "markdown",
      "source": [
        "#Mad libs Python Project"
      ],
      "metadata": {
        "id": "ey8teHW2kfrA"
      }
    },
    {
      "cell_type": "code",
      "source": [
        "youtuber = \"Noor Sehar\"\n",
        "print(\"subscribe to \" + youtuber)\n",
        "print(\"subscribe to {}\".format(youtuber))\n",
        "print(f\"subscribe to {youtuber}\")"
      ],
      "metadata": {
        "colab": {
          "base_uri": "https://localhost:8080/"
        },
        "id": "OarWZHyPBIud",
        "outputId": "ec27f3e8-6ede-4eeb-bfcb-22b37617e788"
      },
      "execution_count": null,
      "outputs": [
        {
          "output_type": "stream",
          "name": "stdout",
          "text": [
            "subscribe to Noor Sehar\n",
            "subscribe to Noor Sehar\n",
            "subscribe to Noor Sehar\n"
          ]
        }
      ]
    },
    {
      "cell_type": "code",
      "source": [
        "adj = input(\"Adjective: \")\n",
        "verb1 = input(\"Verb: \")\n",
        "verb2 = input(\"Verb: \")\n",
        "famous_person = input(\"Famous person: \")\n",
        "\n",
        "madlib = f\"Computer programming is so {adj}! \\nIt makes me so excited all the time because I love to {verb1}. \\nStay hydrated and {verb2} like you are {famous_person}!\"\n",
        "\n",
        "print(madlib)\n"
      ],
      "metadata": {
        "colab": {
          "base_uri": "https://localhost:8080/"
        },
        "id": "rFSRLGsfGkO3",
        "outputId": "95ad1d0f-7eff-4c17-9ec3-0992648ac8e8"
      },
      "execution_count": null,
      "outputs": [
        {
          "output_type": "stream",
          "name": "stdout",
          "text": [
            "Adjective: chilling\n",
            "Verb: Paragliding\n",
            "Verb: jump\n",
            "Famous person: Captain America\n",
            "Computer programming is so chilling! \n",
            "It makes me so excited all the time because I love to Paragliding. \n",
            "Stay hydrated and jump like you are Captain America!\n"
          ]
        }
      ]
    },
    {
      "cell_type": "markdown",
      "source": [
        "# **Project 2 :**"
      ],
      "metadata": {
        "id": "NHbXtzvAJrSG"
      }
    },
    {
      "cell_type": "markdown",
      "source": [
        "#Guess the Number Game Python Project (computer)"
      ],
      "metadata": {
        "id": "cdYbtm0RJ07-"
      }
    },
    {
      "cell_type": "code",
      "source": [
        "import random\n",
        "\n",
        "def guess(x):\n",
        "    random_number = random.randint(1, x)\n",
        "    guess = 0\n",
        "    while guess != random_number:\n",
        "        guess = int(input(f\"Guess a number between 1 and {x}: \"))\n",
        "        if guess < random_number:\n",
        "            print(\"Sorry, Guess again. Too low!\")\n",
        "        elif guess > random_number:\n",
        "            print(\"Sorry, Guess again. Too high!\")\n",
        "\n",
        "    print(f\"Yay, Congrats. You have guessed the number {random_number} correctly!\")\n",
        "\n",
        "guess(10)\n"
      ],
      "metadata": {
        "colab": {
          "base_uri": "https://localhost:8080/"
        },
        "id": "3YB84PZzJ5X2",
        "outputId": "ba6cbe1c-39eb-4689-8fbd-4f96110d457e"
      },
      "execution_count": null,
      "outputs": [
        {
          "output_type": "stream",
          "name": "stdout",
          "text": [
            "Guess a number between 1 and 10: 4\n",
            "Sorry, Guess again. Too low!\n",
            "Guess a number between 1 and 10: 5\n",
            "Yay, Congrats. You have guessed the number 5 correctly!\n"
          ]
        }
      ]
    },
    {
      "cell_type": "markdown",
      "source": [
        "#**Project 3 :**"
      ],
      "metadata": {
        "id": "_mWwthQbKN2s"
      }
    },
    {
      "cell_type": "markdown",
      "source": [
        "#Guess the number Game Python Project (user)"
      ],
      "metadata": {
        "id": "ZL_8fIQJKa2L"
      }
    },
    {
      "cell_type": "code",
      "source": [
        "import random\n",
        "\n",
        "def guess(x):\n",
        "    random_number = random.randint(1, x)\n",
        "    guess = 0\n",
        "    while guess != random_number:\n",
        "        guess = int(input(f\"Guess a number between 1 and {x}: \"))\n",
        "        if guess < random_number:\n",
        "            print(\"Sorry, guess again. Too low!\")\n",
        "        elif guess > random_number:\n",
        "            print(\"Sorry, guess again. Too high!\")\n",
        "    print(f\"Yay, congrats, You have guessed the number {random_number} correctly!\")\n",
        "\n",
        "def computer_guess(x):\n",
        "    low = 1\n",
        "    high = x\n",
        "    feedback = \"\"\n",
        "    while feedback != \"c\":\n",
        "        if low != high:\n",
        "            guess = random.randint(low, high)\n",
        "        else:\n",
        "            guess = low\n",
        "        feedback = input(f\"Is {guess} too high (H), too low (L) or correct (C)?? \").lower()\n",
        "        if feedback == \"h\":\n",
        "            high = guess - 1\n",
        "        elif feedback == \"l\":\n",
        "            low = guess + 1\n",
        "\n",
        "    print(f\"Yay! The computer guessed your number, {guess} correctly!\")\n",
        "\n",
        "computer_guess(1000)"
      ],
      "metadata": {
        "colab": {
          "base_uri": "https://localhost:8080/"
        },
        "id": "Fbq0hmoTKfvk",
        "outputId": "9a987894-3c2b-4337-ee51-861c9f8d853b"
      },
      "execution_count": null,
      "outputs": [
        {
          "output_type": "stream",
          "name": "stdout",
          "text": [
            "Is 298 too high (H), too low (L) or correct (C)?? H\n",
            "Is 283 too high (H), too low (L) or correct (C)?? L\n",
            "Is 296 too high (H), too low (L) or correct (C)?? C\n",
            "Yay! The computer guessed your number, 296 correctly!\n"
          ]
        }
      ]
    },
    {
      "cell_type": "markdown",
      "source": [
        "#**Project 4 :**"
      ],
      "metadata": {
        "id": "l52rasadLXIy"
      }
    },
    {
      "cell_type": "markdown",
      "source": [
        "#Rock, Paper, Scissors Python Project"
      ],
      "metadata": {
        "id": "pfSvDLgkLibV"
      }
    },
    {
      "cell_type": "code",
      "source": [
        "import random\n",
        "\n",
        "def play():\n",
        "    user = input(\"What's your choice? 'r' for rock, 'p' for paper, 's' for scissors\\n\")\n",
        "    computer = random.choice(['r', 'p', 's'])\n",
        "\n",
        "    if user == computer:\n",
        "        return \"Tie\"\n",
        "\n",
        "    if is_win(user, computer):\n",
        "        return \"You won!\"\n",
        "\n",
        "\n",
        "    return \"You lost!\"\n",
        "\n",
        "\n",
        "def is_win(player, opponent):\n",
        "    if (player == 'r' and opponent == 's') or (player == 's' and opponent == 'p') \\\n",
        "        or (player == 'p' and opponent == 'r'):\n",
        "        return True\n",
        "\n",
        "\n",
        "print(play())"
      ],
      "metadata": {
        "colab": {
          "base_uri": "https://localhost:8080/"
        },
        "id": "VQ5HnHpDLnz9",
        "outputId": "52612b87-75a7-47fb-a208-1a7047cfb985"
      },
      "execution_count": null,
      "outputs": [
        {
          "output_type": "stream",
          "name": "stdout",
          "text": [
            "What's your choice? 'r' for rock, 'p' for paper, 's' for scissors\n",
            "p\n",
            "You won!\n"
          ]
        }
      ]
    },
    {
      "cell_type": "markdown",
      "source": [
        "#**Project 5 :**"
      ],
      "metadata": {
        "id": "LVBlRKGYMMuP"
      }
    },
    {
      "cell_type": "markdown",
      "source": [
        "#Hangman Python Project"
      ],
      "metadata": {
        "id": "JZKnBlGOMRKd"
      }
    },
    {
      "cell_type": "code",
      "source": [
        "words = [\"aback\",\"abaft\",\"abandoned\",\"abashed\",\"aberrant\",\"abhorrent\",\"abiding\",\"abject\",\"ablaze\",\"able\",\"abnormal\",\"aboard\",\"aboriginal\",\"abortive\",\"abounding\",\"abrasive\",\"abrupt\",\"absent\",\"absorbed\",\"absorbing\",\"abstracted\",\"absurd\",\"abundant\",\"abusive\",\"acceptable\",\"accessible\",\"accidental\",\"accurate\",\"acid\",\"acidic\",\"acoustic\",\"acrid\",\"actually\",\"ad hoc\",\"adamant\",\"adaptable\",\"addicted\",\"adhesive\",\"adjoining\",\"adorable\",\"adventurous\",\"afraid\",\"aggressive\",\"agonizing\",\"agreeable\",\"ahead\",\"ajar\",\"alcoholic\",\"alert\",\"alike\",\"alive\",\"alleged\",\"alluring\",\"aloof\",\"amazing\",\"ambiguous\",\"ambitious\",\"amuck\",\"amused\",\"amusing\",\"ancient\",\"angry\",\"animated\",\"annoyed\",\"annoying\",\"anxious\",\"apathetic\",\"aquatic\",\"aromatic\",\"arrogant\",\"ashamed\",\"aspiring\",\"assorted\",\"astonishing\",\"attractive\",\"auspicious\",\"automatic\",\"available\",\"average\",\"awake\",\"aware\",\"awesome\",\"awful\",\"axiomatic\",\"bad\",\"barbarous\",\"bashful\",\"bawdy\",\"beautiful\",\"befitting\",\"belligerent\",\"beneficial\",\"bent\",\"berserk\",\"best\",\"better\",\"bewildered\",\"big\",\"billowy\",\"bite-sized\",\"bitter\",\"bizarre\",\"black\",\"black-and-white\",\"bloody\",\"blue\",\"blue-eyed\",\"blushing\",\"boiling\",\"boorish\",\"bored\",\"boring\",\"bouncy\",\"boundless\",\"brainy\",\"brash\",\"brave\",\"brawny\",\"breakable\",\"breezy\",\"brief\",\"bright\",\"bright\",\"broad\",\"broken\",\"brown\",\"bumpy\",\"burly\",\"bustling\",\"busy\",\"cagey\",\"calculating\",\"callous\",\"calm\",\"capable\",\"capricious\",\"careful\",\"careless\",\"caring\",\"cautious\",\"ceaseless\",\"certain\",\"changeable\",\"charming\",\"cheap\",\"cheerful\",\"chemical\",\"chief\",\"childlike\",\"chilly\",\"chivalrous\",\"chubby\",\"chunky\",\"clammy\",\"classy\",\"clean\",\"clear\",\"clever\",\"cloistered\",\"cloudy\",\"closed\",\"clumsy\",\"cluttered\",\"coherent\",\"cold\",\"colorful\",\"colossal\",\"combative\",\"comfortable\",\"common\",\"complete\",\"complex\",\"concerned\",\"condemned\",\"confused\",\"conscious\",\"cooing\",\"cool\",\"cooperative\",\"coordinated\",\"courageous\",\"cowardly\",\"crabby\",\"craven\",\"crazy\",\"creepy\",\"crooked\",\"crowded\",\"cruel\",\"cuddly\",\"cultured\",\"cumbersome\",\"curious\",\"curly\",\"curved\",\"curvy\",\"cut\",\"cute\",\"cute\",\"cynical\",\"daffy\",\"daily\",\"damaged\",\"damaging\",\"damp\",\"dangerous\",\"dapper\",\"dark\",\"dashing\",\"dazzling\",\"dead\",\"deadpan\",\"deafening\",\"dear\",\"debonair\",\"decisive\",\"decorous\",\"deep\",\"deeply\",\"defeated\",\"defective\",\"defiant\",\"delicate\",\"delicious\",\"delightful\",\"demonic\",\"delirious\",\"dependent\",\"depressed\",\"deranged\",\"descriptive\",\"deserted\",\"detailed\",\"determined\",\"devilish\",\"didactic\",\"different\",\"difficult\",\"diligent\",\"direful\",\"dirty\",\"disagreeable\",\"disastrous\",\"discreet\",\"disgusted\",\"disgusting\",\"disillusioned\",\"dispensable\",\"distinct\",\"disturbed\",\"divergent\",\"dizzy\",\"domineering\",\"doubtful\",\"drab\",\"draconian\",\"dramatic\",\"dreary\",\"drunk\",\"dry\",\"dull\",\"dusty\",\"dusty\",\"dynamic\",\"dysfunctional\",\"eager\",\"early\",\"earsplitting\",\"earthy\",\"easy\",\"eatable\",\"economic\",\"educated\",\"efficacious\",\"efficient\",\"eight\",\"elastic\",\"elated\",\"elderly\",\"electric\",\"elegant\",\"elfin\",\"elite\",\"embarrassed\",\"eminent\",\"empty\",\"enchanted\",\"enchanting\",\"encouraging\",\"endurable\",\"energetic\",\"enormous\",\"entertaining\",\"enthusiastic\",\"envious\",\"equable\",\"equal\",\"erect\",\"erratic\",\"ethereal\",\"evanescent\",\"evasive\",\"even\",\"excellent\",\"excited\",\"exciting\",\"exclusive\",\"exotic\",\"expensive\",\"extra-large\",\"extra-small\",\"exuberant\",\"exultant\",\"fabulous\",\"faded\",\"faint\",\"fair\",\"faithful\",\"fallacious\",\"false\",\"familiar\",\"famous\",\"fanatical\",\"fancy\",\"fantastic\",\"far\",\"far-flung\",\"fascinated\",\"fast\",\"fat\",\"faulty\",\"fearful\",\"fearless\",\"feeble\",\"feigned\",\"female\",\"fertile\",\"festive\",\"few\",\"fierce\",\"filthy\",\"fine\",\"finicky\",\"first\",\"five\",\"fixed\",\"flagrant\",\"flaky\",\"flashy\",\"flat\",\"flawless\",\"flimsy\",\"flippant\",\"flowery\",\"fluffy\",\"fluttering\",\"foamy\",\"foolish\",\"foregoing\",\"forgetful\",\"fortunate\",\"four\",\"frail\",\"fragile\",\"frantic\",\"free\",\"freezing\",\"frequent\",\"fresh\",\"fretful\",\"friendly\",\"frightened\",\"frightening\",\"full\",\"fumbling\",\"functional\",\"funny\",\"furry\",\"furtive\",\"future\",\"futuristic\",\"fuzzy\",\"gabby\",\"gainful\",\"gamy\",\"gaping\",\"garrulous\",\"gaudy\",\"general\",\"gentle\",\"giant\",\"giddy\",\"gifted\",\"gigantic\",\"glamorous\",\"gleaming\",\"glib\",\"glistening\",\"glorious\",\"glossy\",\"godly\",\"good\",\"goofy\",\"gorgeous\",\"graceful\",\"grandiose\",\"grateful\",\"gratis\",\"gray\",\"greasy\",\"great\",\"greedy\",\"green\",\"grey\",\"grieving\",\"groovy\",\"grotesque\",\"grouchy\",\"grubby\",\"gruesome\",\"grumpy\",\"guarded\",\"guiltless\",\"gullible\",\"gusty\",\"guttural\",\"habitual\",\"half\",\"hallowed\",\"halting\",\"handsome\",\"handsomely\",\"handy\",\"hanging\",\"hapless\",\"happy\",\"hard\",\"hard-to-find\",\"harmonious\",\"harsh\",\"hateful\",\"heady\",\"healthy\",\"heartbreaking\",\"heavenly\",\"heavy\",\"hellish\",\"helpful\",\"helpless\",\"hesitant\",\"hideous\",\"high\",\"highfalutin\",\"high-pitched\",\"hilarious\",\"hissing\",\"historical\",\"holistic\",\"hollow\",\"homeless\",\"homely\",\"honorable\",\"horrible\",\"hospitable\",\"hot\",\"huge\",\"hulking\",\"humdrum\",\"humorous\",\"hungry\",\"hurried\",\"hurt\",\"hushed\",\"husky\",\"hypnotic\",\"hysterical\",\"icky\",\"icy\",\"idiotic\",\"ignorant\",\"ill\",\"illegal\",\"ill-fated\",\"ill-informed\",\"illustrious\",\"imaginary\",\"immense\",\"imminent\",\"impartial\",\"imperfect\",\"impolite\",\"important\",\"imported\",\"impossible\",\"incandescent\",\"incompetent\",\"inconclusive\",\"industrious\",\"incredible\",\"inexpensive\",\"infamous\",\"innate\",\"innocent\",\"inquisitive\",\"insidious\",\"instinctive\",\"intelligent\",\"interesting\",\"internal\",\"invincible\",\"irate\",\"irritating\",\"itchy\",\"jaded\",\"jagged\",\"jazzy\",\"jealous\",\"jittery\",\"jobless\",\"jolly\",\"joyous\",\"judicious\",\"juicy\",\"jumbled\",\"jumpy\",\"juvenile\",\"kaput\",\"keen\",\"kind\",\"kindhearted\",\"kindly\",\"knotty\",\"knowing\",\"knowledgeable\",\"known\",\"labored\",\"lackadaisical\",\"lacking\",\"lame\",\"lamentable\",\"languid\",\"large\",\"last\",\"late\",\"laughable\",\"lavish\",\"lazy\",\"lean\",\"learned\",\"left\",\"legal\",\"lethal\",\"level\",\"lewd\",\"light\",\"like\",\"likeable\",\"limping\",\"literate\",\"little\",\"lively\",\"lively\",\"living\",\"lonely\",\"long\",\"longing\",\"long-term\",\"loose\",\"lopsided\",\"loud\",\"loutish\",\"lovely\",\"loving\",\"low\",\"lowly\",\"lucky\",\"ludicrous\",\"lumpy\",\"lush\",\"luxuriant\",\"lying\",\"lyrical\",\"macabre\",\"macho\",\"maddening\",\"madly\",\"magenta\",\"magical\",\"magnificent\",\"majestic\",\"makeshift\",\"male\",\"malicious\",\"mammoth\",\"maniacal\",\"many\",\"marked\",\"massive\",\"married\",\"marvelous\",\"material\",\"materialistic\",\"mature\",\"mean\",\"measly\",\"meaty\",\"medical\",\"meek\",\"mellow\",\"melodic\",\"melted\",\"merciful\",\"mere\",\"messy\",\"mighty\",\"military\",\"milky\",\"mindless\",\"miniature\",\"minor\",\"miscreant\",\"misty\",\"mixed\",\"moaning\",\"modern\",\"moldy\",\"momentous\",\"motionless\",\"mountainous\",\"muddled\",\"mundane\",\"murky\",\"mushy\",\"mute\",\"mysterious\",\"naive\",\"nappy\",\"narrow\",\"nasty\",\"natural\",\"naughty\",\"nauseating\",\"near\",\"neat\",\"nebulous\",\"necessary\",\"needless\",\"needy\",\"neighborly\",\"nervous\",\"new\",\"next\",\"nice\",\"nifty\",\"nimble\",\"nine\",\"nippy\",\"noiseless\",\"noisy\",\"nonchalant\",\"nondescript\",\"nonstop\",\"normal\",\"nostalgic\",\"nosy\",\"noxious\",\"null\",\"numberless\",\"numerous\",\"nutritious\",\"nutty\",\"oafish\",\"obedient\",\"obeisant\",\"obese\",\"obnoxious\",\"obscene\",\"obsequious\",\"observant\",\"obsolete\",\"obtainable\",\"oceanic\",\"odd\",\"offbeat\",\"old\",\"old-fashioned\",\"omniscient\",\"one\",\"onerous\",\"open\",\"opposite\",\"optimal\",\"orange\",\"ordinary\",\"organic\",\"ossified\",\"outgoing\",\"outrageous\",\"outstanding\",\"oval\",\"overconfident\",\"overjoyed\",\"overrated\",\"overt\",\"overwrought\",\"painful\",\"painstaking\",\"pale\",\"paltry\",\"panicky\",\"panoramic\",\"parallel\",\"parched\",\"parsimonious\",\"past\",\"pastoral\",\"pathetic\",\"peaceful\",\"penitent\",\"perfect\",\"periodic\",\"permissible\",\"perpetual\",\"petite\",\"petite\",\"phobic\",\"physical\",\"picayune\",\"pink\",\"piquant\",\"placid\",\"plain\",\"plant\",\"plastic\",\"plausible\",\"pleasant\",\"plucky\",\"pointless\",\"poised\",\"polite\",\"political\",\"poor\",\"possessive\",\"possible\",\"powerful\",\"precious\",\"premium\",\"present\",\"pretty\",\"previous\",\"pricey\",\"prickly\",\"private\",\"probable\",\"productive\",\"profuse\",\"protective\",\"proud\",\"psychedelic\",\"psychotic\",\"public\",\"puffy\",\"pumped\",\"puny\",\"purple\",\"purring\",\"pushy\",\"puzzled\",\"puzzling\",\"quack\",\"quaint\",\"quarrelsome\",\"questionable\",\"quick\",\"quickest\",\"quiet\",\"quirky\",\"quixotic\",\"quizzical\",\"rabid\",\"racial\",\"ragged\",\"rainy\",\"rambunctious\",\"rampant\",\"rapid\",\"rare\",\"raspy\",\"ratty\",\"ready\",\"real\",\"rebel\",\"receptive\",\"recondite\",\"red\",\"redundant\",\"reflective\",\"regular\",\"relieved\",\"remarkable\",\"reminiscent\",\"repulsive\",\"resolute\",\"resonant\",\"responsible\",\"rhetorical\",\"rich\",\"right\",\"righteous\",\"rightful\",\"rigid\",\"ripe\",\"ritzy\",\"roasted\",\"robust\",\"romantic\",\"roomy\",\"rotten\",\"rough\",\"round\",\"royal\",\"ruddy\",\"rude\",\"rural\",\"rustic\",\"ruthless\",\"sable\",\"sad\",\"safe\",\"salty\",\"same\",\"sassy\",\"satisfying\",\"savory\",\"scandalous\",\"scarce\",\"scared\",\"scary\",\"scattered\",\"scientific\",\"scintillating\",\"scrawny\",\"screeching\",\"second\",\"second-hand\",\"secret\",\"secretive\",\"sedate\",\"seemly\",\"selective\",\"selfish\",\"separate\",\"serious\",\"shaggy\",\"shaky\",\"shallow\",\"sharp\",\"shiny\",\"shivering\",\"shocking\",\"short\",\"shrill\",\"shut\",\"shy\",\"sick\",\"silent\",\"silent\",\"silky\",\"silly\",\"simple\",\"simplistic\",\"sincere\",\"six\",\"skillful\",\"skinny\",\"sleepy\",\"slim\",\"slimy\",\"slippery\",\"sloppy\",\"slow\",\"small\",\"smart\",\"smelly\",\"smiling\",\"smoggy\",\"smooth\",\"sneaky\",\"snobbish\",\"snotty\",\"soft\",\"soggy\",\"solid\",\"somber\",\"sophisticated\",\"sordid\",\"sore\",\"sore\",\"sour\",\"sparkling\",\"special\",\"spectacular\",\"spicy\",\"spiffy\",\"spiky\",\"spiritual\",\"spiteful\",\"splendid\",\"spooky\",\"spotless\",\"spotted\",\"spotty\",\"spurious\",\"squalid\",\"square\",\"squealing\",\"squeamish\",\"staking\",\"stale\",\"standing\",\"statuesque\",\"steadfast\",\"steady\",\"steep\",\"stereotyped\",\"sticky\",\"stiff\",\"stimulating\",\"stingy\",\"stormy\",\"straight\",\"strange\",\"striped\",\"strong\",\"stupendous\",\"stupid\",\"sturdy\",\"subdued\",\"subsequent\",\"substantial\",\"successful\",\"succinct\",\"sudden\",\"sulky\",\"super\",\"superb\",\"superficial\",\"supreme\",\"swanky\",\"sweet\",\"sweltering\",\"swift\",\"symptomatic\",\"synonymous\",\"taboo\",\"tacit\",\"tacky\",\"talented\",\"tall\",\"tame\",\"tan\",\"tangible\",\"tangy\",\"tart\",\"tasteful\",\"tasteless\",\"tasty\",\"tawdry\",\"tearful\",\"tedious\",\"teeny\",\"teeny-tiny\",\"telling\",\"temporary\",\"ten\",\"tender\",\"tense\",\"tense\",\"tenuous\",\"terrible\",\"terrific\",\"tested\",\"testy\",\"thankful\",\"therapeutic\",\"thick\",\"thin\",\"thinkable\",\"third\",\"thirsty\",\"thirsty\",\"thoughtful\",\"thoughtless\",\"threatening\",\"three\",\"thundering\",\"tidy\",\"tight\",\"tightfisted\",\"tiny\",\"tired\",\"tiresome\",\"toothsome\",\"torpid\",\"tough\",\"towering\",\"tranquil\",\"trashy\",\"tremendous\",\"tricky\",\"trite\",\"troubled\",\"truculent\",\"true\",\"truthful\",\"two\",\"typical\",\"ubiquitous\",\"ugliest\",\"ugly\",\"ultra\",\"unable\",\"unaccountable\",\"unadvised\",\"unarmed\",\"unbecoming\",\"unbiased\",\"uncovered\",\"understood\",\"undesirable\",\"unequal\",\"unequaled\",\"uneven\",\"unhealthy\",\"uninterested\",\"unique\",\"unkempt\",\"unknown\",\"unnatural\",\"unruly\",\"unsightly\",\"unsuitable\",\"untidy\",\"unused\",\"unusual\",\"unwieldy\",\"unwritten\",\"upbeat\",\"uppity\",\"upset\",\"uptight\",\"used\",\"useful\",\"useless\",\"utopian\",\"utter\",\"uttermost\",\"vacuous\",\"vagabond\",\"vague\",\"valuable\",\"various\",\"vast\",\"vengeful\",\"venomous\",\"verdant\",\"versed\",\"victorious\",\"vigorous\",\"violent\",\"violet\",\"vivacious\",\"voiceless\",\"volatile\",\"voracious\",\"vulgar\",\"wacky\",\"waggish\",\"waiting\",\"wakeful\",\"wandering\",\"wanting\",\"warlike\",\"warm\",\"wary\",\"wasteful\",\"watery\",\"weak\",\"wealthy\",\"weary\",\"well-groomed\",\"well-made\",\"well-off\",\"well-to-do\",\"wet\",\"whimsical\",\"whispering\",\"white\",\"whole\",\"wholesale\",\"wicked\",\"wide\",\"wide-eyed\",\"wiggly\",\"wild\",\"willing\",\"windy\",\"wiry\",\"wise\",\"wistful\",\"witty\",\"woebegone\",\"womanly\",\"wonderful\",\"wooden\",\"woozy\",\"workable\",\"worried\",\"worthless\",\"wrathful\",\"wretched\",\"wrong\",\"wry\",\"yellow\",\"yielding\",\"young\",\"youthful\",\"yummy\",\"zany\",\"zealous\",\"zesty\",\"zippy\",\"zonked\",\"account\",\"achiever\",\"acoustics\",\"act\",\"action\",\"activity\",\"actor\",\"addition\",\"adjustment\",\"advertisement\",\"advice\",\"aftermath\",\"afternoon\",\"afterthought\",\"agreement\",\"air\",\"airplane\",\"airport\",\"alarm\",\"amount\",\"amusement\",\"anger\",\"angle\",\"animal\",\"ants\",\"apparatus\",\"apparel\",\"appliance\",\"approval\",\"arch\",\"argument\",\"arithmetic\",\"arm\",\"army\",\"art\",\"attack\",\"attraction\",\"aunt\",\"authority\",\"babies\",\"baby\",\"back\",\"badge\",\"bag\",\"bait\",\"balance\",\"ball\",\"base\",\"baseball\",\"basin\",\"basket\",\"basketball\",\"bat\",\"bath\",\"battle\",\"bead\",\"bear\",\"bed\",\"bedroom\",\"beds\",\"bee\",\"beef\",\"beginner\",\"behavior\",\"belief\",\"believe\",\"bell\",\"bells\",\"berry\",\"bike\",\"bikes\",\"bird\",\"birds\",\"birth\",\"birthday\",\"bit\",\"bite\",\"blade\",\"blood\",\"blow\",\"board\",\"boat\",\"bomb\",\"bone\",\"book\",\"books\",\"boot\",\"border\",\"bottle\",\"boundary\",\"box\",\"boy\",\"brake\",\"branch\",\"brass\",\"breath\",\"brick\",\"bridge\",\"brother\",\"bubble\",\"bucket\",\"building\",\"bulb\",\"burst\",\"bushes\",\"business\",\"butter\",\"button\",\"cabbage\",\"cable\",\"cactus\",\"cake\",\"cakes\",\"calculator\",\"calendar\",\"camera\",\"camp\",\"can\",\"cannon\",\"canvas\",\"cap\",\"caption\",\"car\",\"card\",\"care\",\"carpenter\",\"carriage\",\"cars\",\"cart\",\"cast\",\"cat\",\"cats\",\"cattle\",\"cause\",\"cave\",\"celery\",\"cellar\",\"cemetery\",\"cent\",\"chalk\",\"chance\",\"change\",\"channel\",\"cheese\",\"cherries\",\"cherry\",\"chess\",\"chicken\",\"chickens\",\"children\",\"chin\",\"church\",\"circle\",\"clam\",\"class\",\"cloth\",\"clover\",\"club\",\"coach\",\"coal\",\"coast\",\"coat\",\"cobweb\",\"coil\",\"collar\",\"color\",\"committee\",\"company\",\"comparison\",\"competition\",\"condition\",\"connection\",\"control\",\"cook\",\"copper\",\"corn\",\"cough\",\"country\",\"cover\",\"cow\",\"cows\",\"crack\",\"cracker\",\"crate\",\"crayon\",\"cream\",\"creator\",\"creature\",\"credit\",\"crib\",\"crime\",\"crook\",\"crow\",\"crowd\",\"crown\",\"cub\",\"cup\",\"current\",\"curtain\",\"curve\",\"cushion\",\"dad\",\"daughter\",\"day\",\"death\",\"debt\",\"decision\",\"deer\",\"degree\",\"design\",\"desire\",\"desk\",\"destruction\",\"detail\",\"development\",\"digestion\",\"dime\",\"dinner\",\"dinosaurs\",\"direction\",\"dirt\",\"discovery\",\"discussion\",\"distance\",\"distribution\",\"division\",\"dock\",\"doctor\",\"dog\",\"dogs\",\"doll\",\"dolls\",\"donkey\",\"door\",\"downtown\",\"drain\",\"drawer\",\"dress\",\"drink\",\"driving\",\"drop\",\"duck\",\"ducks\",\"dust\",\"ear\",\"earth\",\"earthquake\",\"edge\",\"education\",\"effect\",\"egg\",\"eggnog\",\"eggs\",\"elbow\",\"end\",\"engine\",\"error\",\"event\",\"example\",\"exchange\",\"existence\",\"expansion\",\"experience\",\"expert\",\"eye\",\"eyes\",\"face\",\"fact\",\"fairies\",\"fall\",\"fang\",\"farm\",\"fear\",\"feeling\",\"field\",\"finger\",\"finger\",\"fire\",\"fireman\",\"fish\",\"flag\",\"flame\",\"flavor\",\"flesh\",\"flight\",\"flock\",\"floor\",\"flower\",\"flowers\",\"fly\",\"fog\",\"fold\",\"food\",\"foot\",\"force\",\"fork\",\"form\",\"fowl\",\"frame\",\"friction\",\"friend\",\"friends\",\"frog\",\"frogs\",\"front\",\"fruit\",\"fuel\",\"furniture\",\"gate\",\"geese\",\"ghost\",\"giants\",\"giraffe\",\"girl\",\"girls\",\"glass\",\"glove\",\"gold\",\"government\",\"governor\",\"grade\",\"grain\",\"grandfather\",\"grandmother\",\"grape\",\"grass\",\"grip\",\"ground\",\"group\",\"growth\",\"guide\",\"guitar\",\"gun\",\"hair\",\"haircut\",\"hall\",\"hammer\",\"hand\",\"hands\",\"harbor\",\"harmony\",\"hat\",\"hate\",\"head\",\"health\",\"heat\",\"hill\",\"history\",\"hobbies\",\"hole\",\"holiday\",\"home\",\"honey\",\"hook\",\"hope\",\"horn\",\"horse\",\"horses\",\"hose\",\"hospital\",\"hot\",\"hour\",\"house\",\"houses\",\"humor\",\"hydrant\",\"ice\",\"icicle\",\"idea\",\"impulse\",\"income\",\"increase\",\"industry\",\"ink\",\"insect\",\"instrument\",\"insurance\",\"interest\",\"invention\",\"iron\",\"island\",\"jail\",\"jam\",\"jar\",\"jeans\",\"jelly\",\"jellyfish\",\"jewel\",\"join\",\"judge\",\"juice\",\"jump\",\"kettle\",\"key\",\"kick\",\"kiss\",\"kittens\",\"kitty\",\"knee\",\"knife\",\"knot\",\"knowledge\",\"laborer\",\"lace\",\"ladybug\",\"lake\",\"lamp\",\"land\",\"language\",\"laugh\",\"leather\",\"leg\",\"legs\",\"letter\",\"letters\",\"lettuce\",\"level\",\"library\",\"limit\",\"line\",\"linen\",\"lip\",\"liquid\",\"loaf\",\"lock\",\"locket\",\"look\",\"loss\",\"love\",\"low\",\"lumber\",\"lunch\",\"lunchroom\",\"machine\",\"magic\",\"maid\",\"mailbox\",\"man\",\"marble\",\"mark\",\"market\",\"mask\",\"mass\",\"match\",\"meal\",\"measure\",\"meat\",\"meeting\",\"memory\",\"men\",\"metal\",\"mice\",\"middle\",\"milk\",\"mind\",\"mine\",\"minister\",\"mint\",\"minute\",\"mist\",\"mitten\",\"mom\",\"money\",\"monkey\",\"month\",\"moon\",\"morning\",\"mother\",\"motion\",\"mountain\",\"mouth\",\"move\",\"muscle\",\"name\",\"nation\",\"neck\",\"need\",\"needle\",\"nerve\",\"nest\",\"night\",\"noise\",\"north\",\"nose\",\"note\",\"notebook\",\"number\",\"nut\",\"oatmeal\",\"observation\",\"ocean\",\"offer\",\"office\",\"oil\",\"orange\",\"oranges\",\"order\",\"oven\",\"page\",\"pail\",\"pan\",\"pancake\",\"paper\",\"parcel\",\"part\",\"partner\",\"party\",\"passenger\",\"payment\",\"peace\",\"pear\",\"pen\",\"pencil\",\"person\",\"pest\",\"pet\",\"pets\",\"pickle\",\"picture\",\"pie\",\"pies\",\"pig\",\"pigs\",\"pin\",\"pipe\",\"pizzas\",\"place\",\"plane\",\"planes\",\"plant\",\"plantation\",\"plants\",\"plastic\",\"plate\",\"play\",\"playground\",\"pleasure\",\"plot\",\"plough\",\"pocket\",\"point\",\"poison\",\"pollution\",\"popcorn\",\"porter\",\"position\",\"pot\",\"potato\",\"powder\",\"power\",\"price\",\"produce\",\"profit\",\"property\",\"prose\",\"protest\",\"pull\",\"pump\",\"punishment\",\"purpose\",\"push\",\"quarter\",\"quartz\",\"queen\",\"question\",\"quicksand\",\"quiet\",\"quill\",\"quilt\",\"quince\",\"quiver\",\"rabbit\",\"rabbits\",\"rail\",\"railway\",\"rain\",\"rainstorm\",\"rake\",\"range\",\"rat\",\"rate\",\"ray\",\"reaction\",\"reading\",\"reason\",\"receipt\",\"recess\",\"record\",\"regret\",\"relation\",\"religion\",\"representative\",\"request\",\"respect\",\"rest\",\"reward\",\"rhythm\",\"rice\",\"riddle\",\"rifle\",\"ring\",\"rings\",\"river\",\"road\",\"robin\",\"rock\",\"rod\",\"roll\",\"roof\",\"room\",\"root\",\"rose\",\"route\",\"rub\",\"rule\",\"run\",\"sack\",\"sail\",\"salt\",\"sand\",\"scale\",\"scarecrow\",\"scarf\",\"scene\",\"scent\",\"school\",\"science\",\"scissors\",\"screw\",\"sea\",\"seashore\",\"seat\",\"secretary\",\"seed\",\"selection\",\"self\",\"sense\",\"servant\",\"shade\",\"shake\",\"shame\",\"shape\",\"sheep\",\"sheet\",\"shelf\",\"ship\",\"shirt\",\"shock\",\"shoe\",\"shoes\",\"shop\",\"show\",\"side\",\"sidewalk\",\"sign\",\"silk\",\"silver\",\"sink\",\"sister\",\"sisters\",\"size\",\"skate\",\"skin\",\"skirt\",\"sky\",\"slave\",\"sleep\",\"sleet\",\"slip\",\"slope\",\"smash\",\"smell\",\"smile\",\"smoke\",\"snail\",\"snails\",\"snake\",\"snakes\",\"sneeze\",\"snow\",\"soap\",\"society\",\"sock\",\"soda\",\"sofa\",\"son\",\"song\",\"songs\",\"sort\",\"sound\",\"soup\",\"space\",\"spade\",\"spark\",\"spiders\",\"sponge\",\"spoon\",\"spot\",\"spring\",\"spy\",\"square\",\"squirrel\",\"stage\",\"stamp\",\"star\",\"start\",\"statement\",\"station\",\"steam\",\"steel\",\"stem\",\"step\",\"stew\",\"stick\",\"sticks\",\"stitch\",\"stocking\",\"stomach\",\"stone\",\"stop\",\"store\",\"story\",\"stove\",\"stranger\",\"straw\",\"stream\",\"street\",\"stretch\",\"string\",\"structure\",\"substance\",\"sugar\",\"suggestion\",\"suit\",\"summer\",\"sun\",\"support\",\"surprise\",\"sweater\",\"swim\",\"swing\",\"system\",\"table\",\"tail\",\"talk\",\"tank\",\"taste\",\"tax\",\"teaching\",\"team\",\"teeth\",\"temper\",\"tendency\",\"tent\",\"territory\",\"test\",\"texture\",\"theory\",\"thing\",\"things\",\"thought\",\"thread\",\"thrill\",\"throat\",\"throne\",\"thumb\",\"thunder\",\"ticket\",\"tiger\",\"time\",\"tin\",\"title\",\"toad\",\"toe\",\"toes\",\"tomatoes\",\"tongue\",\"tooth\",\"toothbrush\",\"toothpaste\",\"top\",\"touch\",\"town\",\"toy\",\"toys\",\"trade\",\"trail\",\"train\",\"trains\",\"tramp\",\"transport\",\"tray\",\"treatment\",\"tree\",\"trees\",\"trick\",\"trip\",\"trouble\",\"trousers\",\"truck\",\"trucks\",\"tub\",\"turkey\",\"turn\",\"twig\",\"twist\",\"umbrella\",\"uncle\",\"underwear\",\"unit\",\"use\",\"vacation\",\"value\",\"van\",\"vase\",\"vegetable\",\"veil\",\"vein\",\"verse\",\"vessel\",\"vest\",\"view\",\"visitor\",\"voice\",\"volcano\",\"volleyball\",\"voyage\",\"walk\",\"wall\",\"war\",\"wash\",\"waste\",\"watch\",\"water\",\"wave\",\"waves\",\"wax\",\"way\",\"wealth\",\"weather\",\"week\",\"weight\",\"wheel\",\"whip\",\"whistle\",\"wilderness\",\"wind\",\"window\",\"wine\",\"wing\",\"winter\",\"wire\",\"wish\",\"woman\",\"women\",\"wood\",\"wool\",\"word\",\"work\",\"worm\",\"wound\",\"wren\",\"wrench\",\"wrist\",\"writer\",\"writing\",\"yak\",\"yam\",\"yard\",\"yarn\",\"year\",\"yoke\",\"zebra\",\"zephyr\",\"zinc\",\"zipper\",\"zoo\",\"accept\",\"add\",\"admire\",\"admit\",\"advise\",\"afford\",\"agree\",\"alert\",\"allow\",\"amuse\",\"analyse\",\"announce\",\"annoy\",\"answer\",\"apologise\",\"appear\",\"applaud\",\"appreciate\",\"approve\",\"argue\",\"arrange\",\"arrest\",\"arrive\",\"ask\",\"attach\",\"attack\",\"attempt\",\"attend\",\"attract\",\"avoid\",\"back\",\"bake\",\"balance\",\"ban\",\"bang\",\"bare\",\"bat\",\"bathe\",\"battle\",\"beam\",\"beg\",\"behave\",\"belong\",\"bleach\",\"bless\",\"blind\",\"blink\",\"blot\",\"blush\",\"boast\",\"boil\",\"bolt\",\"bomb\",\"book\",\"bore\",\"borrow\",\"bounce\",\"bow\",\"box\",\"brake\",\"branch\",\"breathe\",\"bruise\",\"brush\",\"bubble\",\"bump\",\"burn\",\"bury\",\"buzz\",\"calculate\",\"call\",\"camp\",\"care\",\"carry\",\"carve\",\"cause\",\"challenge\",\"change\",\"charge\",\"chase\",\"cheat\",\"check\",\"cheer\",\"chew\",\"choke\",\"chop\",\"claim\",\"clap\",\"clean\",\"clear\",\"clip\",\"close\",\"coach\",\"coil\",\"collect\",\"colour\",\"comb\",\"command\",\"communicate\",\"compare\",\"compete\",\"complain\",\"complete\",\"concentrate\",\"concern\",\"confess\",\"confuse\",\"connect\",\"consider\",\"consist\",\"contain\",\"continue\",\"copy\",\"correct\",\"cough\",\"count\",\"cover\",\"crack\",\"crash\",\"crawl\",\"cross\",\"crush\",\"cry\",\"cure\",\"curl\",\"curve\",\"cycle\",\"dam\",\"damage\",\"dance\",\"dare\",\"decay\",\"deceive\",\"decide\",\"decorate\",\"delay\",\"delight\",\"deliver\",\"depend\",\"describe\",\"desert\",\"deserve\",\"destroy\",\"detect\",\"develop\",\"disagree\",\"disappear\",\"disapprove\",\"disarm\",\"discover\",\"dislike\",\"divide\",\"double\",\"doubt\",\"drag\",\"drain\",\"dream\",\"dress\",\"drip\",\"drop\",\"drown\",\"drum\",\"dry\",\"dust\",\"earn\",\"educate\",\"embarrass\",\"employ\",\"empty\",\"encourage\",\"end\",\"enjoy\",\"enter\",\"entertain\",\"escape\",\"examine\",\"excite\",\"excuse\",\"exercise\",\"exist\",\"expand\",\"expect\",\"explain\",\"explode\",\"extend\",\"face\",\"fade\",\"fail\",\"fancy\",\"fasten\",\"fax\",\"fear\",\"fence\",\"fetch\",\"file\",\"fill\",\"film\",\"fire\",\"fit\",\"fix\",\"flap\",\"flash\",\"float\",\"flood\",\"flow\",\"flower\",\"fold\",\"follow\",\"fool\",\"force\",\"form\",\"found\",\"frame\",\"frighten\",\"fry\",\"gather\",\"gaze\",\"glow\",\"glue\",\"grab\",\"grate\",\"grease\",\"greet\",\"grin\",\"grip\",\"groan\",\"guarantee\",\"guard\",\"guess\",\"guide\",\"hammer\",\"hand\",\"handle\",\"hang\",\"happen\",\"harass\",\"harm\",\"hate\",\"haunt\",\"head\",\"heal\",\"heap\",\"heat\",\"help\",\"hook\",\"hop\",\"hope\",\"hover\",\"hug\",\"hum\",\"hunt\",\"hurry\",\"identify\",\"ignore\",\"imagine\",\"impress\",\"improve\",\"include\",\"increase\",\"influence\",\"inform\",\"inject\",\"injure\",\"instruct\",\"intend\",\"interest\",\"interfere\",\"interrupt\",\"introduce\",\"invent\",\"invite\",\"irritate\",\"itch\",\"jail\",\"jam\",\"jog\",\"join\",\"joke\",\"judge\",\"juggle\",\"jump\",\"kick\",\"kill\",\"kiss\",\"kneel\",\"knit\",\"knock\",\"knot\",\"label\",\"land\",\"last\",\"laugh\",\"launch\",\"learn\",\"level\",\"license\",\"lick\",\"lie\",\"lighten\",\"like\",\"list\",\"listen\",\"live\",\"load\",\"lock\",\"long\",\"look\",\"love\",\"man\",\"manage\",\"march\",\"mark\",\"marry\",\"match\",\"mate\",\"matter\",\"measure\",\"meddle\",\"melt\",\"memorise\",\"mend\",\"mess up\",\"milk\",\"mine\",\"miss\",\"mix\",\"moan\",\"moor\",\"mourn\",\"move\",\"muddle\",\"mug\",\"multiply\",\"murder\",\"nail\",\"name\",\"need\",\"nest\",\"nod\",\"note\",\"notice\",\"number\",\"obey\",\"object\",\"observe\",\"obtain\",\"occur\",\"offend\",\"offer\",\"open\",\"order\",\"overflow\",\"owe\",\"own\",\"pack\",\"paddle\",\"paint\",\"park\",\"part\",\"pass\",\"paste\",\"pat\",\"pause\",\"peck\",\"pedal\",\"peel\",\"peep\",\"perform\",\"permit\",\"phone\",\"pick\",\"pinch\",\"pine\",\"place\",\"plan\",\"plant\",\"play\",\"please\",\"plug\",\"point\",\"poke\",\"polish\",\"pop\",\"possess\",\"post\",\"pour\",\"practise\",\"pray\",\"preach\",\"precede\",\"prefer\",\"prepare\",\"present\",\"preserve\",\"press\",\"pretend\",\"prevent\",\"prick\",\"print\",\"produce\",\"program\",\"promise\",\"protect\",\"provide\",\"pull\",\"pump\",\"punch\",\"puncture\",\"punish\",\"push\",\"question\",\"queue\",\"race\",\"radiate\",\"rain\",\"raise\",\"reach\",\"realise\",\"receive\",\"recognise\",\"record\",\"reduce\",\"reflect\",\"refuse\",\"regret\",\"reign\",\"reject\",\"rejoice\",\"relax\",\"release\",\"rely\",\"remain\",\"remember\",\"remind\",\"remove\",\"repair\",\"repeat\",\"replace\",\"reply\",\"report\",\"reproduce\",\"request\",\"rescue\",\"retire\",\"return\",\"rhyme\",\"rinse\",\"risk\",\"rob\",\"rock\",\"roll\",\"rot\",\"rub\",\"ruin\",\"rule\",\"rush\",\"sack\",\"sail\",\"satisfy\",\"save\",\"saw\",\"scare\",\"scatter\",\"scold\",\"scorch\",\"scrape\",\"scratch\",\"scream\",\"screw\",\"scribble\",\"scrub\",\"seal\",\"search\",\"separate\",\"serve\",\"settle\",\"shade\",\"share\",\"shave\",\"shelter\",\"shiver\",\"shock\",\"shop\",\"shrug\",\"sigh\",\"sign\",\"signal\",\"sin\",\"sip\",\"ski\",\"skip\",\"slap\",\"slip\",\"slow\",\"smash\",\"smell\",\"smile\",\"smoke\",\"snatch\",\"sneeze\",\"sniff\",\"snore\",\"snow\",\"soak\",\"soothe\",\"sound\",\"spare\",\"spark\",\"sparkle\",\"spell\",\"spill\",\"spoil\",\"spot\",\"spray\",\"sprout\",\"squash\",\"squeak\",\"squeal\",\"squeeze\",\"stain\",\"stamp\",\"stare\",\"start\",\"stay\",\"steer\",\"step\",\"stir\",\"stitch\",\"stop\",\"store\",\"strap\",\"strengthen\",\"stretch\",\"strip\",\"stroke\",\"stuff\",\"subtract\",\"succeed\",\"suck\",\"suffer\",\"suggest\",\"suit\",\"supply\",\"support\",\"suppose\",\"surprise\",\"surround\",\"suspect\",\"suspend\",\"switch\",\"talk\",\"tame\",\"tap\",\"taste\",\"tease\",\"telephone\",\"tempt\",\"terrify\",\"test\",\"thank\",\"thaw\",\"tick\",\"tickle\",\"tie\",\"time\",\"tip\",\"tire\",\"touch\",\"tour\",\"tow\",\"trace\",\"trade\",\"train\",\"transport\",\"trap\",\"travel\",\"treat\",\"tremble\",\"trick\",\"trip\",\"trot\",\"trouble\",\"trust\",\"try\",\"tug\",\"tumble\",\"turn\",\"twist\",\"type\",\"undress\",\"unfasten\",\"unite\",\"unlock\",\"unpack\",\"untidy\",\"use\",\"vanish\",\"visit\",\"wail\",\"wait\",\"walk\",\"wander\",\"want\",\"warm\",\"warn\",\"wash\",\"waste\",\"watch\",\"water\",\"wave\",\"weigh\",\"welcome\",\"whine\",\"whip\",\"whirl\",\"whisper\",\"whistle\",\"wink\",\"wipe\",\"wish\",\"wobble\",\"wonder\",\"work\",\"worry\",\"wrap\",\"wreck\",\"wrestle\",\"wriggle\",\"x-ray\",\"yawn\",\"yell\",\"zip\",\"zoom\"]\n",
        "\n",
        "\n",
        "lives_visual_dict = {\n",
        "        0: \"\"\"\n",
        "                ___________\n",
        "               | /        |\n",
        "               |/        ( )\n",
        "               |          |\n",
        "               |         / \\\n",
        "               |\n",
        "           \"\"\",\n",
        "        1: \"\"\"\n",
        "                ___________\n",
        "               | /        |\n",
        "               |/        ( )\n",
        "               |          |\n",
        "               |         /\n",
        "               |\n",
        "            \"\"\",\n",
        "        2: \"\"\"\n",
        "                ___________\n",
        "               | /        |\n",
        "               |/        ( )\n",
        "               |          |\n",
        "               |\n",
        "               |\n",
        "            \"\"\",\n",
        "        3: \"\"\"\n",
        "                ___________\n",
        "               | /        |\n",
        "               |/        ( )\n",
        "               |\n",
        "               |\n",
        "               |\n",
        "            \"\"\",\n",
        "        4: \"\"\"\n",
        "                ___________\n",
        "               | /        |\n",
        "               |/\n",
        "               |\n",
        "               |\n",
        "               |\n",
        "            \"\"\",\n",
        "        5: \"\"\"\n",
        "                ___________\n",
        "               | /\n",
        "               |/\n",
        "               |\n",
        "               |\n",
        "               |\n",
        "            \"\"\",\n",
        "        6: \"\"\"\n",
        "               |\n",
        "               |\n",
        "               |\n",
        "               |\n",
        "               |\n",
        "            \"\"\",\n",
        "        7: \"\",\n",
        "    }\n",
        "\n",
        "\n",
        "import random\n",
        "import string\n",
        "\n",
        "def get_valid_word(words):\n",
        "    word = random.choice(words)\n",
        "    while '-' in word or ' ' in word:\n",
        "        word = random.choice(words)\n",
        "\n",
        "    return word.upper()\n",
        "\n",
        "\n",
        "def hangman():\n",
        "    word = get_valid_word(words)\n",
        "    word_letters = set(word)\n",
        "    alphabet = set(string.ascii_uppercase)\n",
        "    used_letters = set()\n",
        "\n",
        "    lives = 7\n",
        "\n",
        "\n",
        "    while len(word_letters) > 0 and lives > 0:\n",
        "\n",
        "        print('You have', lives, 'lives left and you have used these letters: ', ' '.join(used_letters))\n",
        "\n",
        "\n",
        "        word_list = [letter if letter in used_letters else '-' for letter in word]\n",
        "        print(lives_visual_dict[lives])\n",
        "        print('Current word: ', ' '.join(word_list))\n",
        "\n",
        "        user_letter = input('Guess a letter: ').upper()\n",
        "        if user_letter in alphabet - used_letters:\n",
        "            used_letters.add(user_letter)\n",
        "            if user_letter in word_letters:\n",
        "                word_letters.remove(user_letter)\n",
        "                print('')\n",
        "\n",
        "            else:\n",
        "                lives = lives - 1\n",
        "                print('\\nYour letter,', user_letter, 'is not in the word.')\n",
        "\n",
        "        elif user_letter in used_letters:\n",
        "            print('\\nYou have already used that letter. Guess another letter.')\n",
        "\n",
        "        else:\n",
        "            print('\\nThat is not a valid letter.')\n",
        "\n",
        "\n",
        "    if lives == 0:\n",
        "        print(lives_visual_dict[lives])\n",
        "        print('You died, sorry. The word was', word)\n",
        "    else:\n",
        "        print('YAY! You guessed the word', word, '!!')\n",
        "\n",
        "\n",
        "if __name__ == '__main__':\n",
        "    hangman()"
      ],
      "metadata": {
        "colab": {
          "base_uri": "https://localhost:8080/"
        },
        "id": "zZ3J9kvBMYv-",
        "outputId": "66ebcbe4-aa0d-4f30-86b6-749600224e1c"
      },
      "execution_count": null,
      "outputs": [
        {
          "output_type": "stream",
          "name": "stdout",
          "text": [
            "You have 7 lives left and you have used these letters:  \n",
            "\n",
            "Current word:  - - - -\n",
            "Guess a letter: b\n",
            "\n",
            "Your letter, B is not in the word.\n",
            "You have 6 lives left and you have used these letters:  B\n",
            "\n",
            "               |\n",
            "               |\n",
            "               |\n",
            "               |\n",
            "               |\n",
            "            \n",
            "Current word:  - - - -\n",
            "Guess a letter: a\n",
            "\n",
            "Your letter, A is not in the word.\n",
            "You have 5 lives left and you have used these letters:  A B\n",
            "\n",
            "                ___________\n",
            "               | /\n",
            "               |/\n",
            "               |\n",
            "               |\n",
            "               |\n",
            "            \n",
            "Current word:  - - - -\n",
            "Guess a letter: c\n",
            "\n",
            "Your letter, C is not in the word.\n",
            "You have 4 lives left and you have used these letters:  A C B\n",
            "\n",
            "                ___________\n",
            "               | /        |\n",
            "               |/\n",
            "               |\n",
            "               |\n",
            "               |\n",
            "            \n",
            "Current word:  - - - -\n",
            "Guess a letter: d\n",
            "\n",
            "Your letter, D is not in the word.\n",
            "You have 3 lives left and you have used these letters:  A D C B\n",
            "\n",
            "                ___________\n",
            "               | /        |\n",
            "               |/        ( )\n",
            "               |\n",
            "               |\n",
            "               |\n",
            "            \n",
            "Current word:  - - - -\n",
            "Guess a letter: e\n",
            "\n",
            "Your letter, E is not in the word.\n",
            "You have 2 lives left and you have used these letters:  A D C B E\n",
            "\n",
            "                ___________\n",
            "               | /        |\n",
            "               |/        ( )\n",
            "               |          |\n",
            "               |\n",
            "               |\n",
            "            \n",
            "Current word:  - - - -\n",
            "Guess a letter: f\n",
            "\n",
            "Your letter, F is not in the word.\n",
            "You have 1 lives left and you have used these letters:  A D C B E F\n",
            "\n",
            "                ___________\n",
            "               | /        |\n",
            "               |/        ( )\n",
            "               |          |\n",
            "               |         /\n",
            "               |\n",
            "            \n",
            "Current word:  - - - -\n",
            "Guess a letter: g\n",
            "\n",
            "Your letter, G is not in the word.\n",
            "\n",
            "                ___________\n",
            "               | /        |\n",
            "               |/        ( )\n",
            "               |          |\n",
            "               |         /                |\n",
            "           \n",
            "You died, sorry. The word was LOOK\n"
          ]
        }
      ]
    },
    {
      "cell_type": "markdown",
      "source": [
        "#**Project 6 :**"
      ],
      "metadata": {
        "id": "CsQvMNQKNHR8"
      }
    },
    {
      "cell_type": "markdown",
      "source": [
        "#Countdown Python Timer Project"
      ],
      "metadata": {
        "id": "xXmjPRU1NQN6"
      }
    },
    {
      "cell_type": "code",
      "source": [
        "import time\n",
        "\n",
        "def countdown(t):\n",
        "  while t:\n",
        "    mins, secs = divmod(t, 60)\n",
        "    timer = '{:02d}:{:02d}'.format(mins, secs)\n",
        "    print(timer, end=\"\\r\")\n",
        "    time.sleep(1)\n",
        "    t -= 1\n",
        "\n",
        "  print(\"Timer Completed!\")\n",
        "\n",
        "t = input(\"Enter the time in seconds: \")\n",
        "\n",
        "countdown(int(t))"
      ],
      "metadata": {
        "colab": {
          "base_uri": "https://localhost:8080/"
        },
        "id": "1G-Q-6wXNVzQ",
        "outputId": "db7856d8-56a5-40d2-ee7e-c90adb75ea70"
      },
      "execution_count": null,
      "outputs": [
        {
          "output_type": "stream",
          "name": "stdout",
          "text": [
            "Enter the time in seconds: 6\n",
            "Timer Completed!\n"
          ]
        }
      ]
    },
    {
      "cell_type": "markdown",
      "source": [
        "#**Project 7 :**"
      ],
      "metadata": {
        "id": "G_9UJ3ncNgf9"
      }
    },
    {
      "cell_type": "markdown",
      "source": [
        "#Password Generator Python Project"
      ],
      "metadata": {
        "id": "dmmhnpN_NnIB"
      }
    },
    {
      "cell_type": "code",
      "source": [
        "import random\n",
        "\n",
        "print(\"Welcome to Your Password Generator\")\n",
        "\n",
        "chars = \"abcdefghijklmnopqrstuvwxyzABCDEFGHIJKLMNOPQRSTUVWXYZ!@#$%^&*().,?0123456789\"\n",
        "\n",
        "number = input(\"Amount of passwords to generate: \")\n",
        "number = int(number)\n",
        "\n",
        "length = input(\"Length of password: \")\n",
        "length = int(length)\n",
        "\n",
        "print(\"\\nHere are your passwords: \")\n",
        "\n",
        "for passwords in range(number):\n",
        "  passwords = \"\"\n",
        "  for c in range(length):\n",
        "    passwords += random.choice(chars)\n",
        "  print(passwords)"
      ],
      "metadata": {
        "colab": {
          "base_uri": "https://localhost:8080/"
        },
        "id": "ZKEBDkbCNsgH",
        "outputId": "967450b2-9442-4297-9bd9-ec9977362d95"
      },
      "execution_count": null,
      "outputs": [
        {
          "output_type": "stream",
          "name": "stdout",
          "text": [
            "Welcome to Your Password Generator\n",
            "Amount of passwords to generate: 2\n",
            "Length of password: 7\n",
            "\n",
            "Here are your passwords: \n",
            "qszu#c6\n",
            "9ea0c(L\n"
          ]
        }
      ]
    },
    {
      "cell_type": "markdown",
      "source": [
        "#**Project 8 :**"
      ],
      "metadata": {
        "id": "MkpRiLoYOBGu"
      }
    },
    {
      "cell_type": "markdown",
      "source": [
        "#Create a Python Streamlit BMI Calculator Web App in Just 6 Minutes"
      ],
      "metadata": {
        "id": "GY8e-KwmOIUu"
      }
    },
    {
      "cell_type": "code",
      "source": [
        "!pip install streamlit pyngrok --quiet"
      ],
      "metadata": {
        "colab": {
          "base_uri": "https://localhost:8080/"
        },
        "id": "SXqsL3hLOOH4",
        "outputId": "1eecb0e0-def4-4213-b241-760b61eb6376"
      },
      "execution_count": 1,
      "outputs": [
        {
          "output_type": "stream",
          "name": "stdout",
          "text": [
            "\u001b[2K     \u001b[90m━━━━━━━━━━━━━━━━━━━━━━━━━━━━━━━━━━━━━━━━\u001b[0m \u001b[32m44.3/44.3 kB\u001b[0m \u001b[31m2.0 MB/s\u001b[0m eta \u001b[36m0:00:00\u001b[0m\n",
            "\u001b[2K   \u001b[90m━━━━━━━━━━━━━━━━━━━━━━━━━━━━━━━━━━━━━━━━\u001b[0m \u001b[32m9.8/9.8 MB\u001b[0m \u001b[31m29.0 MB/s\u001b[0m eta \u001b[36m0:00:00\u001b[0m\n",
            "\u001b[2K   \u001b[90m━━━━━━━━━━━━━━━━━━━━━━━━━━━━━━━━━━━━━━━━\u001b[0m \u001b[32m6.9/6.9 MB\u001b[0m \u001b[31m39.2 MB/s\u001b[0m eta \u001b[36m0:00:00\u001b[0m\n",
            "\u001b[2K   \u001b[90m━━━━━━━━━━━━━━━━━━━━━━━━━━━━━━━━━━━━━━━━\u001b[0m \u001b[32m79.1/79.1 kB\u001b[0m \u001b[31m3.1 MB/s\u001b[0m eta \u001b[36m0:00:00\u001b[0m\n",
            "\u001b[?25h"
          ]
        }
      ]
    },
    {
      "cell_type": "code",
      "source": [
        "from pyngrok import ngrok\n",
        "\n",
        "ngrok.set_auth_token(\"2vorvmGx9dD5xJllkb2u5g58S7v_2LUR8wUKNJDbZxjRc46m3\")"
      ],
      "metadata": {
        "id": "BnMnsSo4OZkd"
      },
      "execution_count": 3,
      "outputs": []
    },
    {
      "cell_type": "code",
      "source": [
        "%%writefile app.py\n",
        "import streamlit as st\n",
        "\n",
        "st.title(\"BMI Calculator\")\n",
        "\n",
        "height = st.slider(\"Enter your height (in cm):\", 100, 250, 175)\n",
        "weight = st.slider(\"Enter your weight (in kg):\", 40, 200, 70)\n",
        "\n",
        "bmi = weight / ((height / 100) ** 2)\n",
        "\n",
        "st.write(f\"Your BMI is: {bmi:.2f}\")\n",
        "\n",
        "st.write(\"### BMI Categories ###\")\n",
        "st.write(\"- Underweight: BMI < 18.5\")\n",
        "st.write(\"- Normal Weight: 18.5 <= BMI < 24.9\")\n",
        "st.write(\"- Overweight: 25 <= BMI < 29.9\")\n",
        "st.write(\"- Obese: BMI >= 30\")"
      ],
      "metadata": {
        "colab": {
          "base_uri": "https://localhost:8080/"
        },
        "id": "7OiGl4sxOcEH",
        "outputId": "0e8afa6d-f3f7-40eb-d02a-8e6498141499"
      },
      "execution_count": 4,
      "outputs": [
        {
          "output_type": "stream",
          "name": "stdout",
          "text": [
            "Writing app.py\n"
          ]
        }
      ]
    },
    {
      "cell_type": "code",
      "source": [
        "import subprocess\n",
        "import threading\n",
        "import time\n",
        "\n",
        "def run():\n",
        "    subprocess.call(['streamlit', 'run', 'app.py'])\n",
        "\n",
        "thread = threading.Thread(target=run)\n",
        "thread.start()\n",
        "\n",
        "time.sleep(5)  # Give Streamlit time to launch"
      ],
      "metadata": {
        "id": "WcBiw8YqOlh-"
      },
      "execution_count": 5,
      "outputs": []
    },
    {
      "cell_type": "code",
      "source": [
        "public_url = ngrok.connect(8501)\n",
        "print(\"🚀 Streamlit is live at:\", public_url)"
      ],
      "metadata": {
        "colab": {
          "base_uri": "https://localhost:8080/"
        },
        "id": "ZjMryNOKOqJY",
        "outputId": "848f496c-d872-40ab-9b62-76348c64d362"
      },
      "execution_count": 6,
      "outputs": [
        {
          "output_type": "stream",
          "name": "stdout",
          "text": [
            "🚀 Streamlit is live at: NgrokTunnel: \"https://9d79-34-125-55-183.ngrok-free.app\" -> \"http://localhost:8501\"\n"
          ]
        }
      ]
    },
    {
      "cell_type": "markdown",
      "source": [
        "\n",
        "#**Project 9:**"
      ],
      "metadata": {
        "id": "hbN9C3E9O1vi"
      }
    },
    {
      "cell_type": "markdown",
      "source": [
        "#Build a Python Website in 15 Minutes With Streamlit"
      ],
      "metadata": {
        "id": "uMtyVkl5O7Pk"
      }
    },
    {
      "cell_type": "code",
      "source": [
        "!pip install streamlit --quiet"
      ],
      "metadata": {
        "id": "nOjpmRJpO_wB",
        "outputId": "81c71ae6-4393-4e6f-da64-cee03e047e0a",
        "colab": {
          "base_uri": "https://localhost:8080/"
        }
      },
      "execution_count": null,
      "outputs": [
        {
          "output_type": "stream",
          "name": "stdout",
          "text": [
            "\u001b[2K     \u001b[90m━━━━━━━━━━━━━━━━━━━━━━━━━━━━━━━━━━━━━━━━\u001b[0m \u001b[32m44.3/44.3 kB\u001b[0m \u001b[31m1.1 MB/s\u001b[0m eta \u001b[36m0:00:00\u001b[0m\n",
            "\u001b[2K   \u001b[90m━━━━━━━━━━━━━━━━━━━━━━━━━━━━━━━━━━━━━━━━\u001b[0m \u001b[32m9.8/9.8 MB\u001b[0m \u001b[31m19.4 MB/s\u001b[0m eta \u001b[36m0:00:00\u001b[0m\n",
            "\u001b[2K   \u001b[90m━━━━━━━━━━━━━━━━━━━━━━━━━━━━━━━━━━━━━━━━\u001b[0m \u001b[32m6.9/6.9 MB\u001b[0m \u001b[31m23.5 MB/s\u001b[0m eta \u001b[36m0:00:00\u001b[0m\n",
            "\u001b[2K   \u001b[90m━━━━━━━━━━━━━━━━━━━━━━━━━━━━━━━━━━━━━━━━\u001b[0m \u001b[32m79.1/79.1 kB\u001b[0m \u001b[31m1.8 MB/s\u001b[0m eta \u001b[36m0:00:00\u001b[0m\n",
            "\u001b[?25h"
          ]
        }
      ]
    },
    {
      "cell_type": "code",
      "source": [
        "!pip install pandas matplotlib --quiet"
      ],
      "metadata": {
        "id": "Nn7EXgE3PH9A"
      },
      "execution_count": null,
      "outputs": []
    },
    {
      "cell_type": "code",
      "source": [
        "%%writefile main.py\n",
        "\n",
        "import streamlit as st\n",
        "import pandas as pd\n",
        "import matplotlib.pyplot as plt\n",
        "\n",
        "st.title(\"Simple Data Dashboard\")\n",
        "\n",
        "uploaded_file = st.file_uploader(\"Upload a CSV file\", type=[\"csv\"])\n",
        "\n",
        "if uploaded_file is not None:\n",
        "    df = pd.read_csv(uploaded_file)\n",
        "\n",
        "    st.subheader(\"Data Preview\")\n",
        "    st.write(df.head())\n",
        "\n",
        "    st.subheader(\"Data Summary\")\n",
        "    st.write(df.describe())\n",
        "\n",
        "    st.subheader(\"Filter Data\")\n",
        "    selected_column = st.selectbox(\"Select a column for filtering\", df.columns)\n",
        "    column = st.selectbox(\"Select a column for filtering\", df.columns)\n",
        "    unique_values = df[selected_column].unique()\n",
        "    selected_values = st.selectbox(f\"Select values for {selected_column}\", unique_values)\n",
        "\n",
        "    filtered_df = df[df[selected_column] == selected_values]\n",
        "\n",
        "    st.subheader(\"Plot Data\")\n",
        "    x_column = st.selectbox(\"Select a column for the x-axis\", df.columns)\n",
        "    y_column = st.selectbox(\"Select a column for the y-axis\", df.columns)\n",
        "\n",
        "    if st.button(\"Generate Plot\"):\n",
        "      st.line_chart(filtered_df[[x_column, y_column]])\n",
        "\n",
        "    else:\n",
        "      st.write(\"No plot generated\")"
      ],
      "metadata": {
        "colab": {
          "base_uri": "https://localhost:8080/"
        },
        "id": "96iKDX98PLQW",
        "outputId": "890c4987-05d0-40fb-ea58-6522eb546ee5"
      },
      "execution_count": null,
      "outputs": [
        {
          "output_type": "stream",
          "name": "stdout",
          "text": [
            "Overwriting main.py\n"
          ]
        }
      ]
    },
    {
      "cell_type": "code",
      "source": [
        "from pyngrok import ngrok\n",
        "\n",
        "ngrok.set_auth_token(\"2vorvmGx9dD5xJllkb2u5g58S7v_2LUR8wUKNJDbZxjRc46m3\")"
      ],
      "metadata": {
        "id": "dYmGlsZ_PSoA"
      },
      "execution_count": 7,
      "outputs": []
    },
    {
      "cell_type": "code",
      "source": [
        "import subprocess\n",
        "import threading\n",
        "import time\n",
        "\n",
        "def run():\n",
        "    subprocess.call(['streamlit', 'run', 'main.py'])\n",
        "\n",
        "thread = threading.Thread(target=run)\n",
        "thread.start()\n",
        "\n",
        "time.sleep(5)  # Give Streamlit time to launch"
      ],
      "metadata": {
        "id": "z3h0VdyCPYND"
      },
      "execution_count": 8,
      "outputs": []
    },
    {
      "cell_type": "code",
      "source": [
        "public_url = ngrok.connect(8501)\n",
        "print(\"🚀 Streamlit is live at:\", public_url)"
      ],
      "metadata": {
        "colab": {
          "base_uri": "https://localhost:8080/"
        },
        "id": "C4wTRssuPfIy",
        "outputId": "80faad12-33d6-4563-8dfc-e19964cf3e9c"
      },
      "execution_count": 9,
      "outputs": [
        {
          "output_type": "stream",
          "name": "stdout",
          "text": [
            "🚀 Streamlit is live at: NgrokTunnel: \"https://10e0-34-125-55-183.ngrok-free.app\" -> \"http://localhost:8501\"\n"
          ]
        }
      ]
    }
  ]
}