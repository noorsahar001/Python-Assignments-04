{
  "nbformat": 4,
  "nbformat_minor": 0,
  "metadata": {
    "colab": {
      "provenance": [],
      "authorship_tag": "ABX9TyMvcCcW73slTcU1pq2J5L5I",
      "include_colab_link": true
    },
    "kernelspec": {
      "name": "python3",
      "display_name": "Python 3"
    },
    "language_info": {
      "name": "python"
    }
  },
  "cells": [
    {
      "cell_type": "markdown",
      "metadata": {
        "id": "view-in-github",
        "colab_type": "text"
      },
      "source": [
        "<a href=\"https://colab.research.google.com/github/noorsahar001/Python-Assignments-04/blob/main/Assignment_01(Part_01_basics).ipynb\" target=\"_parent\"><img src=\"https://colab.research.google.com/assets/colab-badge.svg\" alt=\"Open In Colab\"/></a>"
      ]
    },
    {
      "cell_type": "markdown",
      "source": [
        "#**01_basics**\n"
      ],
      "metadata": {
        "id": "8Wp4Ake6EAUw"
      }
    },
    {
      "cell_type": "markdown",
      "source": [
        "#00_joke_bot"
      ],
      "metadata": {
        "id": "f_T4oskrEU0_"
      }
    },
    {
      "cell_type": "code",
      "source": [
        "Prompt : str = \"What do you want?\"\n",
        "Joke : str = \"Here is a joke for you! \\nSophia is heading out to the grocery store. A programmer tells her: get a liter of milk, and if they have eggs, get 12. Sophia returns with 13 liters of milk. The programmer asks why and Sophia replies: 'because they had eggs'\"\n",
        "Sorry : str = \"We only have jokes\"\n",
        "\n",
        "def main():\n",
        "  if input(Prompt) == \"Joke\":\n",
        "    print(Joke)\n",
        "  else:\n",
        "    print(Sorry)\n",
        "\n",
        "if __name__ == \"__main__\":\n",
        "  main()"
      ],
      "metadata": {
        "colab": {
          "base_uri": "https://localhost:8080/"
        },
        "id": "HJGvEIKBEaUa",
        "outputId": "6eb13f46-6324-4eb7-976d-396b6cb03231"
      },
      "execution_count": 8,
      "outputs": [
        {
          "output_type": "stream",
          "name": "stdout",
          "text": [
            "What do you want?Joke\n",
            "Here is a joke for you! \n",
            "Sophia is heading out to the grocery store. A programmer tells her: get a liter of milk, and if they have eggs, get 12. Sophia returns with 13 liters of milk. The programmer asks why and Sophia replies: 'because they had eggs'\n"
          ]
        }
      ]
    },
    {
      "cell_type": "markdown",
      "source": [
        "\n",
        "#01_double_it"
      ],
      "metadata": {
        "id": "u2olT2WFFsv9"
      }
    },
    {
      "cell_type": "code",
      "source": [
        "def main():\n",
        "    number = int(input(\"Enter a number: \"))\n",
        "    while number < 100:\n",
        "        number *= 2\n",
        "        print(number, end=\" \")\n",
        "    print()\n",
        "\n",
        "if __name__ == '__main__':\n",
        "    main()"
      ],
      "metadata": {
        "colab": {
          "base_uri": "https://localhost:8080/"
        },
        "id": "Qr5hXUz8Fw4W",
        "outputId": "c285af03-7587-4a9e-a1ac-bdaa8ac58025"
      },
      "execution_count": 10,
      "outputs": [
        {
          "output_type": "stream",
          "name": "stdout",
          "text": [
            "Enter a number: 4\n",
            "8 16 32 64 128 \n"
          ]
        }
      ]
    },
    {
      "cell_type": "markdown",
      "source": [
        "#02_liftoff"
      ],
      "metadata": {
        "id": "eZwHTHSGGBgm"
      }
    },
    {
      "cell_type": "code",
      "source": [
        "def main():\n",
        "    for i in range(10):\n",
        "        print(10 - i, end=\" \")\n",
        "    print(\"Liftoff!\")\n",
        "\n",
        "if __name__ == '__main__':\n",
        "    main()"
      ],
      "metadata": {
        "colab": {
          "base_uri": "https://localhost:8080/"
        },
        "id": "HZhSzNZ7GGpK",
        "outputId": "fe6433d1-0b03-4f4f-d5dd-5907aaf2d4c7"
      },
      "execution_count": 11,
      "outputs": [
        {
          "output_type": "stream",
          "name": "stdout",
          "text": [
            "10 9 8 7 6 5 4 3 2 1 Liftoff!\n"
          ]
        }
      ]
    },
    {
      "cell_type": "markdown",
      "source": [
        "#03_guess_my_number"
      ],
      "metadata": {
        "id": "ADKP5DhNGK7-"
      }
    },
    {
      "cell_type": "code",
      "source": [
        "import random\n",
        "\n",
        "def guess_my_number():\n",
        "    secret_number = random.randint(0, 99)\n",
        "    guess = -1\n",
        "\n",
        "    while guess != secret_number:\n",
        "        try:\n",
        "            guess = int(input(\"I am thinking of a number between 0 and 99... Enter a guess: \"))\n",
        "            if guess < secret_number:\n",
        "                print(\"Your guess is too low\")\n",
        "            elif guess > secret_number:\n",
        "                print(\"Your guess is too high\")\n",
        "            else:\n",
        "                print(f\"Congrats! The number was: {secret_number}\")\n",
        "        except ValueError:\n",
        "            print(\"Invalid input. Please enter a valid number.\")\n",
        "\n",
        "if __name__ == \"__main__\":\n",
        "    guess_my_number()"
      ],
      "metadata": {
        "colab": {
          "base_uri": "https://localhost:8080/"
        },
        "id": "yGQLwX35GQYS",
        "outputId": "95a5767a-c1f0-44e6-e85c-5a19d678c1c8"
      },
      "execution_count": 14,
      "outputs": [
        {
          "output_type": "stream",
          "name": "stdout",
          "text": [
            "I am thinking of a number between 0 and 99... Enter a guess: 56\n",
            "Your guess is too high\n",
            "I am thinking of a number between 0 and 99... Enter a guess: 34\n",
            "Congrats! The number was: 34\n"
          ]
        }
      ]
    },
    {
      "cell_type": "markdown",
      "source": [
        "#04_random_numbers"
      ],
      "metadata": {
        "id": "sjbjsNLDH25s"
      }
    },
    {
      "cell_type": "code",
      "source": [
        "import random\n",
        "\n",
        "def main():\n",
        "  for _ in range(10):\n",
        "    print(random.randint(1, 100), end=\" \")\n",
        "  print()\n",
        "\n",
        "if __name__ == '__main__':\n",
        "  main()"
      ],
      "metadata": {
        "colab": {
          "base_uri": "https://localhost:8080/"
        },
        "id": "fikmfckeH9x9",
        "outputId": "426161ed-0a0f-4ac6-9e6e-4f7c08fdb51d"
      },
      "execution_count": 15,
      "outputs": [
        {
          "output_type": "stream",
          "name": "stdout",
          "text": [
            "55 100 7 79 4 78 11 79 57 41 \n"
          ]
        }
      ]
    }
  ]
}