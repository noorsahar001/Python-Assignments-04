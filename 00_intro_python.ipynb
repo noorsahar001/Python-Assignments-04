{
  "nbformat": 4,
  "nbformat_minor": 0,
  "metadata": {
    "colab": {
      "provenance": [],
      "authorship_tag": "ABX9TyMj/kPBVivag/tSNkbPO72g",
      "include_colab_link": true
    },
    "kernelspec": {
      "name": "python3",
      "display_name": "Python 3"
    },
    "language_info": {
      "name": "python"
    }
  },
  "cells": [
    {
      "cell_type": "markdown",
      "metadata": {
        "id": "view-in-github",
        "colab_type": "text"
      },
      "source": [
        "<a href=\"https://colab.research.google.com/github/noorsahar001/Python-Assignments-04/blob/main/00_intro_python.ipynb\" target=\"_parent\"><img src=\"https://colab.research.google.com/assets/colab-badge.svg\" alt=\"Open In Colab\"/></a>"
      ]
    },
    {
      "cell_type": "markdown",
      "source": [
        "# **00_intro_python**\n",
        "\n",
        "#01_add_two_numbers"
      ],
      "metadata": {
        "id": "TWTaz3OhM-Uf"
      }
    },
    {
      "cell_type": "code",
      "source": [
        "def main():\n",
        "    firstnumber = int(input(\"Enter the number: \"))\n",
        "    secondnumber = int(input(\"Enter the number: \"))\n",
        "    sum = firstnumber + secondnumber\n",
        "\n",
        "    print(sum)\n",
        "\n",
        "if __name__ == '__main__':\n",
        "  main()"
      ],
      "metadata": {
        "colab": {
          "base_uri": "https://localhost:8080/"
        },
        "id": "jpUzG9fSNLED",
        "outputId": "7c0fbfe5-e604-47bb-bf4f-34c4bae3c622"
      },
      "execution_count": 1,
      "outputs": [
        {
          "output_type": "stream",
          "name": "stdout",
          "text": [
            "Enter the number: 78\n",
            "Enter the number: 42\n",
            "120\n"
          ]
        }
      ]
    },
    {
      "cell_type": "markdown",
      "source": [
        "#02_agreement_bot"
      ],
      "metadata": {
        "id": "w95oG3cHNbeI"
      }
    },
    {
      "cell_type": "code",
      "source": [
        "def main():\n",
        "    favorite_animal = input(\"Whats your favorite animal? \")\n",
        "\n",
        "    print(f\"My favorite animal is also {favorite_animal}!\")\n",
        "\n",
        "if __name__ == '__main__':\n",
        "  main()"
      ],
      "metadata": {
        "colab": {
          "base_uri": "https://localhost:8080/"
        },
        "id": "-rNKc2JMOvdG",
        "outputId": "3aee54c1-6d70-4973-f470-596f7a81a2ea"
      },
      "execution_count": 2,
      "outputs": [
        {
          "output_type": "stream",
          "name": "stdout",
          "text": [
            "Whats your favorite animal? horse\n",
            "My favorite animal is also horse!\n"
          ]
        }
      ]
    },
    {
      "cell_type": "markdown",
      "source": [
        "#03_fahrenheit_to_celsius"
      ],
      "metadata": {
        "id": "2UM4h0UuPg_M"
      }
    },
    {
      "cell_type": "code",
      "source": [
        "def main():\n",
        "  fahrenheit = float(input(\"Enter temperature in fahrenheit:\"))\n",
        "  celsius = (fahrenheit - 32) * 5.0 / 9.0\n",
        "\n",
        "  print(f\"Temperature = {fahrenheit}F = {celsius}C\")\n",
        "\n",
        "if __name__ == '__main__':\n",
        "  main()"
      ],
      "metadata": {
        "colab": {
          "base_uri": "https://localhost:8080/"
        },
        "id": "-FHvosRlPkjN",
        "outputId": "8861ed88-4e08-4138-a509-e6459e7c59df"
      },
      "execution_count": 4,
      "outputs": [
        {
          "output_type": "stream",
          "name": "stdout",
          "text": [
            "Enter temperature in fahrenheit:82\n",
            "Temperature = 82.0F = 27.77777777777778C\n"
          ]
        }
      ]
    },
    {
      "cell_type": "markdown",
      "source": [
        "#04_how_old_are_they"
      ],
      "metadata": {
        "id": "mUw2VHCbUrF4"
      }
    },
    {
      "cell_type": "code",
      "source": [
        "def main():\n",
        "  Anthon: int = 21\n",
        "  Beth: int = 6 + Anthon\n",
        "  Chen: int = 20 + Beth\n",
        "  Drew: int = Chen + Anthon\n",
        "  Ethan: int = Chen\n",
        "\n",
        "  print(\"Anton is \" + str(Anthon))\n",
        "  print(\"Beth is \" + str(Beth))\n",
        "  print(\"Chen is \" + str(Chen))\n",
        "  print(\"Drew is \" + str(Drew))\n",
        "  print(\"Ethan is \" + str(Ethan))\n",
        "\n",
        "if __name__ == '__main__':\n",
        "  main()"
      ],
      "metadata": {
        "colab": {
          "base_uri": "https://localhost:8080/"
        },
        "id": "CuquvGXZUxyH",
        "outputId": "53e9bf34-10e9-4755-95e9-733e9fd2dacf"
      },
      "execution_count": 7,
      "outputs": [
        {
          "output_type": "stream",
          "name": "stdout",
          "text": [
            "Anton is 21\n",
            "Beth is 27\n",
            "Chen is 47\n",
            "Drew is 68\n",
            "Ethan is 47\n"
          ]
        }
      ]
    },
    {
      "cell_type": "markdown",
      "source": [
        "#05_triangle_perimeter"
      ],
      "metadata": {
        "id": "ZEP4A5I6bSCC"
      }
    },
    {
      "cell_type": "code",
      "source": [
        "def main():\n",
        "  side1 = float(input(\"Enter the length of side1? \"))\n",
        "  side2 = float(input(\"Enter the length of side2? \"))\n",
        "  side3 = float(input(\"Enter the length of side3? \"))\n",
        "  total = float(side1+side2+side3)\n",
        "\n",
        "  print(f\"The perimeter of the triangle is {total}\")\n",
        "\n",
        "if __name__ == \"__main__\":\n",
        "  main()"
      ],
      "metadata": {
        "colab": {
          "base_uri": "https://localhost:8080/"
        },
        "id": "QPdplK9ebV2A",
        "outputId": "3ebda2c1-5f79-4b75-a3d1-ded8e52c1729"
      },
      "execution_count": 9,
      "outputs": [
        {
          "output_type": "stream",
          "name": "stdout",
          "text": [
            "Enter the length of side1? 50\n",
            "Enter the length of side2? 50\n",
            "Enter the length of side3? 50\n",
            "The perimeter of the triangle is 150.0\n"
          ]
        }
      ]
    },
    {
      "cell_type": "markdown",
      "source": [
        "#06_square_number"
      ],
      "metadata": {
        "id": "C4YjW332eft8"
      }
    },
    {
      "cell_type": "code",
      "source": [
        "def main():\n",
        "  number = float(input(\"Enter a number: \"))\n",
        "  square = number * number\n",
        "\n",
        "  print(f\"The square of{number} is {square}\")\n",
        "\n",
        "if __name__ == \"__main__\":\n",
        "  main()"
      ],
      "metadata": {
        "colab": {
          "base_uri": "https://localhost:8080/"
        },
        "id": "FwSNcQjAfERh",
        "outputId": "ea882051-e7e4-4964-9ed1-da813f85a442"
      },
      "execution_count": 10,
      "outputs": [
        {
          "output_type": "stream",
          "name": "stdout",
          "text": [
            "Enter a number: 40\n",
            "The square of40.0 is 1600.0\n"
          ]
        }
      ]
    }
  ]
}