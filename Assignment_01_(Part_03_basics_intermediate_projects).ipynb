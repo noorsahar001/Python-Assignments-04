{
  "nbformat": 4,
  "nbformat_minor": 0,
  "metadata": {
    "colab": {
      "provenance": [],
      "authorship_tag": "ABX9TyMvevOOY9qt8G9MJoG3q6j4",
      "include_colab_link": true
    },
    "kernelspec": {
      "name": "python3",
      "display_name": "Python 3"
    },
    "language_info": {
      "name": "python"
    }
  },
  "cells": [
    {
      "cell_type": "markdown",
      "metadata": {
        "id": "view-in-github",
        "colab_type": "text"
      },
      "source": [
        "<a href=\"https://colab.research.google.com/github/noorsahar001/Python-Assignments-04/blob/main/Assignment_01_(Part_03_basics_intermediate_projects).ipynb\" target=\"_parent\"><img src=\"https://colab.research.google.com/assets/colab-badge.svg\" alt=\"Open In Colab\"/></a>"
      ]
    },
    {
      "cell_type": "markdown",
      "source": [
        "#**Online Class Project 3**"
      ],
      "metadata": {
        "id": "8TlnPXhuRV-j"
      }
    },
    {
      "cell_type": "markdown",
      "source": [
        "#QR code encoder / decoder Python Project"
      ],
      "metadata": {
        "id": "lDyksy4ZRs4I"
      }
    },
    {
      "cell_type": "code",
      "source": [
        "!pip install qrcode[pil]"
      ],
      "metadata": {
        "colab": {
          "base_uri": "https://localhost:8080/"
        },
        "id": "KfP2Duo6R1G4",
        "outputId": "d9355561-49e7-4bb2-c77e-6df771abadba"
      },
      "execution_count": 2,
      "outputs": [
        {
          "output_type": "stream",
          "name": "stdout",
          "text": [
            "Collecting qrcode[pil]\n",
            "  Downloading qrcode-8.1-py3-none-any.whl.metadata (17 kB)\n",
            "Requirement already satisfied: pillow>=9.1.0 in /usr/local/lib/python3.11/dist-packages (from qrcode[pil]) (11.1.0)\n",
            "Downloading qrcode-8.1-py3-none-any.whl (45 kB)\n",
            "\u001b[?25l   \u001b[90m━━━━━━━━━━━━━━━━━━━━━━━━━━━━━━━━━━━━━━━━\u001b[0m \u001b[32m0.0/45.7 kB\u001b[0m \u001b[31m?\u001b[0m eta \u001b[36m-:--:--\u001b[0m\r\u001b[2K   \u001b[90m━━━━━━━━━━━━━━━━━━━━━━━━━━━━━━━━━━━━━━━━\u001b[0m \u001b[32m45.7/45.7 kB\u001b[0m \u001b[31m2.3 MB/s\u001b[0m eta \u001b[36m0:00:00\u001b[0m\n",
            "\u001b[?25hInstalling collected packages: qrcode\n",
            "Successfully installed qrcode-8.1\n"
          ]
        }
      ]
    },
    {
      "cell_type": "code",
      "source": [
        "import os\n",
        "import qrcode\n",
        "from PIL import Image\n",
        "from IPython.display import display\n",
        "\n",
        "data = \"Don't forget to subscribe\"\n",
        "img = qrcode.make(data)\n",
        "\n",
        "# Create the folder if it doesn't exist\n",
        "output_dir = \"C:/Users/HP/OneDrive/Documents/Maryam/new\"\n",
        "os.makedirs(output_dir, exist_ok=True)\n",
        "\n",
        "# Save the QR code image\n",
        "file_path = os.path.join(output_dir, \"myqrcode.png\")\n",
        "img.save(file_path)\n",
        "\n",
        "# Display the QR code image in the notebook\n",
        "display(img)"
      ],
      "metadata": {
        "colab": {
          "base_uri": "https://localhost:8080/",
          "height": 347
        },
        "id": "HAVMAiDpSGUT",
        "outputId": "2bc3953c-3622-410c-e0a6-4639694dbbf4"
      },
      "execution_count": null,
      "outputs": [
        {
          "output_type": "display_data",
          "data": {
            "text/plain": [
              "<qrcode.image.pil.PilImage at 0x7b9b3d485fd0>"
            ],
            "image/png": "[encoded data removed]",
            "image/jpeg": "[encoded data removed]"
          },
          "metadata": {}
        }
      ]
    },
    {
      "cell_type": "markdown",
      "source": [
        "#**Online Class Project 4:**"
      ],
      "metadata": {
        "id": "vmvW5KCkSNDC"
      }
    },
    {
      "cell_type": "markdown",
      "source": [
        "#Tic-Tac-Toe Python Project"
      ],
      "metadata": {
        "id": "5RRafMMvSYQW"
      }
    },
    {
      "cell_type": "code",
      "source": [
        "%%writefile player.py\n",
        "\n",
        "import math\n",
        "import random\n",
        "\n",
        "class Player:\n",
        "  def __init__(self,letter):\n",
        "    self.letter = letter\n",
        "\n",
        "  def get_move(self,game):\n",
        "    pass\n",
        "\n",
        "\n",
        "class RandomComputerPlayer(Player):\n",
        "  def __init__(self, letter):\n",
        "    super().__init__(letter)\n",
        "\n",
        "  def get_move(self, game):\n",
        "    square = random.choice(game.available_moves())\n",
        "    return square\n",
        "\n",
        "class HumanPlayer(Player):\n",
        "  def __init__(self, letter):\n",
        "    super().__init__(letter)\n",
        "\n",
        "  def get_move(self, game):\n",
        "    valid_square = False\n",
        "    val = None\n",
        "    while not valid_square:\n",
        "      square = input(self.letter + '\\'s turn. Input move (0-9): ')\n",
        "\n",
        "      try:\n",
        "        val = int(square)\n",
        "        if val not in game.available_moves():\n",
        "          raise ValueError\n",
        "        valid_square = True\n",
        "      except ValueError:\n",
        "        print('Invalid square. Try again.')\n",
        "    return val"
      ],
      "metadata": {
        "colab": {
          "base_uri": "https://localhost:8080/"
        },
        "id": "we_hmUjYSbhQ",
        "outputId": "d55a80ba-d9a0-4fbe-e1b7-5263f62b8f63"
      },
      "execution_count": null,
      "outputs": [
        {
          "output_type": "stream",
          "name": "stdout",
          "text": [
            "Overwriting player.py\n"
          ]
        }
      ]
    },
    {
      "cell_type": "code",
      "source": [
        "%%writefile game.py\n",
        "\n",
        "from player import HumanPlayer, RandomComputerPlayer\n",
        "\n",
        "\n",
        "class TicTacToe:\n",
        "  def __init__(self):\n",
        "    self.board = [' ' for _ in range(9)]\n",
        "    self.current_winner = None\n",
        "\n",
        "  def print_board(self):\n",
        "    for row in [self.board[i*3: (i+1)*3] for i in range(3)]:\n",
        "      print('| ' + ' | '.join(row) + ' |')\n",
        "\n",
        "  @staticmethod\n",
        "  def print_board_nums():\n",
        "    number_board = [[str(i) for i in range(j*3, (j+1)*3)] for j in range(3)]\n",
        "    for row in number_board:\n",
        "      print('| ' + ' | '.join(row) + ' |')\n",
        "\n",
        "  def available_moves(self):\n",
        "    return [i for i, spot in enumerate(self.board) if spot == ' ']\n",
        "\n",
        "  def empty_squares(self):\n",
        "    return ' ' in self.board\n",
        "\n",
        "  def num_empty_squares(self):\n",
        "    return self.board.count(' ')\n",
        "\n",
        "  def make_move(self, square, letter):\n",
        "    if self.board[square] == ' ':\n",
        "      self.board[square] = letter\n",
        "      if self.winner(square, letter):\n",
        "        self.current_winner = letter\n",
        "      return True\n",
        "    return False\n",
        "\n",
        "\n",
        "  def winner(self, square, letter):\n",
        "    row_ind = square // 3\n",
        "    row = self.board[row_ind*3 : (row_ind + 1) * 3]\n",
        "    if all([spot == letter for spot in row]):\n",
        "      return True\n",
        "\n",
        "\n",
        "    col_ind = square % 3\n",
        "    column = [self.board[col_ind+i*3] for i in range(3)]\n",
        "    if all([spot == letter for spot in column]):\n",
        "      return True\n",
        "\n",
        "    if square % 2 == 0:\n",
        "      diagonal1 = [self.board[i] for i in [0, 4, 8]]\n",
        "      if all([spot == letter for spot in diagonal1]):\n",
        "        return True\n",
        "      diagonal2 = [self.board[i] for i in [2, 4, 6]]\n",
        "      if all([spot == letter for spot in diagonal2]):\n",
        "        return True\n",
        "\n",
        "    return False\n",
        "\n",
        "\n",
        "\n",
        "def play(game, x_player, o_player, print_game=True):\n",
        "  if print_game:\n",
        "    game.print_board_nums()\n",
        "\n",
        "  letter = 'X'\n",
        "  while game.empty_squares():\n",
        "    if letter == 'O':\n",
        "      square = o_player.get_move(game)\n",
        "    else:\n",
        "      square = x_player.get_move(game)\n",
        "\n",
        "    if game.make_move(square, letter):\n",
        "      if print_game:\n",
        "        print(letter + f' makes a move to square {square}')\n",
        "        game.print_board()\n",
        "        print('')\n",
        "\n",
        "      if game.current_winner:\n",
        "        if print_game:\n",
        "          print(letter + ' wins!')\n",
        "        return letter\n",
        "\n",
        "      letter = 'O' if letter == 'X' else 'X'\n",
        "\n",
        "    if print_game:\n",
        "      print('It\\'s a tie!')\n",
        "\n",
        "if __name__ == '__main__':\n",
        "  x_player = HumanPlayer('X')\n",
        "  o_player = RandomComputerPlayer('O')\n",
        "  t = TicTacToe()\n",
        "  play(t, x_player, o_player, print_game=True)"
      ],
      "metadata": {
        "colab": {
          "base_uri": "https://localhost:8080/"
        },
        "id": "qZrAEqXpTvck",
        "outputId": "e02ae217-ff9e-440e-83c5-ffd0621aa038"
      },
      "execution_count": null,
      "outputs": [
        {
          "output_type": "stream",
          "name": "stdout",
          "text": [
            "Overwriting game.py\n"
          ]
        }
      ]
    },
    {
      "cell_type": "code",
      "source": [
        "!pip install pygame --quiet"
      ],
      "metadata": {
        "id": "QoC-XKcnT6Bx"
      },
      "execution_count": null,
      "outputs": []
    },
    {
      "cell_type": "code",
      "source": [
        "!python game.py\n"
      ],
      "metadata": {
        "colab": {
          "base_uri": "https://localhost:8080/"
        },
        "id": "Z_IVd9ePT_V4",
        "outputId": "a2e967b9-2cff-4eb4-cd9b-8d872a56ee4d"
      },
      "execution_count": null,
      "outputs": [
        {
          "output_type": "stream",
          "name": "stdout",
          "text": [
            "| 0 | 1 | 2 |\n",
            "| 3 | 4 | 5 |\n",
            "| 6 | 7 | 8 |\n",
            "X's turn. Input move (0-9): 2\n",
            "X makes a move to square 2\n",
            "|   |   | X |\n",
            "|   |   |   |\n",
            "|   |   |   |\n",
            "\n",
            "It's a tie!\n",
            "O makes a move to square 0\n",
            "| O |   | X |\n",
            "|   |   |   |\n",
            "|   |   |   |\n",
            "\n",
            "It's a tie!\n",
            "X's turn. Input move (0-9): 4\n",
            "X makes a move to square 4\n",
            "| O |   | X |\n",
            "|   | X |   |\n",
            "|   |   |   |\n",
            "\n",
            "It's a tie!\n",
            "O makes a move to square 6\n",
            "| O |   | X |\n",
            "|   | X |   |\n",
            "| O |   |   |\n",
            "\n",
            "It's a tie!\n",
            "X's turn. Input move (0-9): 8\n",
            "X makes a move to square 8\n",
            "| O |   | X |\n",
            "|   | X |   |\n",
            "| O |   | X |\n",
            "\n",
            "It's a tie!\n",
            "O makes a move to square 7\n",
            "| O |   | X |\n",
            "|   | X |   |\n",
            "| O | O | X |\n",
            "\n",
            "It's a tie!\n",
            "X's turn. Input move (0-9): 5\n",
            "X makes a move to square 5\n",
            "| O |   | X |\n",
            "|   | X | X |\n",
            "| O | O | X |\n",
            "\n",
            "X wins!\n"
          ]
        }
      ]
    },
    {
      "cell_type": "markdown",
      "source": [
        "#**Online Class Project 5:**"
      ],
      "metadata": {
        "id": "2lmyIxqVUxUI"
      }
    },
    {
      "cell_type": "markdown",
      "source": [
        "#Binary Search Python Project"
      ],
      "metadata": {
        "id": "y3F4iB1ZU4Ix"
      }
    },
    {
      "cell_type": "code",
      "source": [
        "%%writefile binary_search.py\n",
        "\n",
        "import random\n",
        "import time\n",
        "\n",
        "def naive_search(l, target):\n",
        "  for i in range(len(l)):\n",
        "    if l[i] == target:\n",
        "      return i\n",
        "  return -1\n",
        "\n",
        "def binary_search(l, target, low=None, high=None):\n",
        "  if low is None:\n",
        "    low = 0\n",
        "  if high is None:\n",
        "    high = len(l) - 1\n",
        "\n",
        "  if high < low:\n",
        "    return -1\n",
        "\n",
        "\n",
        "  midpoint = (low + high) // 2\n",
        "\n",
        "\n",
        "\n",
        "  if l[midpoint] == target:\n",
        "    return midpoint\n",
        "  elif target < l[midpoint]:\n",
        "    return binary_search(l, target, low, midpoint-1)\n",
        "  else:\n",
        "    return binary_search(l, target, midpoint+1, high)\n",
        "\n",
        "if __name__ == '__main__':\n",
        "  # l = [1, 3, 5, 10, 12]\n",
        "  # target = 10\n",
        "  # print(naive_search(l, target))\n",
        "  # print(binary_search(l, target))\n",
        "\n",
        "  length = 10000\n",
        "  sorted_list = set()\n",
        "  while len(sorted_list) < length:\n",
        "    sorted_list.add(random.randint(-3*length, 3*length))\n",
        "  sorted_list = sorted(list(sorted_list))\n",
        "\n",
        "  start = time.time()\n",
        "  for target in sorted_list:\n",
        "    naive_search(sorted_list, target)\n",
        "  end = time.time()\n",
        "  print(\"Naive search time: \", (end - start)/length, \"seconds\")\n",
        "\n",
        "  start = time.time()\n",
        "  for target in sorted_list:\n",
        "    binary_search(sorted_list, target)\n",
        "  end = time.time()\n",
        "  print(\"Binary search time: \", (end - start)/length, \"seconds\")"
      ],
      "metadata": {
        "colab": {
          "base_uri": "https://localhost:8080/"
        },
        "id": "hA1BxOolVDYV",
        "outputId": "8a9df473-c8a4-4a74-e22f-145488d8cacc"
      },
      "execution_count": null,
      "outputs": [
        {
          "output_type": "stream",
          "name": "stdout",
          "text": [
            "Overwriting binary_search.py\n"
          ]
        }
      ]
    },
    {
      "cell_type": "code",
      "source": [
        "!python binary_search.py"
      ],
      "metadata": {
        "colab": {
          "base_uri": "https://localhost:8080/"
        },
        "id": "Y4qISMp1VYdk",
        "outputId": "7718224d-8734-4a32-fada-77fb2b2f7f5a"
      },
      "execution_count": null,
      "outputs": [
        {
          "output_type": "stream",
          "name": "stdout",
          "text": [
            "Naive search time:  0.00032903423309326173 seconds\n",
            "Binary search time:  2.3758649826049804e-06 seconds\n"
          ]
        }
      ]
    },
    {
      "cell_type": "markdown",
      "source": [
        "#**Online Class Project 6:**"
      ],
      "metadata": {
        "id": "YsXvM-E3VpHK"
      }
    },
    {
      "cell_type": "markdown",
      "source": [
        "#Bulk File Re-namer Python Project"
      ],
      "metadata": {
        "id": "e61U4z6GVszS"
      }
    },
    {
      "cell_type": "code",
      "source": [
        "%%writefile rename.py\n",
        "\n",
        "import os\n",
        "\n",
        "\n",
        "def main():\n",
        "  i = 0\n",
        "  path = \"C:/Users/HP/OneDrive/Documents/Noor Sahar/new/\"\n",
        "  for filename in os.listdir(path):\n",
        "    my_dest = \"image\" + str(i) + \".jpg\"\n",
        "    my_source = path + filename\n",
        "    my_dest =path + my_dest\n",
        "    os.rename(my_source, my_dest)\n",
        "    i += 1\n",
        "\n",
        "if __name__ == '__main__':\n",
        "  main()"
      ],
      "metadata": {
        "colab": {
          "base_uri": "https://localhost:8080/"
        },
        "id": "gp3Av5i6V2SX",
        "outputId": "21fcf672-89c3-47ca-e724-73fb5ca7c6ee"
      },
      "execution_count": 7,
      "outputs": [
        {
          "output_type": "stream",
          "name": "stdout",
          "text": [
            "Overwriting rename.py\n"
          ]
        }
      ]
    },
    {
      "cell_type": "code",
      "source": [
        "!python rename.py"
      ],
      "metadata": {
        "id": "nJ4T3JK6zwcE"
      },
      "execution_count": null,
      "outputs": []
    },
    {
      "cell_type": "markdown",
      "source": [
        "# **Online Class Project 7:**"
      ],
      "metadata": {
        "id": "dGen7e8wWEEH"
      }
    },
    {
      "cell_type": "markdown",
      "source": [
        "#Weather Program Python Project\n"
      ],
      "metadata": {
        "id": "kGhkr2WvWJxV"
      }
    },
    {
      "cell_type": "code",
      "source": [
        "import requests\n",
        "from pprint import pprint\n",
        "\n",
        "API_Key = 'cb771e45ac79a4e8e2205c0ce66ff633'\n",
        "\n",
        "city = input(\"Enter a city: \")\n",
        "\n",
        "base_url = \"http://api.openweathermap.org/data/2.5/weather?appid=\"+API_Key+\"&q=\"+city\n",
        "\n",
        "weather_data = requests.get(base_url).json()\n",
        "\n",
        "pprint(weather_data)\n"
      ],
      "metadata": {
        "colab": {
          "base_uri": "https://localhost:8080/"
        },
        "id": "4lU6WavkWN95",
        "outputId": "3a992535-0711-458c-9341-17fa3eff340e"
      },
      "execution_count": null,
      "outputs": [
        {
          "output_type": "stream",
          "name": "stdout",
          "text": [
            "Enter a city: Karachi\n",
            "{'base': 'stations',\n",
            " 'clouds': {'all': 0},\n",
            " 'cod': 200,\n",
            " 'coord': {'lat': 24.9056, 'lon': 67.0822},\n",
            " 'dt': 1744668419,\n",
            " 'id': 1174872,\n",
            " 'main': {'feels_like': 302.5,\n",
            "          'grnd_level': 1003,\n",
            "          'humidity': 78,\n",
            "          'pressure': 1007,\n",
            "          'sea_level': 1007,\n",
            "          'temp': 300.05,\n",
            "          'temp_max': 300.05,\n",
            "          'temp_min': 300.05},\n",
            " 'name': 'Karachi',\n",
            " 'sys': {'country': 'PK',\n",
            "         'id': 7576,\n",
            "         'sunrise': 1744679367,\n",
            "         'sunset': 1744725214,\n",
            "         'type': 1},\n",
            " 'timezone': 18000,\n",
            " 'visibility': 6000,\n",
            " 'weather': [{'description': 'clear sky',\n",
            "              'icon': '01n',\n",
            "              'id': 800,\n",
            "              'main': 'Clear'}],\n",
            " 'wind': {'deg': 270, 'speed': 4.63}}\n"
          ]
        }
      ]
    },
    {
      "cell_type": "markdown",
      "source": [
        "# **Online Class Project 8:**"
      ],
      "metadata": {
        "id": "a1hhElTrWbQu"
      }
    },
    {
      "cell_type": "markdown",
      "source": [
        "#Streamlit Crash Course: Build Data-Driven Python Web Apps in Minutes! (Beginner Friendly Tutorial)"
      ],
      "metadata": {
        "id": "iNqDe2wvWdP2"
      }
    },
    {
      "cell_type": "code",
      "source": [
        "%%writefile streamlit.txt\n",
        "\n",
        "Key Points\n",
        "\n",
        "- No need for front-end coding\n",
        "- Reactive -- your app updates every time a change is made\n",
        "- Easy integration with Python libraries like Pandas, NumPy, and Matplotlib\n",
        "\n",
        "30-40"
      ],
      "metadata": {
        "colab": {
          "base_uri": "https://localhost:8080/"
        },
        "id": "RGgEjJM-Wotg",
        "outputId": "7c64fc87-94a3-4b12-e749-4aba3ae4f8af"
      },
      "execution_count": 1,
      "outputs": [
        {
          "output_type": "stream",
          "name": "stdout",
          "text": [
            "Overwriting streamlit.txt\n"
          ]
        }
      ]
    },
    {
      "cell_type": "code",
      "source": [
        "!pip install streamlit --quiet"
      ],
      "metadata": {
        "id": "OgDffa3VWzeE"
      },
      "execution_count": 2,
      "outputs": []
    },
    {
      "cell_type": "code",
      "source": [
        "!streamlit hello"
      ],
      "metadata": {
        "colab": {
          "base_uri": "https://localhost:8080/"
        },
        "id": "vemuhhKBW6SD",
        "outputId": "f0e720f0-cf0b-4cfa-bdef-b9b476898355"
      },
      "execution_count": 3,
      "outputs": [
        {
          "output_type": "stream",
          "name": "stdout",
          "text": [
            "\n",
            "Collecting usage statistics. To deactivate, set browser.gatherUsageStats to false.\n",
            "\u001b[0m\n",
            "\u001b[0m\n",
            "\u001b[34m\u001b[1m  Welcome to Streamlit. Check out our demo in your browser.\u001b[0m\n",
            "\u001b[0m\n",
            "\u001b[34m  Local URL: \u001b[0m\u001b[1mhttp://localhost:8501\u001b[0m\n",
            "\u001b[34m  Network URL: \u001b[0m\u001b[1mhttp://172.28.0.12:8501\u001b[0m\n",
            "\u001b[34m  External URL: \u001b[0m\u001b[1mhttp://34.169.229.1:8501\u001b[0m\n",
            "\u001b[0m\n",
            "  Ready to create your own Python apps super quickly?\u001b[0m\n",
            "  Head over to \u001b[0m\u001b[1mhttps://docs.streamlit.io\u001b[0m\n",
            "\u001b[0m\n",
            "  May you create awesome apps!\u001b[0m\n",
            "\u001b[0m\n",
            "\u001b[0m\n",
            "\u001b[34m  Stopping...\u001b[0m\n",
            "\u001b[34m  Stopping...\u001b[0m\n"
          ]
        }
      ]
    },
    {
      "cell_type": "code",
      "source": [
        "!pip install streamlit pyngrok --quiet"
      ],
      "metadata": {
        "id": "Kku3n11wXPXo"
      },
      "execution_count": 4,
      "outputs": []
    },
    {
      "cell_type": "code",
      "source": [
        "from pyngrok import ngrok\n",
        "\n",
        "ngrok.set_auth_token(\"2vorvmGx9dD5xJllkb2u5g58S7v_2LUR8wUKNJDbZxjRc46m3\")"
      ],
      "metadata": {
        "id": "WNTfHr48Xj3w"
      },
      "execution_count": 6,
      "outputs": []
    },
    {
      "cell_type": "code",
      "source": [
        "%%writefile apps.py\n",
        "\n",
        "import streamlit as st\n",
        "import pandas as pd\n",
        "import numpy as np\n",
        "import plotly.express as px\n",
        "import seaborn as sns\n",
        "import matplotlib.pyplot as plt\n",
        "\n",
        "# st.title(\"Streamlit Fundamentals\")\n",
        "\n",
        "# st.header(\"This is Header\")\n",
        "\n",
        "# st.subheader(\"This is subheader\")\n",
        "\n",
        "# st.text(\"This is a simple text output\")\n",
        "\n",
        "# st.markdown(\"**This is bold text using markdown**\")\n",
        "\n",
        "# name = \"Noor Sahar\"\n",
        "\n",
        "# number = 10\n",
        "\n",
        "# st.write(\"Hello \", name)\n",
        "# st.write(\"Here's a random number: \", number)\n",
        "\n",
        "# if st.button(\"Click me\"):\n",
        "#   st.write(\"Button clicked!\")\n",
        "\n",
        "# checked = st.checkbox(\"Check me!\")\n",
        "\n",
        "# if checked:\n",
        "#   st.write(\"Checkbox is checked!\")\n",
        "\n",
        "# age = st.slider(\"Select your age\", 0, 100, 25)\n",
        "\n",
        "# st.write(\"Your age is: \", age)\n",
        "\n",
        "# name = st.text_input(\"Enter your name\")\n",
        "# age = st.slider(\"Select your age\", 0, 100)\n",
        "\n",
        "# if st.button(\"Submit\"):\n",
        "#   st.write(f\"Hello {name}, you are {age} years old.\")\n",
        "\n",
        "st.title(\"User Info Form\")\n",
        "\n",
        "name = st.text_input(\"Enter your name\")\n",
        "age = st.slider(\"Select your age\", 0, 100)\n",
        "favourite_number = st.text_input(\"Enter your favourite number\")\n",
        "\n",
        "if st.button(\"Submit!\"):\n",
        "  st.write(f\"Hello, {name}! You are {age} years old, your favourite number is {favourite_number}.\")\n",
        "\n",
        "st.write(\"-------------------------------\")\n",
        "\n",
        "\n",
        "#age = st.number_input(\"Enter your age\", value=20)\n",
        "\n",
        "#st.write(\"Entered age: \", age)\n",
        "\n",
        "\n",
        "\n",
        "# data = {\"Name\": [\"Noor Sahar\", \"Shafiq\", \"Rasheeda\", \"Uzair\", \"Pinky\"],\n",
        "#         \"Age\": [20, 65, 42, 26, 19],\n",
        "#         \"City\": [\"New York\", \"Paris\", \"Qatar\", \"Oman\", \"London\"]}\n",
        "\n",
        "# df = pd.DataFrame(data)\n",
        "\n",
        "# styled_df = df.style.applymap(lambda x: \"background-color: yellow\" if isinstance(x, str) and x > 90 else \"\")\n",
        "\n",
        "# st.dataframe(styled_df)\n",
        "\n",
        "# # st.dataframe(df)\n",
        "# # st.table(df) non-scrollable\n",
        "\n",
        "\n",
        "\n",
        "# json_data = {\n",
        "#     \"name\": \"Noor Sahar\",\n",
        "#     \"age\": 20,\n",
        "#     \"address\": {\n",
        "#         \"street\": \"456 Main St\",\n",
        "#         \"city\": \"New York\",\n",
        "#         \"state\": \"NY\",\n",
        "#         \"zip\": \"27854\"\n",
        "#     }\n",
        "# }\n",
        "\n",
        "# st.json(json_data)\n",
        "\n",
        "\n",
        "# data = pd.DataFrame(\n",
        "#     np.random.randn(100, 3),\n",
        "#     columns=[\"A\", \"B\", \"C\"]\n",
        "# )\n",
        "\n",
        "# st.line_chart(data)\n",
        "# st.bar_chart(data)\n",
        "# st.area_chart(data)\n",
        "\n",
        "\n",
        "data = pd.DataFrame({\n",
        "    \"Fruit\" : [\"Apples\", \"Bananas\", \"Cherries\", \"Onions\"],\n",
        "    \"Amount\": [10, 20, 30, 40]\n",
        "})\n",
        "\n",
        "fig = px.bar(data, x=\"Fruit\", y=\"Amount\", title=\"Fruit Sales\")\n",
        "\n",
        "st.plotly_chart(fig)\n",
        "\n",
        "\n",
        "#sidebar\n",
        "st.sidebar.title(\"Sidebar\")\n",
        "\n",
        "option = st.sidebar.selectbox(\"Choose a page: \", [\"Home\", \"About\", \"Contact\"])\n",
        "\n",
        "if option == \"Home\":\n",
        "  st.write(\"This is the Home page\")\n",
        "elif option == \"About\":\n",
        "  st.write(\"This is the About page\")\n",
        "elif option == \"Contact\":\n",
        "  st.write(\"This is the Contact page\")\n"
      ],
      "metadata": {
        "colab": {
          "base_uri": "https://localhost:8080/"
        },
        "id": "0IFN-Ze9Z0v-",
        "outputId": "96404f67-b810-425e-c7c5-334b176cf88b"
      },
      "execution_count": 7,
      "outputs": [
        {
          "output_type": "stream",
          "name": "stdout",
          "text": [
            "Overwriting apps.py\n"
          ]
        }
      ]
    },
    {
      "cell_type": "code",
      "source": [
        "!streamlit run apps.py"
      ],
      "metadata": {
        "colab": {
          "base_uri": "https://localhost:8080/"
        },
        "id": "4n13soYxbVnY",
        "outputId": "34ca6a1a-d612-4d11-995c-f2a7c9e46be5"
      },
      "execution_count": 14,
      "outputs": [
        {
          "output_type": "stream",
          "name": "stdout",
          "text": [
            "\n",
            "Collecting usage statistics. To deactivate, set browser.gatherUsageStats to false.\n",
            "\u001b[0m\n",
            "\u001b[0m\n",
            "\u001b[34m\u001b[1m  You can now view your Streamlit app in your browser.\u001b[0m\n",
            "\u001b[0m\n",
            "\u001b[34m  Local URL: \u001b[0m\u001b[1mhttp://localhost:8501\u001b[0m\n",
            "\u001b[34m  Network URL: \u001b[0m\u001b[1mhttp://172.28.0.12:8501\u001b[0m\n",
            "\u001b[34m  External URL: \u001b[0m\u001b[1mhttp://34.169.229.1:8501\u001b[0m\n",
            "\u001b[0m\n",
            "\u001b[34m  Stopping...\u001b[0m\n",
            "^C\n"
          ]
        }
      ]
    },
    {
      "cell_type": "code",
      "source": [
        "import subprocess\n",
        "import threading\n",
        "import time\n",
        "\n",
        "def run():\n",
        "    subprocess.call(['streamlit', 'run', 'app.py'])\n",
        "\n",
        "thread = threading.Thread(target=run)\n",
        "thread.start()\n",
        "\n",
        "time.sleep(5)  # Give Streamlit time to launch"
      ],
      "metadata": {
        "id": "I9__D9zHb1rN"
      },
      "execution_count": 9,
      "outputs": []
    },
    {
      "cell_type": "code",
      "source": [
        "public_url = ngrok.connect(8501)\n",
        "print(\"🚀 Streamlit is live at:\", public_url)"
      ],
      "metadata": {
        "colab": {
          "base_uri": "https://localhost:8080/"
        },
        "id": "gPhUS-B8b5Qw",
        "outputId": "360be1b9-6a51-4bc7-edd6-e97913bf5371"
      },
      "execution_count": 10,
      "outputs": [
        {
          "output_type": "stream",
          "name": "stdout",
          "text": [
            "🚀 Streamlit is live at: NgrokTunnel: \"https://7878-34-169-229-1.ngrok-free.app\" -> \"http://localhost:8501\"\n"
          ]
        }
      ]
    },
    {
      "cell_type": "markdown",
      "source": [
        "\n",
        "# **Online Class Project 9:**"
      ],
      "metadata": {
        "id": "0NgSnsngcjMR"
      }
    },
    {
      "cell_type": "markdown",
      "source": [
        "#Python Streamlit Web App - Country Information Cards"
      ],
      "metadata": {
        "id": "t_gRnjsBco4l"
      }
    },
    {
      "cell_type": "code",
      "source": [
        "import requests\n",
        "\n",
        "response = requests.get(\"https://restcountries.com/v3/all\")\n",
        "print(response)"
      ],
      "metadata": {
        "colab": {
          "base_uri": "https://localhost:8080/"
        },
        "id": "Gp2psA3ncwTh",
        "outputId": "d70e9fdf-c250-4a19-c54d-5df6b262656d"
      },
      "execution_count": 16,
      "outputs": [
        {
          "output_type": "stream",
          "name": "stdout",
          "text": [
            "<Response [200]>\n"
          ]
        }
      ]
    },
    {
      "cell_type": "code",
      "source": [
        "response = requests.get(\"https://restcountries.com/v3/name/turkey\")\n",
        "\n",
        "if response.status_code == 200:\n",
        "  data = response.json()\n",
        "  print(data)\n",
        "else:\n",
        "  print(\"Error: \", response.status_code)"
      ],
      "metadata": {
        "colab": {
          "base_uri": "https://localhost:8080/"
        },
        "id": "_R0szlVxc0wM",
        "outputId": "32a1a9dc-0910-4e4a-a715-2e75d18cf2b1"
      },
      "execution_count": 17,
      "outputs": [
        {
          "output_type": "stream",
          "name": "stdout",
          "text": [
            "[{'name': {'common': 'Turkey', 'official': 'Republic of Turkey', 'nativeName': {'tur': {'official': 'Türkiye Cumhuriyeti', 'common': 'Türkiye'}}}, 'tld': ['.tr'], 'cca2': 'TR', 'ccn3': '792', 'cca3': 'TUR', 'cioc': 'TUR', 'independent': True, 'status': 'officially-assigned', 'unMember': True, 'currencies': {'TRY': {'name': 'Turkish lira', 'symbol': '₺'}}, 'idd': {'root': '+9', 'suffixes': ['0']}, 'capital': ['Ankara'], 'altSpellings': ['TR', 'Turkiye', 'Republic of Turkey', 'Türkiye Cumhuriyeti'], 'region': 'Asia', 'subregion': 'Western Asia', 'languages': {'tur': 'Turkish'}, 'translations': {'ara': {'official': 'الجمهورية التركية', 'common': 'تركيا'}, 'bre': {'official': 'Republik Turkia', 'common': 'Turkia'}, 'ces': {'official': 'Turecká republika', 'common': 'Turecko'}, 'cym': {'official': 'Republic of Turkey', 'common': 'Turkey'}, 'deu': {'official': 'Republik Türkei', 'common': 'Türkei'}, 'est': {'official': 'Türgi Vabariik', 'common': 'Türgi'}, 'fin': {'official': 'Turkin tasavalta', 'common': 'Turkki'}, 'fra': {'official': 'République de Turquie', 'common': 'Turquie'}, 'hrv': {'official': 'Republika Turska', 'common': 'Turska'}, 'hun': {'official': 'Török Köztársaság', 'common': 'Törökország'}, 'ita': {'official': 'Repubblica di Turchia', 'common': 'Turchia'}, 'jpn': {'official': 'トルコ共和国', 'common': 'トルコ'}, 'kor': {'official': '터키 공화국', 'common': '터키'}, 'nld': {'official': 'Republiek Turkije', 'common': 'Turkije'}, 'per': {'official': 'جمهوری ترکیه', 'common': 'ترکیه'}, 'pol': {'official': 'Republika Turcji', 'common': 'Turcja'}, 'por': {'official': 'República da Turquia', 'common': 'Turquia'}, 'rus': {'official': 'Республика Турции', 'common': 'Турция'}, 'slk': {'official': 'Turecká republika', 'common': 'Turecko'}, 'spa': {'official': 'República de Turquía', 'common': 'Turquía'}, 'swe': {'official': 'Republiken Turkiet', 'common': 'Turkiet'}, 'urd': {'official': 'جمہوریہ ترکی', 'common': 'ترکی'}, 'zho': {'official': '土耳其共和国', 'common': '土耳其'}}, 'latlng': [39.0, 35.0], 'landlocked': False, 'borders': ['ARM', 'AZE', 'BGR', 'GEO', 'GRC', 'IRN', 'IRQ', 'SYR'], 'area': 783562.0, 'demonyms': {'eng': {'f': 'Turkish', 'm': 'Turkish'}, 'fra': {'f': 'Turque', 'm': 'Turc'}}, 'flag': '🇹🇷', 'maps': {'googleMaps': 'https://goo.gl/maps/dXFFraiUDfcB6Quk6', 'openStreetMaps': 'https://www.openstreetmap.org/relation/174737'}, 'population': 84339067, 'gini': {'2019': 41.9}, 'fifa': 'TUR', 'car': {'signs': ['TR'], 'side': 'right'}, 'timezones': ['UTC+03:00'], 'continents': ['Asia'], 'flags': ['https://flagcdn.com/tr.svg', 'https://flagcdn.com/w320/tr.png']}]\n"
          ]
        }
      ]
    },
    {
      "cell_type": "code",
      "source": [
        "%%writefile myapp.py\n",
        "\n",
        "import streamlit as st\n",
        "import requests\n",
        "\n",
        "def fetch_country_data(country_name):\n",
        "  url = f\"https://restcountries.com/v3/name/{country_name}\"\n",
        "  response = requests.get(url)\n",
        "\n",
        "  if response.status_code == 200:\n",
        "    data = response.json()\n",
        "    country_data = data[0]\n",
        "    name = country_data[\"name\"][\"common\"]\n",
        "    capital = country_data[\"capital\"][0]\n",
        "    population = country_data[\"population\"]\n",
        "    area = country_data[\"area\"]\n",
        "    currency = country_data[\"currencies\"]\n",
        "    region = country_data[\"region\"]\n",
        "    return name, capital, population, area, currency, region\n",
        "  else:\n",
        "    return None\n",
        "\n",
        "def main():\n",
        "  st.title(\"Country Information App\")\n",
        "\n",
        "  country_name = st.text_input(\"Enter a country name: \")\n",
        "\n",
        "  if country_name:\n",
        "    country_info = fetch_country_data(country_name)\n",
        "    if country_info:\n",
        "      name, capital, population, area, currency, region = country_info\n",
        "\n",
        "      st.subheader(\"Country Information\")\n",
        "      st.write(f\"Name: {name}\")\n",
        "      st.write(f\"Capital: {capital}\")\n",
        "      st.write(f\"Population: {population}\")\n",
        "      st.write(f\"Area: {area}\")\n",
        "      st.write(f\"Currency: {currency}\")\n",
        "      st.write(f\"Region: {region}\")\n",
        "    else:\n",
        "      st.error(\"Error: Country not found.\")\n",
        "\n",
        "if __name__ == \"__main__\":\n",
        "  main()"
      ],
      "metadata": {
        "colab": {
          "base_uri": "https://localhost:8080/"
        },
        "id": "jhY532-hc7Hq",
        "outputId": "7436df5b-3871-456d-efcd-0217c8147927"
      },
      "execution_count": 18,
      "outputs": [
        {
          "output_type": "stream",
          "name": "stdout",
          "text": [
            "Writing myapp.py\n"
          ]
        }
      ]
    },
    {
      "cell_type": "code",
      "source": [
        "import subprocess\n",
        "import threading\n",
        "import time\n",
        "\n",
        "def run():\n",
        "    subprocess.call(['streamlit', 'run', 'app.py'])\n",
        "\n",
        "thread = threading.Thread(target=run)\n",
        "thread.start()\n",
        "\n",
        "time.sleep(5)  # Give Streamlit time to launch\n"
      ],
      "metadata": {
        "id": "brOBvCNddGOg"
      },
      "execution_count": 19,
      "outputs": []
    },
    {
      "cell_type": "code",
      "source": [
        "public_url = ngrok.connect(8501)\n",
        "print(\"🚀 Streamlit is live at:\", public_url)"
      ],
      "metadata": {
        "colab": {
          "base_uri": "https://localhost:8080/"
        },
        "id": "ECZ_jIQqdLGz",
        "outputId": "2fc51236-5781-45f1-9282-3a9edc83bf17"
      },
      "execution_count": 20,
      "outputs": [
        {
          "output_type": "stream",
          "name": "stdout",
          "text": [
            "🚀 Streamlit is live at: NgrokTunnel: \"https://6402-34-169-229-1.ngrok-free.app\" -> \"http://localhost:8501\"\n"
          ]
        }
      ]
    },
    {
      "cell_type": "code",
      "source": [
        "!streamlit run myapp.py"
      ],
      "metadata": {
        "colab": {
          "base_uri": "https://localhost:8080/"
        },
        "id": "PS5HTp0TdPK0",
        "outputId": "9b79cbfd-111f-4c80-8e7a-26066cc76c89"
      },
      "execution_count": 1,
      "outputs": [
        {
          "output_type": "stream",
          "name": "stdout",
          "text": [
            "\n",
            "Collecting usage statistics. To deactivate, set browser.gatherUsageStats to false.\n",
            "\u001b[0m\n",
            "\u001b[0m\n",
            "\u001b[34m\u001b[1m  You can now view your Streamlit app in your browser.\u001b[0m\n",
            "\u001b[0m\n",
            "\u001b[34m  Local URL: \u001b[0m\u001b[1mhttp://localhost:8501\u001b[0m\n",
            "\u001b[34m  Network URL: \u001b[0m\u001b[1mhttp://172.28.0.12:8501\u001b[0m\n",
            "\u001b[34m  External URL: \u001b[0m\u001b[1mhttp://34.169.229.1:8501\u001b[0m\n",
            "\u001b[0m\n",
            "\u001b[34m  Stopping...\u001b[0m\n",
            "\u001b[34m  Stopping...\u001b[0m\n"
          ]
        }
      ]
    }
  ]
}