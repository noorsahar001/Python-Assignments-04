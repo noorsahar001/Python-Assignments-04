{
  "nbformat": 4,
  "nbformat_minor": 0,
  "metadata": {
    "colab": {
      "provenance": [],
      "authorship_tag": "ABX9TyPai9tHT+X4tJpbzSvN5xSo",
      "include_colab_link": true
    },
    "kernelspec": {
      "name": "python3",
      "display_name": "Python 3"
    },
    "language_info": {
      "name": "python"
    }
  },
  "cells": [
    {
      "cell_type": "markdown",
      "metadata": {
        "id": "view-in-github",
        "colab_type": "text"
      },
      "source": [
        "<a href=\"https://colab.research.google.com/github/noorsahar001/Python-Assignments-04/blob/main/03_if_statements.ipynb\" target=\"_parent\"><img src=\"https://colab.research.google.com/assets/colab-badge.svg\" alt=\"Open In Colab\"/></a>"
      ]
    },
    {
      "cell_type": "markdown",
      "source": [
        "# **03_is_statements**"
      ],
      "metadata": {
        "id": "n6K7_FeK9JSP"
      }
    },
    {
      "cell_type": "markdown",
      "source": [
        "#01_print_events"
      ],
      "metadata": {
        "id": "FIkQRBc-9jMs"
      }
    },
    {
      "cell_type": "code",
      "source": [
        "def main():\n",
        "  for i in range(20):\n",
        "    print(i * 2)\n",
        "\n",
        "if __name__== \"__main__\":\n",
        "  main()"
      ],
      "metadata": {
        "colab": {
          "base_uri": "https://localhost:8080/"
        },
        "id": "RNqw8e5T9015",
        "outputId": "6cba5478-8960-4f2d-f19c-bb69d9b54ab9"
      },
      "execution_count": 1,
      "outputs": [
        {
          "output_type": "stream",
          "name": "stdout",
          "text": [
            "0\n",
            "2\n",
            "4\n",
            "6\n",
            "8\n",
            "10\n",
            "12\n",
            "14\n",
            "16\n",
            "18\n",
            "20\n",
            "22\n",
            "24\n",
            "26\n",
            "28\n",
            "30\n",
            "32\n",
            "34\n",
            "36\n",
            "38\n"
          ]
        }
      ]
    },
    {
      "cell_type": "markdown",
      "source": [
        "#02_international_voting_age"
      ],
      "metadata": {
        "id": "X57N8FeBDUs6"
      }
    },
    {
      "cell_type": "code",
      "source": [
        "Peturksbouipo : int = 16\n",
        "Stanlau : int = 25\n",
        "Mayengua : int = 48\n",
        "\n",
        "def main ():\n",
        "  age = int(input(\"How old are you? \"))\n",
        "\n",
        "  if age >= Peturksbouipo:\n",
        "    print(f\"Your age is {age}.you are eligible to vote in Peturksbouipo!.\")\n",
        "  else:\n",
        "    print(f\"Your age is {age}.you are not eligible to vote in Peturksbouipo!.\")\n",
        "\n",
        "  if age >= Stanlau:\n",
        "    print(f\"Your age is {age}.you are eligible to vote in Stanlau!.\")\n",
        "  else:\n",
        "    print(f\"Your age is {age}.you are not eligible to vote in Stanlau!.\")\n",
        "\n",
        "  if age >= Mayengua:\n",
        "    print(f\"Your age is {age}.you are eligible to vote in Mayengua!.\")\n",
        "  else:\n",
        "    print(f\"Your age is {age}.you are not eligible to vote in Mayengua!.\")\n",
        "\n",
        "if __name__ == '__main__':\n",
        "   main()"
      ],
      "metadata": {
        "colab": {
          "base_uri": "https://localhost:8080/"
        },
        "id": "HjmLM0RBvTW-",
        "outputId": "528f9cf6-7990-47bf-ac19-113365310563"
      },
      "execution_count": 11,
      "outputs": [
        {
          "output_type": "stream",
          "name": "stdout",
          "text": [
            "How old are you? 20\n",
            "Your age is 20.you are eligible to vote in Peturksbouipo!.\n",
            "Your age is 20.you are not eligible to vote in Stanlau!.\n",
            "Your age is 20.you are not eligible to vote in Mayengua!.\n"
          ]
        }
      ]
    },
    {
      "cell_type": "markdown",
      "source": [
        "\n",
        "#03_leap_year"
      ],
      "metadata": {
        "id": "7qkJHDEq2Wvz"
      }
    },
    {
      "cell_type": "code",
      "source": [
        "def main():\n",
        "    year = int(input(\"Enter a year:\"))\n",
        "\n",
        "    if (year % 4 == 0):\n",
        "        if (year % 100 == 0):\n",
        "            if (year % 400 == 0):\n",
        "                print(\"That's a leap year!\")\n",
        "            else:\n",
        "                print(\"That's not a leap year!\")\n",
        "        else:\n",
        "            print(\"That's a leap year!\")\n",
        "    else:\n",
        "        print(\"That's not a leap year.\")\n",
        "\n",
        "if __name__ == '__main__':\n",
        "  main()"
      ],
      "metadata": {
        "colab": {
          "base_uri": "https://localhost:8080/"
        },
        "id": "a9Fnpbvb2eqn",
        "outputId": "b3c18465-c3ce-4e02-e7c6-48644b7796fd"
      },
      "execution_count": 14,
      "outputs": [
        {
          "output_type": "stream",
          "name": "stdout",
          "text": [
            "Enter a year:2024\n",
            "That's a leap year!\n"
          ]
        }
      ]
    },
    {
      "cell_type": "markdown",
      "source": [
        "#04_tall_enough_to_ride"
      ],
      "metadata": {
        "id": "-EGHQCMW640x"
      }
    },
    {
      "cell_type": "code",
      "source": [
        "minimum_height : int = 50\n",
        "def main():\n",
        "  height = int(input(\"How tall are you? \"))\n",
        "  if height >=minimum_height:\n",
        "    print(\"You are tall enough to ride!\")\n",
        "  else:\n",
        "    print(\"You are not tall enough to ride! Maybe next year.\")\n",
        "\n",
        "if __name__ == '__main__':\n",
        "  main()"
      ],
      "metadata": {
        "colab": {
          "base_uri": "https://localhost:8080/"
        },
        "id": "UWbDU4ii6_qC",
        "outputId": "8b82dd5f-03b9-4b9a-ed41-c4dcec34d430"
      },
      "execution_count": 16,
      "outputs": [
        {
          "output_type": "stream",
          "name": "stdout",
          "text": [
            "How tall are you? 87\n",
            "You are tall enough to ride!\n"
          ]
        }
      ]
    },
    {
      "cell_type": "markdown",
      "source": [
        "#05_random_numbers"
      ],
      "metadata": {
        "id": "O-H6TCgs9RH6"
      }
    },
    {
      "cell_type": "code",
      "source": [
        "import random\n",
        "def main():\n",
        "  for i in range(10):\n",
        "    value = random.randint(1 , 100)\n",
        "    print(value, end=' ')\n",
        "if __name__ == '__main__':\n",
        "  main()"
      ],
      "metadata": {
        "colab": {
          "base_uri": "https://localhost:8080/"
        },
        "id": "CfzLrq4Y9XBt",
        "outputId": "01d880d9-03c2-415c-96d2-d7ba1d8c2046"
      },
      "execution_count": 19,
      "outputs": [
        {
          "output_type": "stream",
          "name": "stdout",
          "text": [
            "28 98 32 70 39 92 15 44 84 70 "
          ]
        }
      ]
    }
  ]
}