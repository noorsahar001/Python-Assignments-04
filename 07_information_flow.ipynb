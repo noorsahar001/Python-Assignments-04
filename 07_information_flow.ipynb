{
  "nbformat": 4,
  "nbformat_minor": 0,
  "metadata": {
    "colab": {
      "provenance": [],
      "authorship_tag": "ABX9TyNQAygZCw/X1npyldg78R7w",
      "include_colab_link": true
    },
    "kernelspec": {
      "name": "python3",
      "display_name": "Python 3"
    },
    "language_info": {
      "name": "python"
    }
  },
  "cells": [
    {
      "cell_type": "markdown",
      "metadata": {
        "id": "view-in-github",
        "colab_type": "text"
      },
      "source": [
        "<a href=\"https://colab.research.google.com/github/noorsahar001/Python-Assignments-04/blob/main/07_information_flow.ipynb\" target=\"_parent\"><img src=\"https://colab.research.google.com/assets/colab-badge.svg\" alt=\"Open In Colab\"/></a>"
      ]
    },
    {
      "cell_type": "markdown",
      "source": [
        "#**07_information_flow**"
      ],
      "metadata": {
        "id": "u8QRn80NiL29"
      }
    },
    {
      "cell_type": "markdown",
      "source": [
        "#00_choosing_returns\n"
      ],
      "metadata": {
        "id": "8EJq8hiziUti"
      }
    },
    {
      "cell_type": "code",
      "source": [
        "ADULT_AGE = 18\n",
        "\n",
        "def is_adult(age):\n",
        "  if age >= ADULT_AGE:\n",
        "    return True\n",
        "  else:\n",
        "    return False\n",
        "\n",
        "def main():\n",
        "  age = int(input(\"How old is this person?: \"))\n",
        "  print(is_adult(age))\n",
        "\n",
        "if __name__ == \"__main__\":\n",
        "  main()"
      ],
      "metadata": {
        "colab": {
          "base_uri": "https://localhost:8080/"
        },
        "id": "T-Mc2TZsiZdt",
        "outputId": "ab649ba3-5fac-43e4-e7e3-300c14e45feb"
      },
      "execution_count": 1,
      "outputs": [
        {
          "output_type": "stream",
          "name": "stdout",
          "text": [
            "How old is this person?: 25\n",
            "True\n"
          ]
        }
      ]
    },
    {
      "cell_type": "markdown",
      "source": [
        "#01_greetings"
      ],
      "metadata": {
        "id": "zfdbQ9_dkdnP"
      }
    },
    {
      "cell_type": "code",
      "source": [
        "def main():\n",
        "  name : str = input(\"What's your name? \")\n",
        "  print(greet(name))\n",
        "\n",
        "def greet(name):\n",
        "  return \" Greetings \" + name + \"!\"\n",
        "\n",
        "if __name__ == \"__main__\":\n",
        "  main()"
      ],
      "metadata": {
        "colab": {
          "base_uri": "https://localhost:8080/"
        },
        "id": "jZwOUMtekjvi",
        "outputId": "8772b90f-3d9f-47c1-ca93-49a08ea3bfe6"
      },
      "execution_count": 3,
      "outputs": [
        {
          "output_type": "stream",
          "name": "stdout",
          "text": [
            "What's your name? Noor Sahar\n",
            " Greetings Noor Sahar!\n"
          ]
        }
      ]
    },
    {
      "cell_type": "markdown",
      "source": [
        "\n",
        "#02_in_range"
      ],
      "metadata": {
        "id": "3vQ1X0awmT5H"
      }
    },
    {
      "cell_type": "code",
      "source": [
        "def in_range(n, low, high):\n",
        "  if n >= low and n <= high:\n",
        "    return True\n",
        "\n",
        "  return False"
      ],
      "metadata": {
        "id": "ndp1JDGnmX4n"
      },
      "execution_count": 8,
      "outputs": []
    },
    {
      "cell_type": "markdown",
      "source": [
        "\n",
        "#03_in_stock"
      ],
      "metadata": {
        "id": "NtIg1IBEoU5J"
      }
    },
    {
      "cell_type": "code",
      "source": [
        "def main():\n",
        "  fruit : str = input(\"Enter a fruit: \")\n",
        "  stock = num_in_stock(fruit)\n",
        "  if stock == 0:\n",
        "    print(\"This fruit is not in stock.\")\n",
        "  else:\n",
        "    print(\"This fruit is in stock! Here is how many: \")\n",
        "    print(stock)\n",
        "\n",
        "def num_in_stock(fruit):\n",
        "  if fruit == 'apple':\n",
        "    return 2\n",
        "  if fruit == 'durian':\n",
        "    return 4\n",
        "  if fruit == 'pear':\n",
        "    return 5000\n",
        "  else:\n",
        "    return 0\n",
        "\n",
        "if __name__ ==\"__main__\":\n",
        "  main()\n",
        ""
      ],
      "metadata": {
        "colab": {
          "base_uri": "https://localhost:8080/"
        },
        "id": "dDlhDqbJoZbM",
        "outputId": "338fbd2d-85dd-458c-e6e1-dd94e78efc2c"
      },
      "execution_count": 9,
      "outputs": [
        {
          "output_type": "stream",
          "name": "stdout",
          "text": [
            "Enter a fruit: pear\n",
            "This fruit is in stock! Here is how many: \n",
            "5000\n"
          ]
        }
      ]
    },
    {
      "cell_type": "markdown",
      "source": [
        "\n",
        "#04_multiple_returns"
      ],
      "metadata": {
        "id": "ut_ZkFQtsGnN"
      }
    },
    {
      "cell_type": "code",
      "source": [
        "def user_info():\n",
        "  first_name = input(\"Enter your first name: \")\n",
        "  last_name = input(\"Enter your last name: \")\n",
        "  email_address = input(\"Enter your email address: \")\n",
        "\n",
        "  return first_name, last_name, email_address\n",
        "\n",
        "def main():\n",
        "  user_data = user_info()\n",
        "  print(f\"Received the following user data: {user_data}\")\n",
        "\n",
        "if __name__ == \"__main__\":\n",
        "  main()"
      ],
      "metadata": {
        "colab": {
          "base_uri": "https://localhost:8080/"
        },
        "id": "dSf0jJ2rsNzH",
        "outputId": "4e32667b-26c2-44f5-b006-40bd72d0e8cd"
      },
      "execution_count": 13,
      "outputs": [
        {
          "output_type": "stream",
          "name": "stdout",
          "text": [
            "Enter your first name: Noor\n",
            "Enter your last name: Sahar\n",
            "Enter your email address: noorsahar@gmail.com\n",
            "Received the following user data: ('Noor', 'Sahar', 'noorsahar@gmail.com')\n"
          ]
        }
      ]
    },
    {
      "cell_type": "markdown",
      "source": [
        "\n",
        "#05_subtract_7"
      ],
      "metadata": {
        "id": "Q9OJcmnQ3GxY"
      }
    },
    {
      "cell_type": "code",
      "source": [
        "def main():\n",
        "  num: int = 7\n",
        "  num = subtract_seven(num)\n",
        "  print(\"this should be zero: \", num)\n",
        "\n",
        "def subtract_seven(num):\n",
        "  num = num - 7\n",
        "  return num\n",
        "\n",
        "if __name__ == \"__main__\":\n",
        "  main()"
      ],
      "metadata": {
        "colab": {
          "base_uri": "https://localhost:8080/"
        },
        "id": "X4YNFGbx3PjQ",
        "outputId": "aa98106c-0d76-4648-df04-1111fe705c0a"
      },
      "execution_count": 14,
      "outputs": [
        {
          "output_type": "stream",
          "name": "stdout",
          "text": [
            "this should be zero:  0\n"
          ]
        }
      ]
    }
  ]
}